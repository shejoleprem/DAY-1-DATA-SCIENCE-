{
 "cells": [
  {
   "cell_type": "markdown",
   "id": "07aff475",
   "metadata": {},
   "source": [
    "# Python-Basics-Day3"
   ]
  },
  {
   "cell_type": "markdown",
   "id": "214fb391",
   "metadata": {},
   "source": [
    "## Logical Operators\n",
    "* and\n",
    "* or\n",
    "* not"
   ]
  },
  {
   "cell_type": "code",
   "execution_count": 1,
   "id": "6c7036c0",
   "metadata": {},
   "outputs": [
    {
     "data": {
      "text/plain": [
       "True"
      ]
     },
     "execution_count": 1,
     "metadata": {},
     "output_type": "execute_result"
    }
   ],
   "source": [
    "True and True"
   ]
  },
  {
   "cell_type": "code",
   "execution_count": 2,
   "id": "930ee029",
   "metadata": {},
   "outputs": [
    {
     "data": {
      "text/plain": [
       "True"
      ]
     },
     "execution_count": 2,
     "metadata": {},
     "output_type": "execute_result"
    }
   ],
   "source": [
    "not bool(0)"
   ]
  },
  {
   "cell_type": "code",
   "execution_count": 3,
   "id": "693d49b9",
   "metadata": {},
   "outputs": [
    {
     "data": {
      "text/plain": [
       "False"
      ]
     },
     "execution_count": 3,
     "metadata": {},
     "output_type": "execute_result"
    }
   ],
   "source": [
    "not 1"
   ]
  },
  {
   "cell_type": "code",
   "execution_count": 4,
   "id": "7b3b674f",
   "metadata": {},
   "outputs": [
    {
     "data": {
      "text/plain": [
       "True"
      ]
     },
     "execution_count": 4,
     "metadata": {},
     "output_type": "execute_result"
    }
   ],
   "source": [
    "not 0"
   ]
  },
  {
   "cell_type": "code",
   "execution_count": 5,
   "id": "ac1bb44f",
   "metadata": {},
   "outputs": [
    {
     "data": {
      "text/plain": [
       "False"
      ]
     },
     "execution_count": 5,
     "metadata": {},
     "output_type": "execute_result"
    }
   ],
   "source": [
    "not -5"
   ]
  },
  {
   "cell_type": "code",
   "execution_count": 6,
   "id": "2c54541f",
   "metadata": {},
   "outputs": [
    {
     "data": {
      "text/plain": [
       "False"
      ]
     },
     "execution_count": 6,
     "metadata": {},
     "output_type": "execute_result"
    }
   ],
   "source": [
    "not 5"
   ]
  },
  {
   "cell_type": "code",
   "execution_count": 8,
   "id": "9dce8ab3",
   "metadata": {},
   "outputs": [
    {
     "name": "stdout",
     "output_type": "stream",
     "text": [
      "negation of 0 is True\n",
      "negation of 1 is False\n"
     ]
    }
   ],
   "source": [
    "zero=0\n",
    "one=1\n",
    "\n",
    "print(f\"negation of {0} is {not zero}\")\n",
    "print(f\"negation of {1} is {not one}\")"
   ]
  },
  {
   "cell_type": "markdown",
   "id": "8f78d8de",
   "metadata": {},
   "source": [
    "## Logical And"
   ]
  },
  {
   "cell_type": "code",
   "execution_count": 9,
   "id": "84478a8f",
   "metadata": {},
   "outputs": [
    {
     "name": "stdout",
     "output_type": "stream",
     "text": [
      "dish prepared was good:False\n"
     ]
    }
   ],
   "source": [
    "vege=True\n",
    "salt=False\n",
    "dish=vege and salt\n",
    "\n",
    "print(f\"dish prepared was good:{dish}\")"
   ]
  },
  {
   "cell_type": "code",
   "execution_count": 10,
   "id": "1ff9251f",
   "metadata": {},
   "outputs": [
    {
     "data": {
      "text/plain": [
       "0"
      ]
     },
     "execution_count": 10,
     "metadata": {},
     "output_type": "execute_result"
    }
   ],
   "source": [
    "False * False"
   ]
  },
  {
   "cell_type": "code",
   "execution_count": 11,
   "id": "d610a92e",
   "metadata": {},
   "outputs": [
    {
     "data": {
      "text/plain": [
       "1"
      ]
     },
     "execution_count": 11,
     "metadata": {},
     "output_type": "execute_result"
    }
   ],
   "source": [
    "True * True"
   ]
  },
  {
   "cell_type": "code",
   "execution_count": 12,
   "id": "7ab8f599",
   "metadata": {},
   "outputs": [
    {
     "ename": "SyntaxError",
     "evalue": "invalid syntax (930031231.py, line 1)",
     "output_type": "error",
     "traceback": [
      "\u001b[1;36m  Cell \u001b[1;32mIn [12], line 1\u001b[1;36m\u001b[0m\n\u001b[1;33m    False * not(False)\u001b[0m\n\u001b[1;37m            ^\u001b[0m\n\u001b[1;31mSyntaxError\u001b[0m\u001b[1;31m:\u001b[0m invalid syntax\n"
     ]
    }
   ],
   "source": [
    "False * not(False)"
   ]
  },
  {
   "cell_type": "code",
   "execution_count": 13,
   "id": "fd52c575",
   "metadata": {},
   "outputs": [
    {
     "data": {
      "text/plain": [
       "0"
      ]
     },
     "execution_count": 13,
     "metadata": {},
     "output_type": "execute_result"
    }
   ],
   "source": [
    "False * (not(False))"
   ]
  },
  {
   "cell_type": "code",
   "execution_count": 14,
   "id": "f00a09c9",
   "metadata": {},
   "outputs": [
    {
     "data": {
      "text/plain": [
       "True"
      ]
     },
     "execution_count": 14,
     "metadata": {},
     "output_type": "execute_result"
    }
   ],
   "source": [
    "not(False)*False"
   ]
  },
  {
   "cell_type": "code",
   "execution_count": 15,
   "id": "1412c7bf",
   "metadata": {},
   "outputs": [
    {
     "data": {
      "text/plain": [
       "0"
      ]
     },
     "execution_count": 15,
     "metadata": {},
     "output_type": "execute_result"
    }
   ],
   "source": [
    "# precedence comes here\n",
    "(not(False))*False"
   ]
  },
  {
   "cell_type": "code",
   "execution_count": 16,
   "id": "d77db2d3",
   "metadata": {},
   "outputs": [
    {
     "data": {
      "text/plain": [
       "False"
      ]
     },
     "execution_count": 16,
     "metadata": {},
     "output_type": "execute_result"
    }
   ],
   "source": [
    "(not(False))*False==True"
   ]
  },
  {
   "cell_type": "code",
   "execution_count": 17,
   "id": "937e3fcb",
   "metadata": {},
   "outputs": [
    {
     "data": {
      "text/plain": [
       "False"
      ]
     },
     "execution_count": 17,
     "metadata": {},
     "output_type": "execute_result"
    }
   ],
   "source": [
    "False or False"
   ]
  },
  {
   "cell_type": "code",
   "execution_count": 18,
   "id": "653eab1d",
   "metadata": {},
   "outputs": [
    {
     "data": {
      "text/plain": [
       "True"
      ]
     },
     "execution_count": 18,
     "metadata": {},
     "output_type": "execute_result"
    }
   ],
   "source": [
    "True or False"
   ]
  },
  {
   "cell_type": "markdown",
   "id": "49c405e3",
   "metadata": {},
   "source": [
    "## Equality Operators"
   ]
  },
  {
   "cell_type": "code",
   "execution_count": 20,
   "id": "d7711cef",
   "metadata": {},
   "outputs": [],
   "source": [
    "lsta=[1,2,3,4]\n",
    "lstb=[1,2,3,4]"
   ]
  },
  {
   "cell_type": "code",
   "execution_count": 21,
   "id": "774f847a",
   "metadata": {},
   "outputs": [
    {
     "name": "stdout",
     "output_type": "stream",
     "text": [
      "2788350786496\n",
      "2788350877568\n"
     ]
    }
   ],
   "source": [
    "#Address\n",
    "print(id(lsta))\n",
    "\n",
    "print(id(lstb))\n"
   ]
  },
  {
   "cell_type": "code",
   "execution_count": 22,
   "id": "cdbea752",
   "metadata": {},
   "outputs": [
    {
     "data": {
      "text/plain": [
       "False"
      ]
     },
     "execution_count": 22,
     "metadata": {},
     "output_type": "execute_result"
    }
   ],
   "source": [
    "lsta is lstb\n",
    "# gives false becuz address is different"
   ]
  },
  {
   "cell_type": "code",
   "execution_count": 24,
   "id": "5306f16a",
   "metadata": {},
   "outputs": [],
   "source": [
    "lstc=lsta"
   ]
  },
  {
   "cell_type": "code",
   "execution_count": 25,
   "id": "40c88c59",
   "metadata": {},
   "outputs": [
    {
     "name": "stdout",
     "output_type": "stream",
     "text": [
      "2788350786496\n",
      "2788350786496\n"
     ]
    }
   ],
   "source": [
    "print(id(lsta))\n",
    "\n",
    "print(id(lstc))"
   ]
  },
  {
   "cell_type": "code",
   "execution_count": 26,
   "id": "fcbe8653",
   "metadata": {},
   "outputs": [
    {
     "data": {
      "text/plain": [
       "True"
      ]
     },
     "execution_count": 26,
     "metadata": {},
     "output_type": "execute_result"
    }
   ],
   "source": [
    "lsta is lstc"
   ]
  },
  {
   "cell_type": "code",
   "execution_count": 27,
   "id": "4afaaf79",
   "metadata": {},
   "outputs": [
    {
     "data": {
      "text/plain": [
       "True"
      ]
     },
     "execution_count": 27,
     "metadata": {},
     "output_type": "execute_result"
    }
   ],
   "source": [
    "#checking for memory location\n",
    "lsta is not lstb"
   ]
  },
  {
   "cell_type": "code",
   "execution_count": 28,
   "id": "739df16d",
   "metadata": {},
   "outputs": [
    {
     "data": {
      "text/plain": [
       "True"
      ]
     },
     "execution_count": 28,
     "metadata": {},
     "output_type": "execute_result"
    }
   ],
   "source": [
    "#checking values\n",
    "lsta==lstb"
   ]
  },
  {
   "cell_type": "code",
   "execution_count": 29,
   "id": "281f7440",
   "metadata": {},
   "outputs": [],
   "source": [
    "a=2;\n",
    "b=2"
   ]
  },
  {
   "cell_type": "code",
   "execution_count": 30,
   "id": "b971c2a5",
   "metadata": {},
   "outputs": [
    {
     "name": "stdout",
     "output_type": "stream",
     "text": [
      "2788239343888\n",
      "2788239343888\n"
     ]
    }
   ],
   "source": [
    "print(id(a))\n",
    "print(id(b))"
   ]
  },
  {
   "cell_type": "code",
   "execution_count": 32,
   "id": "4c40dc94",
   "metadata": {},
   "outputs": [
    {
     "name": "stdout",
     "output_type": "stream",
     "text": [
      "2788351184880\n",
      "2788351184880\n"
     ]
    }
   ],
   "source": [
    "str1=\"prem\"\n",
    "str2=\"prem\"\n",
    "print(id(str1))\n",
    "print(id(str2))"
   ]
  },
  {
   "cell_type": "code",
   "execution_count": 33,
   "id": "6e575a7e",
   "metadata": {},
   "outputs": [
    {
     "name": "stdout",
     "output_type": "stream",
     "text": [
      "2788351184880\n",
      "2788321794864\n"
     ]
    }
   ],
   "source": [
    "str1=\"prem\"\n",
    "str2=\"prem1\"\n",
    "print(id(str1))\n",
    "print(id(str2))"
   ]
  },
  {
   "cell_type": "code",
   "execution_count": 44,
   "id": "f841f27c",
   "metadata": {},
   "outputs": [],
   "source": [
    "lsta[0]=1\n"
   ]
  },
  {
   "cell_type": "code",
   "execution_count": null,
   "id": "caf9025f",
   "metadata": {},
   "outputs": [],
   "source": []
  },
  {
   "cell_type": "code",
   "execution_count": 45,
   "id": "2b4e4269",
   "metadata": {},
   "outputs": [
    {
     "data": {
      "text/plain": [
       "[1, 2, 3, 4]"
      ]
     },
     "execution_count": 45,
     "metadata": {},
     "output_type": "execute_result"
    }
   ],
   "source": [
    "lsta"
   ]
  },
  {
   "cell_type": "markdown",
   "id": "e9b5f6be",
   "metadata": {},
   "source": [
    "# List is mutable \n",
    "# String is immutable"
   ]
  },
  {
   "cell_type": "code",
   "execution_count": 36,
   "id": "abaebe6c",
   "metadata": {},
   "outputs": [
    {
     "ename": "TypeError",
     "evalue": "'str' object does not support item assignment",
     "output_type": "error",
     "traceback": [
      "\u001b[1;31m---------------------------------------------------------------------------\u001b[0m",
      "\u001b[1;31mTypeError\u001b[0m                                 Traceback (most recent call last)",
      "Cell \u001b[1;32mIn [36], line 2\u001b[0m\n\u001b[0;32m      1\u001b[0m str1\u001b[38;5;241m=\u001b[39m\u001b[38;5;124m\"\u001b[39m\u001b[38;5;124mpower\u001b[39m\u001b[38;5;124m\"\u001b[39m\n\u001b[1;32m----> 2\u001b[0m str1[\u001b[38;5;241m0\u001b[39m]\u001b[38;5;241m=\u001b[39m\u001b[38;5;124m'\u001b[39m\u001b[38;5;124ml\u001b[39m\u001b[38;5;124m'\u001b[39m\n",
      "\u001b[1;31mTypeError\u001b[0m: 'str' object does not support item assignment"
     ]
    }
   ],
   "source": [
    "str1=\"power\"\n",
    "str1[0]='l'"
   ]
  },
  {
   "cell_type": "markdown",
   "id": "e2ac9e86",
   "metadata": {},
   "source": [
    "## comparison operation\n",
    "* (<)\n",
    "* (<=)\n",
    "* (>)\n",
    "* (>=)"
   ]
  },
  {
   "cell_type": "code",
   "execution_count": 47,
   "id": "0e19eb40",
   "metadata": {},
   "outputs": [
    {
     "name": "stdout",
     "output_type": "stream",
     "text": [
      "a is greater than b: True\n"
     ]
    }
   ],
   "source": [
    "a=200\n",
    "b=100\n",
    "print(f\"a is greater than b: {a>b}\")"
   ]
  },
  {
   "cell_type": "code",
   "execution_count": null,
   "id": "c494fd74",
   "metadata": {},
   "outputs": [],
   "source": []
  },
  {
   "cell_type": "markdown",
   "id": "f54355e3",
   "metadata": {},
   "source": [
    "## Arithmatic operation"
   ]
  },
  {
   "cell_type": "code",
   "execution_count": 48,
   "id": "4aa8a480",
   "metadata": {},
   "outputs": [],
   "source": [
    "a=25\n",
    "b=101"
   ]
  },
  {
   "cell_type": "code",
   "execution_count": 49,
   "id": "85d25037",
   "metadata": {},
   "outputs": [
    {
     "data": {
      "text/plain": [
       "2525"
      ]
     },
     "execution_count": 49,
     "metadata": {},
     "output_type": "execute_result"
    }
   ],
   "source": [
    "b*a"
   ]
  },
  {
   "cell_type": "code",
   "execution_count": 50,
   "id": "f597c906",
   "metadata": {},
   "outputs": [
    {
     "data": {
      "text/plain": [
       "4.04"
      ]
     },
     "execution_count": 50,
     "metadata": {},
     "output_type": "execute_result"
    }
   ],
   "source": [
    "b/a"
   ]
  },
  {
   "cell_type": "code",
   "execution_count": 52,
   "id": "e756cb8d",
   "metadata": {},
   "outputs": [
    {
     "data": {
      "text/plain": [
       "4"
      ]
     },
     "execution_count": 52,
     "metadata": {},
     "output_type": "execute_result"
    }
   ],
   "source": [
    "# integer devision\n",
    "b//a"
   ]
  },
  {
   "cell_type": "code",
   "execution_count": 54,
   "id": "958abe2f",
   "metadata": {},
   "outputs": [
    {
     "data": {
      "text/plain": [
       "1"
      ]
     },
     "execution_count": 54,
     "metadata": {},
     "output_type": "execute_result"
    }
   ],
   "source": [
    "# display the remainder\n",
    "b%a"
   ]
  },
  {
   "cell_type": "markdown",
   "id": "101447f6",
   "metadata": {},
   "source": [
    "## Bitwise Operators"
   ]
  },
  {
   "cell_type": "code",
   "execution_count": 55,
   "id": "a7463178",
   "metadata": {},
   "outputs": [
    {
     "data": {
      "text/plain": [
       "'0b1010'"
      ]
     },
     "execution_count": 55,
     "metadata": {},
     "output_type": "execute_result"
    }
   ],
   "source": [
    "#binary of decimal\n",
    "var=10\n",
    "bin(var)"
   ]
  },
  {
   "cell_type": "code",
   "execution_count": 56,
   "id": "cf341077",
   "metadata": {},
   "outputs": [
    {
     "data": {
      "text/plain": [
       "-11"
      ]
     },
     "execution_count": 56,
     "metadata": {},
     "output_type": "execute_result"
    }
   ],
   "source": [
    "~var"
   ]
  },
  {
   "cell_type": "code",
   "execution_count": 123,
   "id": "f20f8a5b",
   "metadata": {},
   "outputs": [
    {
     "data": {
      "text/plain": [
       "'-0b1010'"
      ]
     },
     "execution_count": 123,
     "metadata": {},
     "output_type": "execute_result"
    }
   ],
   "source": [
    "bin(-10)"
   ]
  },
  {
   "cell_type": "code",
   "execution_count": null,
   "id": "8b13294d",
   "metadata": {},
   "outputs": [],
   "source": []
  },
  {
   "cell_type": "markdown",
   "id": "dd30018b",
   "metadata": {},
   "source": [
    "# Data Structures\n",
    "## Strings"
   ]
  },
  {
   "cell_type": "code",
   "execution_count": 57,
   "id": "60b94453",
   "metadata": {},
   "outputs": [],
   "source": [
    "str1=\"welcome to Data Science\""
   ]
  },
  {
   "cell_type": "code",
   "execution_count": 58,
   "id": "814012ec",
   "metadata": {},
   "outputs": [
    {
     "data": {
      "text/plain": [
       "str"
      ]
     },
     "execution_count": 58,
     "metadata": {},
     "output_type": "execute_result"
    }
   ],
   "source": [
    "type(str1)"
   ]
  },
  {
   "cell_type": "code",
   "execution_count": 59,
   "id": "74d51c15",
   "metadata": {},
   "outputs": [
    {
     "name": "stdout",
     "output_type": "stream",
     "text": [
      "prem\n"
     ]
    }
   ],
   "source": [
    "# we can not change element in string but we can change complete string\n",
    "str1=\"prem\"\n",
    "print(str1)"
   ]
  },
  {
   "cell_type": "code",
   "execution_count": 64,
   "id": "6f9d8c73",
   "metadata": {},
   "outputs": [
    {
     "data": {
      "text/plain": [
       "'e'"
      ]
     },
     "execution_count": 64,
     "metadata": {},
     "output_type": "execute_result"
    }
   ],
   "source": [
    "str1[2]"
   ]
  },
  {
   "cell_type": "code",
   "execution_count": 65,
   "id": "10beb3a5",
   "metadata": {},
   "outputs": [],
   "source": [
    "string=\"PW skills data science\""
   ]
  },
  {
   "cell_type": "code",
   "execution_count": 66,
   "id": "09a555d9",
   "metadata": {},
   "outputs": [
    {
     "data": {
      "text/plain": [
       "'i'"
      ]
     },
     "execution_count": 66,
     "metadata": {},
     "output_type": "execute_result"
    }
   ],
   "source": [
    "string[5]"
   ]
  },
  {
   "cell_type": "markdown",
   "id": "baf9c490",
   "metadata": {},
   "source": [
    "### String Slicing"
   ]
  },
  {
   "cell_type": "code",
   "execution_count": 67,
   "id": "9e2eb5e7",
   "metadata": {},
   "outputs": [
    {
     "data": {
      "text/plain": [
       "'ills data science'"
      ]
     },
     "execution_count": 67,
     "metadata": {},
     "output_type": "execute_result"
    }
   ],
   "source": [
    "string[5:]"
   ]
  },
  {
   "cell_type": "code",
   "execution_count": 68,
   "id": "6da197f1",
   "metadata": {},
   "outputs": [
    {
     "data": {
      "text/plain": [
       "'ills d'"
      ]
     },
     "execution_count": 68,
     "metadata": {},
     "output_type": "execute_result"
    }
   ],
   "source": [
    "string[5:11]"
   ]
  },
  {
   "cell_type": "code",
   "execution_count": 69,
   "id": "c3c904da",
   "metadata": {},
   "outputs": [
    {
     "data": {
      "text/plain": [
       "'e'"
      ]
     },
     "execution_count": 69,
     "metadata": {},
     "output_type": "execute_result"
    }
   ],
   "source": [
    "string[-1]"
   ]
  },
  {
   "cell_type": "code",
   "execution_count": 73,
   "id": "98658f23",
   "metadata": {},
   "outputs": [
    {
     "data": {
      "text/plain": [
       "'e'"
      ]
     },
     "execution_count": 73,
     "metadata": {},
     "output_type": "execute_result"
    }
   ],
   "source": [
    "string[-1]"
   ]
  },
  {
   "cell_type": "code",
   "execution_count": 74,
   "id": "83a50a1c",
   "metadata": {},
   "outputs": [
    {
     "data": {
      "text/plain": [
       "'nce'"
      ]
     },
     "execution_count": 74,
     "metadata": {},
     "output_type": "execute_result"
    }
   ],
   "source": [
    "string[-3:]"
   ]
  },
  {
   "cell_type": "code",
   "execution_count": 75,
   "id": "d3e2cd30",
   "metadata": {},
   "outputs": [
    {
     "data": {
      "text/plain": [
       "''"
      ]
     },
     "execution_count": 75,
     "metadata": {},
     "output_type": "execute_result"
    }
   ],
   "source": [
    "string[-7:5]"
   ]
  },
  {
   "cell_type": "code",
   "execution_count": 76,
   "id": "9157b3b9",
   "metadata": {},
   "outputs": [
    {
     "data": {
      "text/plain": [
       "'scie'"
      ]
     },
     "execution_count": 76,
     "metadata": {},
     "output_type": "execute_result"
    }
   ],
   "source": [
    "string[-7:-3]"
   ]
  },
  {
   "cell_type": "code",
   "execution_count": 77,
   "id": "9ed4283d",
   "metadata": {},
   "outputs": [
    {
     "data": {
      "text/plain": [
       "''"
      ]
     },
     "execution_count": 77,
     "metadata": {},
     "output_type": "execute_result"
    }
   ],
   "source": [
    "string[-10:10]"
   ]
  },
  {
   "cell_type": "code",
   "execution_count": 78,
   "id": "61ed13e5",
   "metadata": {},
   "outputs": [
    {
     "data": {
      "text/plain": [
       "'PW skills data scienc'"
      ]
     },
     "execution_count": 78,
     "metadata": {},
     "output_type": "execute_result"
    }
   ],
   "source": [
    "string[:-1]"
   ]
  },
  {
   "cell_type": "code",
   "execution_count": 79,
   "id": "0bc35d2d",
   "metadata": {},
   "outputs": [
    {
     "data": {
      "text/plain": [
       "'PW skills data science'"
      ]
     },
     "execution_count": 79,
     "metadata": {},
     "output_type": "execute_result"
    }
   ],
   "source": [
    "string[:]"
   ]
  },
  {
   "cell_type": "code",
   "execution_count": 80,
   "id": "88f6f5fd",
   "metadata": {},
   "outputs": [
    {
     "data": {
      "text/plain": [
       "'PW skills data science'"
      ]
     },
     "execution_count": 80,
     "metadata": {},
     "output_type": "execute_result"
    }
   ],
   "source": [
    "string"
   ]
  },
  {
   "cell_type": "code",
   "execution_count": 83,
   "id": "05a33b62",
   "metadata": {},
   "outputs": [
    {
     "data": {
      "text/plain": [
       "'ecneics atad slliks WP'"
      ]
     },
     "execution_count": 83,
     "metadata": {},
     "output_type": "execute_result"
    }
   ],
   "source": [
    "#reverse string\n",
    "#string[start:stop:step size]\n",
    "string[::-1]"
   ]
  },
  {
   "cell_type": "code",
   "execution_count": 84,
   "id": "b5630c2e",
   "metadata": {},
   "outputs": [
    {
     "data": {
      "text/plain": [
       "'enisaa lisW'"
      ]
     },
     "execution_count": 84,
     "metadata": {},
     "output_type": "execute_result"
    }
   ],
   "source": [
    "string[::-2]"
   ]
  },
  {
   "cell_type": "code",
   "execution_count": 86,
   "id": "23eb7ca0",
   "metadata": {},
   "outputs": [
    {
     "data": {
      "text/plain": [
       "'P klsdt cec'"
      ]
     },
     "execution_count": 86,
     "metadata": {},
     "output_type": "execute_result"
    }
   ],
   "source": [
    "string[::2]"
   ]
  },
  {
   "cell_type": "code",
   "execution_count": 87,
   "id": "e38d1290",
   "metadata": {},
   "outputs": [
    {
     "data": {
      "text/plain": [
       "'pm'"
      ]
     },
     "execution_count": 87,
     "metadata": {},
     "output_type": "execute_result"
    }
   ],
   "source": [
    "name=\"prem\"\n",
    "name[::3]"
   ]
  },
  {
   "cell_type": "code",
   "execution_count": 88,
   "id": "ba6d5456",
   "metadata": {},
   "outputs": [
    {
     "data": {
      "text/plain": [
       "'mp'"
      ]
     },
     "execution_count": 88,
     "metadata": {},
     "output_type": "execute_result"
    }
   ],
   "source": [
    "name[::-3]"
   ]
  },
  {
   "cell_type": "code",
   "execution_count": 90,
   "id": "dd5d0979",
   "metadata": {},
   "outputs": [
    {
     "data": {
      "text/plain": [
       "'erp'"
      ]
     },
     "execution_count": 90,
     "metadata": {},
     "output_type": "execute_result"
    }
   ],
   "source": [
    "name[2::-1]"
   ]
  },
  {
   "cell_type": "code",
   "execution_count": 91,
   "id": "a11ac592",
   "metadata": {},
   "outputs": [
    {
     "data": {
      "text/plain": [
       "'e'"
      ]
     },
     "execution_count": 91,
     "metadata": {},
     "output_type": "execute_result"
    }
   ],
   "source": [
    "name[2:1:-1]"
   ]
  },
  {
   "cell_type": "code",
   "execution_count": 92,
   "id": "a0aef6a2",
   "metadata": {},
   "outputs": [],
   "source": [
    "#assignment\n",
    "crsname=\"Data Science Masters\""
   ]
  },
  {
   "cell_type": "code",
   "execution_count": 93,
   "id": "952199d4",
   "metadata": {},
   "outputs": [
    {
     "data": {
      "text/plain": [
       "'Science'"
      ]
     },
     "execution_count": 93,
     "metadata": {},
     "output_type": "execute_result"
    }
   ],
   "source": [
    "crsname[5:12]"
   ]
  },
  {
   "cell_type": "code",
   "execution_count": 98,
   "id": "1cf4db61",
   "metadata": {},
   "outputs": [
    {
     "data": {
      "text/plain": [
       "'ecneicS'"
      ]
     },
     "execution_count": 98,
     "metadata": {},
     "output_type": "execute_result"
    }
   ],
   "source": [
    "crsname[11:4:-1]"
   ]
  },
  {
   "cell_type": "code",
   "execution_count": 101,
   "id": "aebd4efe",
   "metadata": {},
   "outputs": [
    {
     "data": {
      "text/plain": [
       "'sretsaM ecneicS ataD'"
      ]
     },
     "execution_count": 101,
     "metadata": {},
     "output_type": "execute_result"
    }
   ],
   "source": [
    "crsname[20::-1]"
   ]
  },
  {
   "cell_type": "code",
   "execution_count": 103,
   "id": "0a2e5694",
   "metadata": {},
   "outputs": [
    {
     "data": {
      "text/plain": [
       "'Data Science Masters Course'"
      ]
     },
     "execution_count": 103,
     "metadata": {},
     "output_type": "execute_result"
    }
   ],
   "source": []
  },
  {
   "cell_type": "markdown",
   "id": "e6d68b6c",
   "metadata": {},
   "source": [
    "### concatenation"
   ]
  },
  {
   "cell_type": "code",
   "execution_count": 104,
   "id": "37bc17a1",
   "metadata": {},
   "outputs": [
    {
     "data": {
      "text/plain": [
       "'Data Science Masters Course'"
      ]
     },
     "execution_count": 104,
     "metadata": {},
     "output_type": "execute_result"
    }
   ],
   "source": [
    "crsname + \" Course\""
   ]
  },
  {
   "cell_type": "code",
   "execution_count": 105,
   "id": "436ab2ee",
   "metadata": {},
   "outputs": [
    {
     "name": "stdout",
     "output_type": "stream",
     "text": [
      "hello world\n"
     ]
    }
   ],
   "source": [
    "print(\"hello \"+\"world\")"
   ]
  },
  {
   "cell_type": "code",
   "execution_count": 106,
   "id": "60fa39bc",
   "metadata": {},
   "outputs": [
    {
     "data": {
      "text/plain": [
       "'Data Science MastersData Science MastersData Science MastersData Science MastersData Science Masters'"
      ]
     },
     "execution_count": 106,
     "metadata": {},
     "output_type": "execute_result"
    }
   ],
   "source": [
    "crsname*5"
   ]
  },
  {
   "cell_type": "markdown",
   "id": "dbdeb157",
   "metadata": {},
   "source": [
    "#### length of string"
   ]
  },
  {
   "cell_type": "code",
   "execution_count": 107,
   "id": "c493e62f",
   "metadata": {},
   "outputs": [
    {
     "data": {
      "text/plain": [
       "20"
      ]
     },
     "execution_count": 107,
     "metadata": {},
     "output_type": "execute_result"
    }
   ],
   "source": [
    "len(crsname)"
   ]
  },
  {
   "cell_type": "markdown",
   "id": "aa8c9738",
   "metadata": {},
   "source": [
    "### find function"
   ]
  },
  {
   "cell_type": "code",
   "execution_count": 110,
   "id": "3f421e36",
   "metadata": {},
   "outputs": [
    {
     "data": {
      "text/plain": [
       "1"
      ]
     },
     "execution_count": 110,
     "metadata": {},
     "output_type": "execute_result"
    }
   ],
   "source": [
    "crsname.find(\"a\")"
   ]
  },
  {
   "cell_type": "code",
   "execution_count": 111,
   "id": "9c9801e8",
   "metadata": {},
   "outputs": [
    {
     "data": {
      "text/plain": [
       "3"
      ]
     },
     "execution_count": 111,
     "metadata": {},
     "output_type": "execute_result"
    }
   ],
   "source": [
    "crsname.find(\"a\",2,10)"
   ]
  },
  {
   "cell_type": "markdown",
   "id": "319f6548",
   "metadata": {},
   "source": [
    "### count function"
   ]
  },
  {
   "cell_type": "code",
   "execution_count": 112,
   "id": "4fb4be25",
   "metadata": {},
   "outputs": [
    {
     "data": {
      "text/plain": [
       "3"
      ]
     },
     "execution_count": 112,
     "metadata": {},
     "output_type": "execute_result"
    }
   ],
   "source": [
    "crsname.count(\"a\")"
   ]
  },
  {
   "cell_type": "code",
   "execution_count": 113,
   "id": "b0f1f761",
   "metadata": {},
   "outputs": [
    {
     "data": {
      "text/plain": [
       "2"
      ]
     },
     "execution_count": 113,
     "metadata": {},
     "output_type": "execute_result"
    }
   ],
   "source": [
    "crsname.count(\" \")"
   ]
  },
  {
   "cell_type": "markdown",
   "id": "f64cee98",
   "metadata": {},
   "source": [
    "### .split method"
   ]
  },
  {
   "cell_type": "code",
   "execution_count": 130,
   "id": "3de1bc86",
   "metadata": {},
   "outputs": [
    {
     "data": {
      "text/plain": [
       "['Data', 'Science', 'Masters']"
      ]
     },
     "execution_count": 130,
     "metadata": {},
     "output_type": "execute_result"
    }
   ],
   "source": [
    "#split string at  space \n",
    "crsname.split(\" \")"
   ]
  },
  {
   "cell_type": "code",
   "execution_count": 131,
   "id": "df056d48",
   "metadata": {},
   "outputs": [
    {
     "name": "stdout",
     "output_type": "stream",
     "text": [
      "yes\n"
     ]
    }
   ],
   "source": [
    "list1=crsname.split(\" \")\n",
    "for x in list1:\n",
    "    if x=='Masters':\n",
    "        print(\"yes\")"
   ]
  },
  {
   "cell_type": "code",
   "execution_count": 115,
   "id": "c9c21921",
   "metadata": {},
   "outputs": [
    {
     "data": {
      "text/plain": [
       "['Data ', 'cience Masters']"
      ]
     },
     "execution_count": 115,
     "metadata": {},
     "output_type": "execute_result"
    }
   ],
   "source": [
    "crsname.split(\"S\")"
   ]
  },
  {
   "cell_type": "code",
   "execution_count": 116,
   "id": "1ea519df",
   "metadata": {},
   "outputs": [
    {
     "data": {
      "text/plain": [
       "['Data Science Ma', 'ter', '']"
      ]
     },
     "execution_count": 116,
     "metadata": {},
     "output_type": "execute_result"
    }
   ],
   "source": [
    "crsname.split(\"s\")"
   ]
  },
  {
   "cell_type": "markdown",
   "id": "010da3d8",
   "metadata": {},
   "source": [
    "### partition method"
   ]
  },
  {
   "cell_type": "code",
   "execution_count": 117,
   "id": "cfdba59b",
   "metadata": {},
   "outputs": [
    {
     "data": {
      "text/plain": [
       "('Data Science Ma', 's', 'ters')"
      ]
     },
     "execution_count": 117,
     "metadata": {},
     "output_type": "execute_result"
    }
   ],
   "source": [
    "##split string at first s\n",
    "crsname.partition(\"s\")"
   ]
  },
  {
   "cell_type": "code",
   "execution_count": 118,
   "id": "9e4587d3",
   "metadata": {},
   "outputs": [
    {
     "data": {
      "text/plain": [
       "'DATA SCIENCE MASTERS'"
      ]
     },
     "execution_count": 118,
     "metadata": {},
     "output_type": "execute_result"
    }
   ],
   "source": [
    "crsname.upper()"
   ]
  },
  {
   "cell_type": "code",
   "execution_count": 119,
   "id": "1e649e93",
   "metadata": {},
   "outputs": [
    {
     "data": {
      "text/plain": [
       "'data science masters'"
      ]
     },
     "execution_count": 119,
     "metadata": {},
     "output_type": "execute_result"
    }
   ],
   "source": [
    "crsname.lower()"
   ]
  },
  {
   "cell_type": "code",
   "execution_count": 121,
   "id": "14cb8efd",
   "metadata": {},
   "outputs": [
    {
     "data": {
      "text/plain": [
       "'Data Science Masters'"
      ]
     },
     "execution_count": 121,
     "metadata": {},
     "output_type": "execute_result"
    }
   ],
   "source": [
    "crsname.title()"
   ]
  },
  {
   "cell_type": "code",
   "execution_count": 122,
   "id": "5b4c8f59",
   "metadata": {},
   "outputs": [
    {
     "data": {
      "text/plain": [
       "'dATA sCIENCE mASTERS'"
      ]
     },
     "execution_count": 122,
     "metadata": {},
     "output_type": "execute_result"
    }
   ],
   "source": [
    "crsname.swapcase()"
   ]
  },
  {
   "cell_type": "code",
   "execution_count": null,
   "id": "b6033923",
   "metadata": {},
   "outputs": [],
   "source": []
  }
 ],
 "metadata": {
  "kernelspec": {
   "display_name": "Python 3 (ipykernel)",
   "language": "python",
   "name": "python3"
  },
  "language_info": {
   "codemirror_mode": {
    "name": "ipython",
    "version": 3
   },
   "file_extension": ".py",
   "mimetype": "text/x-python",
   "name": "python",
   "nbconvert_exporter": "python",
   "pygments_lexer": "ipython3",
   "version": "3.10.7"
  }
 },
 "nbformat": 4,
 "nbformat_minor": 5
}
