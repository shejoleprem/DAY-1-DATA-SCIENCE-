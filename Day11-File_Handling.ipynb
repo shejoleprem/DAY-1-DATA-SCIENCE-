{
 "cells": [
  {
   "cell_type": "markdown",
   "id": "86a375ac",
   "metadata": {},
   "source": [
    "# Day11-File Handling\n",
    "\n",
    "### name: Prem Shejole"
   ]
  },
  {
   "cell_type": "code",
   "execution_count": 74,
   "id": "1a42446e",
   "metadata": {},
   "outputs": [],
   "source": [
    "#open file into write mode\n",
    "f=open(\"test.text\",'w')"
   ]
  },
  {
   "cell_type": "code",
   "execution_count": 75,
   "id": "09333833",
   "metadata": {},
   "outputs": [
    {
     "ename": "NameError",
     "evalue": "name 'pwd' is not defined",
     "output_type": "error",
     "traceback": [
      "\u001b[1;31m---------------------------------------------------------------------------\u001b[0m",
      "\u001b[1;31mNameError\u001b[0m                                 Traceback (most recent call last)",
      "Cell \u001b[1;32mIn [75], line 2\u001b[0m\n\u001b[0;32m      1\u001b[0m \u001b[38;5;66;03m# present working directory\u001b[39;00m\n\u001b[1;32m----> 2\u001b[0m pwd\n",
      "\u001b[1;31mNameError\u001b[0m: name 'pwd' is not defined"
     ]
    }
   ],
   "source": [
    "# present working directory\n",
    "pwd"
   ]
  },
  {
   "cell_type": "code",
   "execution_count": 76,
   "id": "ce44c050",
   "metadata": {},
   "outputs": [
    {
     "name": "stdout",
     "output_type": "stream",
     "text": [
      " Volume in drive E is DATA\n",
      " Volume Serial Number is F640-9F85\n",
      "\n",
      " Directory of E:\\DATA SCIENCE MASTERS\n",
      "\n",
      "12-02-2023  19:48    <DIR>          .\n",
      "12-02-2023  19:06    <DIR>          .ipynb_checkpoints\n",
      "03-02-2023  14:17            57,911 Assignment 1.pdf\n",
      "08-02-2023  09:37             9,895 Assignment_3.ipynb\n",
      "08-02-2023  09:42             8,987 Assignment_4-03 Feb.ipynb\n",
      "06-02-2023  11:11             5,633 Assignment_5.ipynb\n",
      "10-02-2023  17:21             8,785 Assignment_6(5-Feb).ipynb\n",
      "10-02-2023  17:33             1,938 Assignment_7(6-feb).ipynb\n",
      "12-02-2023  17:55             9,805 Assignment_9-Feb.ipynb\n",
      "03-02-2023  13:34             7,102 Assignment-2.ipynb\n",
      "01-02-2023  20:35            13,365 Day1.ipynb\n",
      "11-02-2023  20:09            13,480 Day10-oops(Decorators,class method,Static method).ipynb\n",
      "12-02-2023  17:53             6,539 Day10-property_decorators(getters&setters).ipynb\n",
      "11-02-2023  20:09            10,446 Day10-Special Methods.ipynb\n",
      "12-02-2023  19:10            15,405 Day11-File_Handling.ipynb\n",
      "30-01-2023  20:21             2,395 Day1Intro.ipynb\n",
      "30-01-2023  23:31            17,042 DAY-2.ipynb\n",
      "31-01-2023  23:05            32,297 Day3.ipynb\n",
      "02-02-2023  17:42            36,394 Day4.ipynb\n",
      "03-02-2023  18:37            32,398 Day5-Dictionary-in-python.ipynb\n",
      "03-02-2023  16:48            26,330 Day5-Tuple-set-in-Python.ipynb\n",
      "05-02-2023  11:43            22,002 Day6-FUNCTION_Python.ipynb\n",
      "07-02-2023  09:09            13,371 Day7-lambda_map_filter-PYTHON.ipynb\n",
      "07-02-2023  09:51             8,201 Day8-OOPS-PYTHON.ipynb\n",
      "10-02-2023  16:30            14,820 Day9-OOPs.ipynb\n",
      "12-02-2023  19:48                 0 test.text\n",
      "12-02-2023  19:09               103 test1.json\n",
      "12-02-2023  18:17                58 test1.text\n",
      "12-02-2023  18:56                80 test3.csv\n",
      "12-02-2023  19:04                 3 test4.bin\n",
      "              28 File(s)        374,785 bytes\n",
      "               2 Dir(s)  344,752,779,264 bytes free\n"
     ]
    }
   ],
   "source": [
    "ls"
   ]
  },
  {
   "cell_type": "code",
   "execution_count": 77,
   "id": "1f53157b",
   "metadata": {},
   "outputs": [
    {
     "data": {
      "text/plain": [
       "35"
      ]
     },
     "execution_count": 77,
     "metadata": {},
     "output_type": "execute_result"
    }
   ],
   "source": [
    "f.write(\"this is is my first write operation\")"
   ]
  },
  {
   "cell_type": "code",
   "execution_count": 78,
   "id": "9028d28c",
   "metadata": {},
   "outputs": [],
   "source": [
    "# after writing into file we have to close that file otherwise\n",
    "# it will not be written into the file\n",
    "f.close()"
   ]
  },
  {
   "cell_type": "code",
   "execution_count": 79,
   "id": "015c437c",
   "metadata": {},
   "outputs": [],
   "source": [
    "#open file into append mode\n",
    "f=open(\"test.text\",'a')"
   ]
  },
  {
   "cell_type": "code",
   "execution_count": 80,
   "id": "a09627c9",
   "metadata": {},
   "outputs": [
    {
     "data": {
      "text/plain": [
       "23"
      ]
     },
     "execution_count": 80,
     "metadata": {},
     "output_type": "execute_result"
    }
   ],
   "source": [
    "f.write(\"my name is prem shejole\")"
   ]
  },
  {
   "cell_type": "code",
   "execution_count": 81,
   "id": "fcd5e9b2",
   "metadata": {},
   "outputs": [],
   "source": [
    "f.close()"
   ]
  },
  {
   "cell_type": "code",
   "execution_count": 82,
   "id": "864736c4",
   "metadata": {},
   "outputs": [],
   "source": [
    "data=open(\"test.text\",'r')"
   ]
  },
  {
   "cell_type": "code",
   "execution_count": 83,
   "id": "f809b874",
   "metadata": {},
   "outputs": [
    {
     "data": {
      "text/plain": [
       "'this is is my first write operationmy name is prem shejole'"
      ]
     },
     "execution_count": 83,
     "metadata": {},
     "output_type": "execute_result"
    }
   ],
   "source": [
    "data.read()"
   ]
  },
  {
   "cell_type": "code",
   "execution_count": 84,
   "id": "c68f47ba",
   "metadata": {},
   "outputs": [
    {
     "data": {
      "text/plain": [
       "''"
      ]
     },
     "execution_count": 84,
     "metadata": {},
     "output_type": "execute_result"
    }
   ],
   "source": [
    "# read pointer is at last index so it will not print anything\n",
    "data.read()"
   ]
  },
  {
   "cell_type": "code",
   "execution_count": 85,
   "id": "e1ec6d64",
   "metadata": {},
   "outputs": [
    {
     "data": {
      "text/plain": [
       "0"
      ]
     },
     "execution_count": 85,
     "metadata": {},
     "output_type": "execute_result"
    }
   ],
   "source": [
    "# reset the read pointer\n",
    "data.seek(0)"
   ]
  },
  {
   "cell_type": "code",
   "execution_count": 86,
   "id": "73871c85",
   "metadata": {},
   "outputs": [
    {
     "data": {
      "text/plain": [
       "'this is is my first write operationmy name is prem shejole'"
      ]
     },
     "execution_count": 86,
     "metadata": {},
     "output_type": "execute_result"
    }
   ],
   "source": [
    "data.read()"
   ]
  },
  {
   "cell_type": "code",
   "execution_count": 87,
   "id": "6df33406",
   "metadata": {},
   "outputs": [
    {
     "data": {
      "text/plain": [
       "35"
      ]
     },
     "execution_count": 87,
     "metadata": {},
     "output_type": "execute_result"
    }
   ],
   "source": [
    "# data.seek(read_pointer)\n",
    "data.seek(35)"
   ]
  },
  {
   "cell_type": "code",
   "execution_count": 88,
   "id": "b2e3dddb",
   "metadata": {},
   "outputs": [
    {
     "data": {
      "text/plain": [
       "'my name is prem shejole'"
      ]
     },
     "execution_count": 88,
     "metadata": {},
     "output_type": "execute_result"
    }
   ],
   "source": [
    "data.read()"
   ]
  },
  {
   "cell_type": "code",
   "execution_count": 89,
   "id": "c2b78b67",
   "metadata": {},
   "outputs": [],
   "source": [
    "data1=open(\"test.text\",'r')"
   ]
  },
  {
   "cell_type": "code",
   "execution_count": 90,
   "id": "d9ec243e",
   "metadata": {},
   "outputs": [
    {
     "name": "stdout",
     "output_type": "stream",
     "text": [
      "this is is my first write operationmy name is prem shejole\n"
     ]
    }
   ],
   "source": [
    "for i in data1:\n",
    "    print(i)"
   ]
  },
  {
   "cell_type": "code",
   "execution_count": 91,
   "id": "cda69229",
   "metadata": {},
   "outputs": [],
   "source": [
    "import os"
   ]
  },
  {
   "cell_type": "code",
   "execution_count": 92,
   "id": "ba916ec9",
   "metadata": {},
   "outputs": [
    {
     "data": {
      "text/plain": [
       "58"
      ]
     },
     "execution_count": 92,
     "metadata": {},
     "output_type": "execute_result"
    }
   ],
   "source": [
    "os.path.getsize(\"test.text\")"
   ]
  },
  {
   "cell_type": "code",
   "execution_count": 93,
   "id": "81f29802",
   "metadata": {},
   "outputs": [],
   "source": [
    "# to do copy of file"
   ]
  },
  {
   "cell_type": "code",
   "execution_count": 94,
   "id": "a96ba649",
   "metadata": {},
   "outputs": [],
   "source": [
    "import shutil"
   ]
  },
  {
   "cell_type": "code",
   "execution_count": 95,
   "id": "906b1c7d",
   "metadata": {},
   "outputs": [
    {
     "data": {
      "text/plain": [
       "'new_test.text'"
      ]
     },
     "execution_count": 95,
     "metadata": {},
     "output_type": "execute_result"
    }
   ],
   "source": [
    "shutil.copy('test.text','new_test.text')"
   ]
  },
  {
   "cell_type": "markdown",
   "id": "8ed14974",
   "metadata": {},
   "source": [
    "#### deletion of file"
   ]
  },
  {
   "cell_type": "code",
   "execution_count": 96,
   "id": "2bf643af",
   "metadata": {},
   "outputs": [],
   "source": [
    "os.remove(\"new_test.text\")"
   ]
  },
  {
   "cell_type": "code",
   "execution_count": 97,
   "id": "e53f4b6e",
   "metadata": {},
   "outputs": [
    {
     "name": "stdout",
     "output_type": "stream",
     "text": [
      "this is is my first write operationmy name is prem shejole\n"
     ]
    }
   ],
   "source": [
    "#another way to open file\n",
    "with open(\"test.text\",\"r\") as f:\n",
    "    print(f.read())"
   ]
  },
  {
   "cell_type": "markdown",
   "id": "a88e5b42",
   "metadata": {},
   "source": [
    "#### rename the file"
   ]
  },
  {
   "cell_type": "code",
   "execution_count": 98,
   "id": "e205e945",
   "metadata": {},
   "outputs": [
    {
     "ename": "PermissionError",
     "evalue": "[WinError 32] The process cannot access the file because it is being used by another process: 'test.text' -> 'test1.text'",
     "output_type": "error",
     "traceback": [
      "\u001b[1;31m---------------------------------------------------------------------------\u001b[0m",
      "\u001b[1;31mPermissionError\u001b[0m                           Traceback (most recent call last)",
      "Cell \u001b[1;32mIn [98], line 2\u001b[0m\n\u001b[0;32m      1\u001b[0m \u001b[38;5;66;03m# os.rename(\"old_file_name\",\"new_file_name\")\u001b[39;00m\n\u001b[1;32m----> 2\u001b[0m os\u001b[38;5;241m.\u001b[39mrename(\u001b[38;5;124m\"\u001b[39m\u001b[38;5;124mtest.text\u001b[39m\u001b[38;5;124m\"\u001b[39m,\u001b[38;5;124m\"\u001b[39m\u001b[38;5;124mtest1.text\u001b[39m\u001b[38;5;124m\"\u001b[39m)\n",
      "\u001b[1;31mPermissionError\u001b[0m: [WinError 32] The process cannot access the file because it is being used by another process: 'test.text' -> 'test1.text'"
     ]
    }
   ],
   "source": [
    "# os.rename(\"old_file_name\",\"new_file_name\")\n",
    "os.rename(\"test.text\",\"test1.text\")"
   ]
  },
  {
   "cell_type": "markdown",
   "id": "db269cca",
   "metadata": {},
   "source": [
    "## Reading And Writing Files"
   ]
  },
  {
   "cell_type": "code",
   "execution_count": 99,
   "id": "ffa68ce5",
   "metadata": {},
   "outputs": [],
   "source": [
    "data={\n",
    "    \"name\":\"prem\",\n",
    "    \"mail_id\":\"prem@gmail.com\",\n",
    "    \"phone_number\":95793355,\n",
    "    \"subject\":[\"data science\",\"big data\",\"data analytics\"]\n",
    "}"
   ]
  },
  {
   "cell_type": "code",
   "execution_count": 100,
   "id": "8596d41b",
   "metadata": {},
   "outputs": [],
   "source": [
    "import json"
   ]
  },
  {
   "cell_type": "code",
   "execution_count": 101,
   "id": "46173c9a",
   "metadata": {},
   "outputs": [],
   "source": [
    "#open in javascript format to write\n",
    "with open(\"test1.json\",\"w\")as f:\n",
    "    json.dump(data,f)"
   ]
  },
  {
   "cell_type": "code",
   "execution_count": 102,
   "id": "598eb224",
   "metadata": {},
   "outputs": [],
   "source": [
    "# store data into another variable to read\n",
    "with open(\"test1.json\",'r') as f:\n",
    "    data1=json.load(f)"
   ]
  },
  {
   "cell_type": "code",
   "execution_count": 103,
   "id": "c4d011ed",
   "metadata": {},
   "outputs": [
    {
     "data": {
      "text/plain": [
       "{'name': 'prem',\n",
       " 'mail_id': 'prem@gmail.com',\n",
       " 'phone_number': 95793355,\n",
       " 'subject': ['data science', 'big data', 'data analytics']}"
      ]
     },
     "execution_count": 103,
     "metadata": {},
     "output_type": "execute_result"
    }
   ],
   "source": [
    "data1"
   ]
  },
  {
   "cell_type": "code",
   "execution_count": 104,
   "id": "ccd2e7d7",
   "metadata": {},
   "outputs": [
    {
     "data": {
      "text/plain": [
       "'big data'"
      ]
     },
     "execution_count": 104,
     "metadata": {},
     "output_type": "execute_result"
    }
   ],
   "source": [
    "# extract big data\n",
    "data1['subject'][1]"
   ]
  },
  {
   "cell_type": "code",
   "execution_count": 105,
   "id": "96c776f8",
   "metadata": {},
   "outputs": [],
   "source": [
    "data=[[\"name\",\"email\",\"number\"],\n",
    "       [\"prem\",\"prem@gmail.com\",957933],\n",
    "      [\"dipak\",\"dipak@gmail.com\",797279]\n",
    "     ]"
   ]
  },
  {
   "cell_type": "code",
   "execution_count": 106,
   "id": "b389a3f0",
   "metadata": {},
   "outputs": [],
   "source": [
    "import csv"
   ]
  },
  {
   "cell_type": "code",
   "execution_count": 107,
   "id": "411ed9ef",
   "metadata": {},
   "outputs": [],
   "source": [
    "with open(\"test3.csv\",'w') as f:\n",
    "    w=csv.writer(f)\n",
    "    for i in data:\n",
    "        w.writerow(i)"
   ]
  },
  {
   "cell_type": "code",
   "execution_count": 108,
   "id": "cb17a56e",
   "metadata": {},
   "outputs": [
    {
     "name": "stdout",
     "output_type": "stream",
     "text": [
      "['name', 'email', 'number']\n",
      "[]\n",
      "['prem', 'prem@gmail.com', '957933']\n",
      "[]\n",
      "['dipak', 'dipak@gmail.com', '797279']\n",
      "[]\n"
     ]
    }
   ],
   "source": [
    "with open(\"test3.csv\",\"r\") as f:\n",
    "    read=csv.reader(f)\n",
    "    for i in read:\n",
    "        print(i)"
   ]
  },
  {
   "cell_type": "code",
   "execution_count": 109,
   "id": "8de92e8d",
   "metadata": {},
   "outputs": [],
   "source": [
    "# binary data\n",
    "with open(\"test4.bin\",'wb') as f:\n",
    "    f.write(b\"\\x01\\x02\\x03\")"
   ]
  },
  {
   "cell_type": "code",
   "execution_count": 110,
   "id": "951adead",
   "metadata": {},
   "outputs": [
    {
     "name": "stdout",
     "output_type": "stream",
     "text": [
      "b'\\x01\\x02\\x03'\n"
     ]
    }
   ],
   "source": [
    "with open(\"test4.bin\",\"rb\") as f:\n",
    "    print(f.read())"
   ]
  },
  {
   "cell_type": "code",
   "execution_count": null,
   "id": "d1b84f55",
   "metadata": {},
   "outputs": [],
   "source": []
  },
  {
   "cell_type": "markdown",
   "id": "2b5afa0d",
   "metadata": {},
   "source": [
    "## Buffered Read And Write & Other File Methods\n",
    "#### for very large file we use this methods"
   ]
  },
  {
   "cell_type": "code",
   "execution_count": 111,
   "id": "b048c534",
   "metadata": {},
   "outputs": [],
   "source": [
    "import io"
   ]
  },
  {
   "cell_type": "code",
   "execution_count": 121,
   "id": "ba9d56d7",
   "metadata": {},
   "outputs": [],
   "source": [
    "with open(\"test.text\",\"wb\")as f:\n",
    "    file=io.BufferedWriter(f)\n",
    "    file.write(b\"this is my bufferedwriter\\n\")\n",
    "    file.write(b\"this my second\")\n",
    "    #close the file \n",
    "    file.flush()\n",
    "               "
   ]
  },
  {
   "cell_type": "code",
   "execution_count": 125,
   "id": "a90db88c",
   "metadata": {},
   "outputs": [
    {
     "name": "stdout",
     "output_type": "stream",
     "text": [
      "b'this is my bufferedwriter\\nthis my second'\n"
     ]
    }
   ],
   "source": [
    "with open(\"test.text\",\"rb\") as f:\n",
    "    file=io.BufferedReader(f)\n",
    "    #variable=file.read(size)\n",
    "    data=file.read(100)\n",
    "    print(data)"
   ]
  },
  {
   "cell_type": "code",
   "execution_count": null,
   "id": "cb7b5dd0",
   "metadata": {},
   "outputs": [],
   "source": []
  },
  {
   "cell_type": "markdown",
   "id": "0ba72861",
   "metadata": {},
   "source": [
    "## Logging & Debugger"
   ]
  },
  {
   "cell_type": "code",
   "execution_count": 1,
   "id": "a491a410",
   "metadata": {},
   "outputs": [
    {
     "name": "stdout",
     "output_type": "stream",
     "text": [
      "this is my print\n"
     ]
    }
   ],
   "source": [
    "print(\"this is my print\")"
   ]
  },
  {
   "cell_type": "code",
   "execution_count": 1,
   "id": "9100c12e",
   "metadata": {},
   "outputs": [],
   "source": [
    "import logging"
   ]
  },
  {
   "cell_type": "code",
   "execution_count": 16,
   "id": "1b563d40",
   "metadata": {},
   "outputs": [],
   "source": [
    "#creating log file\n",
    "logging.basicConfig(filename=\"test.log\",level=logging.INFO)"
   ]
  },
  {
   "cell_type": "code",
   "execution_count": 17,
   "id": "cf57c138",
   "metadata": {},
   "outputs": [],
   "source": [
    "# writing info into log file\n",
    "logging.info(\"this is my line of execution\")"
   ]
  },
  {
   "cell_type": "code",
   "execution_count": 18,
   "id": "219998ba",
   "metadata": {},
   "outputs": [],
   "source": [
    "# writing ERROR into log file\n",
    "logging.error(\"this is my error\")"
   ]
  },
  {
   "cell_type": "code",
   "execution_count": 19,
   "id": "3437a63c",
   "metadata": {},
   "outputs": [],
   "source": [
    "# writing critical into log file\n",
    "logging.critical(\"this is my critical\")"
   ]
  },
  {
   "cell_type": "code",
   "execution_count": 20,
   "id": "896c6b77",
   "metadata": {},
   "outputs": [],
   "source": [
    "logging.warning(\"this is my warning\")"
   ]
  },
  {
   "cell_type": "code",
   "execution_count": 21,
   "id": "c66d1def",
   "metadata": {},
   "outputs": [],
   "source": [
    "# debug will not write in file because it comes before \n",
    "#info but file is open in info so we can perform operation\n",
    "#which are came after info\n",
    "logging.debug(\"this is my debug\")"
   ]
  },
  {
   "cell_type": "code",
   "execution_count": 22,
   "id": "038e8228",
   "metadata": {},
   "outputs": [],
   "source": [
    "#to close the file\n",
    "logging.shutdown()"
   ]
  },
  {
   "cell_type": "markdown",
   "id": "261469a2",
   "metadata": {},
   "source": [
    "### Hierarchy\n",
    "* 1.NOSET\n",
    "* 2.DEBUG\n",
    "* 3.INFO\n",
    "* 4.WARNING\n",
    "* 5.ERROR\n",
    "* 6.CRITICAL"
   ]
  },
  {
   "cell_type": "code",
   "execution_count": 2,
   "id": "c3524ae6",
   "metadata": {},
   "outputs": [],
   "source": [
    "#format='%(asctime)s %(message)s' store the message with time\n",
    "logging.basicConfig(filename='test5.log',level=logging.DEBUG,format='%(asctime)s %(message)s')"
   ]
  },
  {
   "cell_type": "code",
   "execution_count": 3,
   "id": "d7863ff6",
   "metadata": {},
   "outputs": [],
   "source": [
    "logging.info(\"this is my info log\")"
   ]
  },
  {
   "cell_type": "code",
   "execution_count": 4,
   "id": "194878bd",
   "metadata": {},
   "outputs": [],
   "source": [
    "logging.debug(\"this id my debug\")"
   ]
  },
  {
   "cell_type": "code",
   "execution_count": 5,
   "id": "54349499",
   "metadata": {},
   "outputs": [],
   "source": [
    "logging.critical(\"this is my critical\")"
   ]
  },
  {
   "cell_type": "code",
   "execution_count": 6,
   "id": "a21e101d",
   "metadata": {},
   "outputs": [],
   "source": [
    "logging.shutdown()"
   ]
  },
  {
   "cell_type": "code",
   "execution_count": null,
   "id": "8008bc52",
   "metadata": {},
   "outputs": [],
   "source": []
  },
  {
   "cell_type": "code",
   "execution_count": 2,
   "id": "1d7e3174",
   "metadata": {},
   "outputs": [],
   "source": [
    "logging.basicConfig(filename=\"test6.log\",level=logging.DEBUG,format='%(asctime)s  %(name)s %(levelname)s %(message)s')"
   ]
  },
  {
   "cell_type": "code",
   "execution_count": 3,
   "id": "d97f0d9a",
   "metadata": {},
   "outputs": [],
   "source": [
    "logging.info(\"this is my info\")"
   ]
  },
  {
   "cell_type": "code",
   "execution_count": 5,
   "id": "2ec6bc1a",
   "metadata": {},
   "outputs": [],
   "source": [
    "#Q1\n",
    "lst=[1,2,3,4,[4,5,6],\"Prem\",\"Shejole\"]\n",
    "l1=[]\n",
    "l2=[]\n",
    "for i in lst:\n",
    "    if type(i)==list:\n",
    "        for j in i:\n",
    "            if type(j)==int:\n",
    "                l1.append(j)\n",
    "    elif type(i)==int:\n",
    "        l1.append(i)\n",
    "    \n",
    "    else:\n",
    "        if type(i)==str:\n",
    "            l2.append(i)\n"
   ]
  },
  {
   "cell_type": "code",
   "execution_count": 6,
   "id": "1d27b3b0",
   "metadata": {},
   "outputs": [
    {
     "data": {
      "text/plain": [
       "[1, 2, 3, 4, 4, 5, 6]"
      ]
     },
     "execution_count": 6,
     "metadata": {},
     "output_type": "execute_result"
    }
   ],
   "source": [
    "l1"
   ]
  },
  {
   "cell_type": "code",
   "execution_count": 7,
   "id": "c8b6d644",
   "metadata": {},
   "outputs": [
    {
     "data": {
      "text/plain": [
       "['Prem', 'Shejole']"
      ]
     },
     "execution_count": 7,
     "metadata": {},
     "output_type": "execute_result"
    }
   ],
   "source": [
    "l2"
   ]
  },
  {
   "cell_type": "code",
   "execution_count": 9,
   "id": "7281a110",
   "metadata": {},
   "outputs": [],
   "source": [
    "#Q1 using logging\n",
    "lst=[1,2,3,4,[4,5,6],\"Prem\",\"Shejole\"]\n",
    "l1=[]\n",
    "l2=[]\n",
    "for i in lst:\n",
    "    logging.info(\"this is the start of my first for loop {}\".format(lst))\n",
    "    logging.info(\"this is the value of i am logging {}\".format(i))\n",
    "    if type(i)==list:\n",
    "        for j in i:\n",
    "            logging.info(\"logging my j {}\".format(j))\n",
    "            if type(j)==int:\n",
    "                l1.append(j)\n",
    "    elif type(i)==int:\n",
    "        l1.append(i)\n",
    "    \n",
    "    else:\n",
    "        if type(i)==str:\n",
    "            l2.append(i)\n",
    "logging.info(\"this is my final result {}\".format(l1))"
   ]
  },
  {
   "cell_type": "code",
   "execution_count": null,
   "id": "4c73f356",
   "metadata": {},
   "outputs": [],
   "source": []
  },
  {
   "cell_type": "markdown",
   "id": "8e0e839d",
   "metadata": {},
   "source": [
    "## Modules and Import Statements"
   ]
  },
  {
   "cell_type": "code",
   "execution_count": null,
   "id": "1d98f449",
   "metadata": {},
   "outputs": [],
   "source": []
  }
 ],
 "metadata": {
  "kernelspec": {
   "display_name": "Python 3 (ipykernel)",
   "language": "python",
   "name": "python3"
  },
  "language_info": {
   "codemirror_mode": {
    "name": "ipython",
    "version": 3
   },
   "file_extension": ".py",
   "mimetype": "text/x-python",
   "name": "python",
   "nbconvert_exporter": "python",
   "pygments_lexer": "ipython3",
   "version": "3.10.7"
  }
 },
 "nbformat": 4,
 "nbformat_minor": 5
}
