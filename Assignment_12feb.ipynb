{
 "cells": [
  {
   "cell_type": "markdown",
   "id": "022439c8",
   "metadata": {},
   "source": [
    "# Data Science Matsers\n",
    "## Assignment_12-feb\n",
    "### name:Prem Shejole"
   ]
  },
  {
   "cell_type": "markdown",
   "id": "d6e42582",
   "metadata": {},
   "source": [
    "### Q1. What is an Exception in python? Write the difference between Exceptions and syntax errors."
   ]
  },
  {
   "cell_type": "markdown",
   "id": "67265c3c",
   "metadata": {},
   "source": [
    "* when in the runtime an error that occurs after passing the syntax is called exception.\n",
    "* errors are the problems in a program due to which the program will stop the execution while exceptions are raised when some internal events occur which changes the normal flow of the program "
   ]
  },
  {
   "cell_type": "markdown",
   "id": "1cb6afdb",
   "metadata": {},
   "source": [
    "### Q2. What happens when an exception is not handled? Explain with an exmple"
   ]
  },
  {
   "cell_type": "markdown",
   "id": "44553598",
   "metadata": {},
   "source": [
    "* the runtime system will abort the program and an exception message will print on the console"
   ]
  },
  {
   "cell_type": "code",
   "execution_count": 3,
   "id": "6308e2ed",
   "metadata": {},
   "outputs": [
    {
     "ename": "ZeroDivisionError",
     "evalue": "division by zero",
     "output_type": "error",
     "traceback": [
      "\u001b[1;31m---------------------------------------------------------------------------\u001b[0m",
      "\u001b[1;31mZeroDivisionError\u001b[0m                         Traceback (most recent call last)",
      "Cell \u001b[1;32mIn [3], line 2\u001b[0m\n\u001b[0;32m      1\u001b[0m \u001b[38;5;28;01mtry\u001b[39;00m:\n\u001b[1;32m----> 2\u001b[0m     a\u001b[38;5;241m=\u001b[39m\u001b[38;5;241m10\u001b[39m\u001b[38;5;241m/\u001b[39m\u001b[38;5;241m0\u001b[39m\n\u001b[0;32m      3\u001b[0m     \u001b[38;5;28mprint\u001b[39m(a)\n",
      "\u001b[1;31mZeroDivisionError\u001b[0m: division by zero",
      "\nDuring handling of the above exception, another exception occurred:\n",
      "\u001b[1;31mZeroDivisionError\u001b[0m                         Traceback (most recent call last)",
      "Cell \u001b[1;32mIn [3], line 5\u001b[0m\n\u001b[0;32m      3\u001b[0m     \u001b[38;5;28mprint\u001b[39m(a)\n\u001b[0;32m      4\u001b[0m \u001b[38;5;28;01mexcept\u001b[39;00m \u001b[38;5;167;01mException\u001b[39;00m \u001b[38;5;28;01mas\u001b[39;00m e:\n\u001b[1;32m----> 5\u001b[0m     \u001b[38;5;28mprint\u001b[39m(\u001b[38;5;241m10\u001b[39m\u001b[38;5;241m/\u001b[39m\u001b[38;5;241m0\u001b[39m)\n",
      "\u001b[1;31mZeroDivisionError\u001b[0m: division by zero"
     ]
    }
   ],
   "source": [
    "try:\n",
    "    a=10/0\n",
    "    print(a)\n",
    "except Exception as e:\n",
    "    print(10/0)"
   ]
  },
  {
   "cell_type": "markdown",
   "id": "eef04fbf",
   "metadata": {},
   "source": [
    "### Q3. Which Python statements are used to catch and handle exceptions Explain with an example\n",
    "* the try and except block in python is used to catch can handle exceptions."
   ]
  },
  {
   "cell_type": "code",
   "execution_count": 4,
   "id": "eae3de6b",
   "metadata": {},
   "outputs": [
    {
     "name": "stdout",
     "output_type": "stream",
     "text": [
      "division by zero\n"
     ]
    }
   ],
   "source": [
    "try:\n",
    "    b=10/0\n",
    "    print(b)\n",
    "    \n",
    "except Exception as e:\n",
    "    print(e)"
   ]
  },
  {
   "cell_type": "markdown",
   "id": "485abd76",
   "metadata": {},
   "source": [
    "### Q4. Explain with an example:\n",
    "\n",
    "* try and else\n",
    "* finally\n",
    "* raise"
   ]
  },
  {
   "cell_type": "code",
   "execution_count": 6,
   "id": "1396b9a2",
   "metadata": {},
   "outputs": [
    {
     "name": "stdout",
     "output_type": "stream",
     "text": [
      "else is executed\n"
     ]
    }
   ],
   "source": [
    "# try and else: else execute always with try execution without an exception\n",
    "try:\n",
    "    f=open(\"text20.text\",'w')\n",
    "    f.write(\"myself prem shejole\")\n",
    "except Exception as e:\n",
    "    print(e)\n",
    "else:\n",
    "    f.close()\n",
    "    print(\"else is executed\")\n"
   ]
  },
  {
   "cell_type": "code",
   "execution_count": 7,
   "id": "0159d347",
   "metadata": {},
   "outputs": [
    {
     "name": "stdout",
     "output_type": "stream",
     "text": [
      "division by zero\n",
      "finally is executed\n"
     ]
    }
   ],
   "source": [
    "# finally:it always executes\n",
    "try:\n",
    "    a=10/0\n",
    "except Exception as e:\n",
    "    print(e)\n",
    "finally:\n",
    "    print(\"finally is executed\")"
   ]
  },
  {
   "cell_type": "code",
   "execution_count": null,
   "id": "ff0db0b9",
   "metadata": {},
   "outputs": [],
   "source": [
    "#raise\n",
    "class age_1(Exception):\n",
    "    def __init__(self,msg):\n",
    "        self.msg=msg"
   ]
  },
  {
   "cell_type": "code",
   "execution_count": 13,
   "id": "423b7331",
   "metadata": {},
   "outputs": [],
   "source": [
    "# raise\n",
    "def age(num):\n",
    "    if num>200:\n",
    "        raise age_1(\"age is too high\")\n",
    "        \n",
    "    elif num<0:\n",
    "        raise age_1(\"age is negative\")\n",
    "    else:\n",
    "        print(\"valid\")"
   ]
  },
  {
   "cell_type": "code",
   "execution_count": 14,
   "id": "a3f9f89f",
   "metadata": {},
   "outputs": [
    {
     "name": "stdout",
     "output_type": "stream",
     "text": [
      "enter your age?5\n",
      "valid\n"
     ]
    }
   ],
   "source": [
    "try:\n",
    "    num=int(input(\"enter your age?\"))\n",
    "    age(num)\n",
    "except age as e:\n",
    "    print(e)"
   ]
  },
  {
   "cell_type": "markdown",
   "id": "a983000c",
   "metadata": {},
   "source": [
    "###  Q5. What are Custom Exceptions in python? Why do we need Custom Exceptions? Explain with an example"
   ]
  },
  {
   "cell_type": "code",
   "execution_count": null,
   "id": "6864df97",
   "metadata": {},
   "outputs": [],
   "source": []
  },
  {
   "cell_type": "markdown",
   "id": "783945a5",
   "metadata": {},
   "source": [
    "### Q6.Create custom exception calss. Use this ,class to handle an exception.\n",
    "* custom exceptions are the user defined exceptions"
   ]
  },
  {
   "cell_type": "code",
   "execution_count": 23,
   "id": "71ba0d24",
   "metadata": {},
   
  {
   "cell_type": "code",
   "execution_count": 20,
   "id": "44b75745",
   "metadata": {},
   "outputs": [],
   "source": [
    "def number(numb):\n",
    "    if numb>18 :\n",
    "        raise vote(\"you can vote\")\n",
    "    else:\n",
    "        print(\"you can not vote\")"
   ]
  },
  {
   "cell_type": "code",
   "execution_count": 22,
   "id": "f5da6bb8",
   "metadata": {},
   "outputs": [
    {
     "name": "stdout",
     "output_type": "stream",
     "text": [
      "enter age:20\n",
      "you can vote\n"
     ]
    }
   ],
   "source": [
    "try:\n",
    "    num=int(input(\"enter age:\"))\n",
    "    number(num)\n",
    "    \n",
    "except vote as e:\n",
    "    print(e)"
   ]
  },
  {
   "cell_type": "code",
   "execution_count": null,
   "id": "21d03f59",
   "metadata": {},
   "outputs": [],
   "source": []
  }
 ],
 "metadata": {
  "kernelspec": {
   "display_name": "Python 3 (ipykernel)",
   "language": "python",
   "name": "python3"
  },
  "language_info": {
   "codemirror_mode": {
    "name": "ipython",
    "version": 3
   },
   "file_extension": ".py",
   "mimetype": "text/x-python",
   "name": "python",
   "nbconvert_exporter": "python",
   "pygments_lexer": "ipython3",
   "version": "3.10.7"
  }
 },
 "nbformat": 4,
 "nbformat_minor": 5
}
