{
 "cells": [
  {
   "cell_type": "markdown",
   "id": "d82ee630",
   "metadata": {},
   "source": [
    "# Data Science Matsers\n",
    "## Assignment_12-feb\n",
    "### name:Prem Shejole"
   ]
  },
  {
   "cell_type": "markdown",
   "id": "35a0f299",
   "metadata": {},
   "source": [
    "### Q1. What is an Exception in python? Write the difference between Exceptions and syntax errors."
   ]
  },
  {
   "cell_type": "markdown",
   "id": "6d75c3f1",
   "metadata": {},
   "source": [
    "* when in the runtime an error that occurs after passing the syntax is called exception.\n",
    "* errors are the problems in a program due to which the program will stop the execution while exceptions are raised when some internal events occur which changes the normal flow of the program "
   ]
  },
  {
   "cell_type": "markdown",
   "id": "01dd4109",
   "metadata": {},
   "source": [
    "### Q2. What happens when an exception is not handled? Explain with an exmple"
   ]
  },
  {
   "cell_type": "markdown",
   "id": "36fa1b63",
   "metadata": {},
   "source": [
    "* the runtime system will abort the program and an exception message will print on the console"
   ]
  },
  {
   "cell_type": "code",
   "execution_count": 3,
   "id": "e05a0f73",
   "metadata": {},
   "outputs": [
    {
     "ename": "ZeroDivisionError",
     "evalue": "division by zero",
     "output_type": "error",
     "traceback": [
      "\u001b[1;31m---------------------------------------------------------------------------\u001b[0m",
      "\u001b[1;31mZeroDivisionError\u001b[0m                         Traceback (most recent call last)",
      "Cell \u001b[1;32mIn [3], line 2\u001b[0m\n\u001b[0;32m      1\u001b[0m \u001b[38;5;28;01mtry\u001b[39;00m:\n\u001b[1;32m----> 2\u001b[0m     a\u001b[38;5;241m=\u001b[39m\u001b[38;5;241m10\u001b[39m\u001b[38;5;241m/\u001b[39m\u001b[38;5;241m0\u001b[39m\n\u001b[0;32m      3\u001b[0m     \u001b[38;5;28mprint\u001b[39m(a)\n",
      "\u001b[1;31mZeroDivisionError\u001b[0m: division by zero",
      "\nDuring handling of the above exception, another exception occurred:\n",
      "\u001b[1;31mZeroDivisionError\u001b[0m                         Traceback (most recent call last)",
      "Cell \u001b[1;32mIn [3], line 5\u001b[0m\n\u001b[0;32m      3\u001b[0m     \u001b[38;5;28mprint\u001b[39m(a)\n\u001b[0;32m      4\u001b[0m \u001b[38;5;28;01mexcept\u001b[39;00m \u001b[38;5;167;01mException\u001b[39;00m \u001b[38;5;28;01mas\u001b[39;00m e:\n\u001b[1;32m----> 5\u001b[0m     \u001b[38;5;28mprint\u001b[39m(\u001b[38;5;241m10\u001b[39m\u001b[38;5;241m/\u001b[39m\u001b[38;5;241m0\u001b[39m)\n",
      "\u001b[1;31mZeroDivisionError\u001b[0m: division by zero"
     ]
    }
   ],
   "source": [
    "try:\n",
    "    a=10/0\n",
    "    print(a)\n",
    "except Exception as e:\n",
    "    print(10/0)"
   ]
  },
  {
   "cell_type": "markdown",
   "id": "a31aa671",
   "metadata": {},
   "source": [
    "### Q3. Which Python statements are used to catch and handle exceptions Explain with an example\n",
    "* the try and except block in python is used to catch can handle exceptions."
   ]
  },
  {
   "cell_type": "code",
   "execution_count": 4,
   "id": "7c448e10",
   "metadata": {},
   "outputs": [
    {
     "name": "stdout",
     "output_type": "stream",
     "text": [
      "division by zero\n"
     ]
    }
   ],
   "source": [
    "try:\n",
    "    b=10/0\n",
    "    print(b)\n",
    "    \n",
    "except Exception as e:\n",
    "    print(e)"
   ]
  },
  {
   "cell_type": "markdown",
   "id": "190df6d6",
   "metadata": {},
   "source": [
    "### Q4. Explain with an example:\n",
    "\n",
    "* try and else\n",
    "* finally\n",
    "* raise"
   ]
  },
  {
   "cell_type": "code",
   "execution_count": 6,
   "id": "c97a5ae8",
   "metadata": {},
   "outputs": [
    {
     "name": "stdout",
     "output_type": "stream",
     "text": [
      "else is executed\n"
     ]
    }
   ],
   "source": [
    "# try and else: else execute always with try execution without an exception\n",
    "try:\n",
    "    f=open(\"text20.text\",'w')\n",
    "    f.write(\"myself prem shejole\")\n",
    "except Exception as e:\n",
    "    print(e)\n",
    "else:\n",
    "    f.close()\n",
    "    print(\"else is executed\")\n"
   ]
  },
  {
   "cell_type": "code",
   "execution_count": 7,
   "id": "5e3b4e0d",
   "metadata": {},
   "outputs": [
    {
     "name": "stdout",
     "output_type": "stream",
     "text": [
      "division by zero\n",
      "finally is executed\n"
     ]
    }
   ],
   "source": [
    "# finally:it always executes\n",
    "try:\n",
    "    a=10/0\n",
    "except Exception as e:\n",
    "    print(e)\n",
    "finally:\n",
    "    print(\"finally is executed\")"
   ]
  },
  {
   "cell_type": "code",
   "execution_count": null,
   "id": "b0612154",
   "metadata": {},
   "outputs": [],
   "source": [
    "#raise\n",
    "class age_1(Exception):\n",
    "    def __init__(self,msg):\n",
    "        self.msg=msg"
   ]
  },
  {
   "cell_type": "code",
   "execution_count": 13,
   "id": "1a3d21d5",
   "metadata": {},
   "outputs": [],
   "source": [
    "# raise\n",
    "def age(num):\n",
    "    if num>200:\n",
    "        raise age_1(\"age is too high\")\n",
    "        \n",
    "    elif num<0:\n",
    "        raise age_1(\"age is negative\")\n",
    "    else:\n",
    "        print(\"valid\")"
   ]
  },
  {
   "cell_type": "code",
   "execution_count": 14,
   "id": "a3556e2a",
   "metadata": {},
   "outputs": [
    {
     "name": "stdout",
     "output_type": "stream",
     "text": [
      "enter your age?5\n",
      "valid\n"
     ]
    }
   ],
   "source": [
    "try:\n",
    "    num=int(input(\"enter your age?\"))\n",
    "    age(num)\n",
    "except age as e:\n",
    "    print(e)"
   ]
  },
  {
   "cell_type": "markdown",
   "id": "448a2f48",
   "metadata": {},
   "source": [
    "###  Q5. What are Custom Exceptions in python? Why do we need Custom Exceptions? Explain with an example"
   ]
  },
  {
   "cell_type": "code",
   "execution_count": null,
   "id": "b02c3878",
   "metadata": {},
   "outputs": [],
   "source": [
    "class Myclass(Exception):\n",
    "    def __init__(self, value):\n",
    "        self.value = value\n",
    "\n",
    "try:\n",
    "    raise(Myclass(3*2))\n",
    "    \n",
    "except Myclass as error:\n",
    "    print('A New Exception occurred: ', error.value)"
   ]
  },
  {
   "cell_type": "markdown",
   "id": "d118f030",
   "metadata": {},
   "source": [
    "### Q6.Create custom exception calss. Use this ,class to handle an exception.\n",
    "* custom exceptions are the user defined exceptions"
   ]
  },
  {
   "cell_type": "code",
   "execution_count": 23,
   "id": "77a89dc4",
   "metadata": {},
   "outputs": [
    {
     "name": "stdout",
     "output_type": "stream",
     "text": [
      "A New Exception occurred:  6\n"
     ]
    }
   ],
   "source": []
  },
  {
   "cell_type": "code",
   "execution_count": 19,
   "id": "0b0b00ed",
   "metadata": {},
   "outputs": [],
   "source": [
    "class vote(Exception):\n",
    "    def __init__(self,age):\n",
    "        self.age=age\n",
    "    "
   ]
  },
  {
   "cell_type": "code",
   "execution_count": 20,
   "id": "949557a9",
   "metadata": {},
   "outputs": [],
   "source": [
    "def number(numb):\n",
    "    if numb>18 :\n",
    "        raise vote(\"you can vote\")\n",
    "    else:\n",
    "        print(\"you can not vote\")"
   ]
  },
  {
   "cell_type": "code",
   "execution_count": 22,
   "id": "3c3930d2",
   "metadata": {},
   "outputs": [
    {
     "name": "stdout",
     "output_type": "stream",
     "text": [
      "enter age:20\n",
      "you can vote\n"
     ]
    }
   ],
   "source": [
    "try:\n",
    "    num=int(input(\"enter age:\"))\n",
    "    number(num)\n",
    "    \n",
    "except vote as e:\n",
    "    print(e)"
   ]
  },
  {
   "cell_type": "code",
   "execution_count": null,
   "id": "fd1b44f7",
   "metadata": {},
   "outputs": [],
   "source": []
  }
 ],
 "metadata": {
  "kernelspec": {
   "display_name": "Python 3 (ipykernel)",
   "language": "python",
   "name": "python3"
  },
  "language_info": {
   "codemirror_mode": {
    "name": "ipython",
    "version": 3
   },
   "file_extension": ".py",
   "mimetype": "text/x-python",
   "name": "python",
   "nbconvert_exporter": "python",
   "pygments_lexer": "ipython3",
   "version": "3.10.7"
  }
 },
 "nbformat": 4,
 "nbformat_minor": 5
}
