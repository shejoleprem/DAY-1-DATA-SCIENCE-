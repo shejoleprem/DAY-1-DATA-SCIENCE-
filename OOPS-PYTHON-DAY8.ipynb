{
 "cells": [
  {
   "cell_type": "markdown",
   "id": "24e3897e",
   "metadata": {},
   "source": [
    "# OOPS-Python-DAY8"
   ]
  },
  {
   "cell_type": "code",
   "execution_count": 1,
   "id": "60831eb8",
   "metadata": {},
   "outputs": [],
   "source": [
    "a=1"
   ]
  },
  {
   "cell_type": "code",
   "execution_count": 2,
   "id": "485566f7",
   "metadata": {},
   "outputs": [
    {
     "name": "stdout",
     "output_type": "stream",
     "text": [
      "<class 'int'>\n"
     ]
    }
   ],
   "source": [
    "print(type(a))"
   ]
  },
  {
   "cell_type": "code",
   "execution_count": 3,
   "id": "052cf3f8",
   "metadata": {},
   "outputs": [
    {
     "name": "stdout",
     "output_type": "stream",
     "text": [
      "<class 'str'>\n"
     ]
    }
   ],
   "source": [
    "print(type(\"pw\"))"
   ]
  },
  {
   "cell_type": "code",
   "execution_count": 4,
   "id": "28b77565",
   "metadata": {},
   "outputs": [],
   "source": [
    "class test:\n",
    "    pass"
   ]
  },
  {
   "cell_type": "code",
   "execution_count": 5,
   "id": "77ce4ca8",
   "metadata": {},
   "outputs": [],
   "source": [
    "a=test()"
   ]
  },
  {
   "cell_type": "code",
   "execution_count": 6,
   "id": "3294da3f",
   "metadata": {},
   "outputs": [
    {
     "name": "stdout",
     "output_type": "stream",
     "text": [
      "<class '__main__.test'>\n"
     ]
    }
   ],
   "source": [
    "print(type(a))"
   ]
  },
  {
   "cell_type": "code",
   "execution_count": 9,
   "id": "ec2f3906",
   "metadata": {},
   "outputs": [],
   "source": [
    "# always give reference of class in function\n",
    "class pwskills:\n",
    "    def welcome(self):\n",
    "        print(\"welcome to pw\")"
   ]
  },
  {
   "cell_type": "code",
   "execution_count": 10,
   "id": "cede3cf6",
   "metadata": {},
   "outputs": [
    {
     "name": "stdout",
     "output_type": "stream",
     "text": [
      "welcome to pw\n"
     ]
    }
   ],
   "source": [
    "ro=pwskills()\n",
    "ro.welcome()"
   ]
  },
  {
   "cell_type": "code",
   "execution_count": 11,
   "id": "4d7e03b2",
   "metadata": {},
   "outputs": [],
   "source": [
    "sohan=pwskills()"
   ]
  },
  {
   "cell_type": "code",
   "execution_count": 12,
   "id": "21a223df",
   "metadata": {},
   "outputs": [
    {
     "name": "stdout",
     "output_type": "stream",
     "text": [
      "welcome to pw\n"
     ]
    }
   ],
   "source": [
    "sohan.welcome()"
   ]
  },
  {
   "cell_type": "markdown",
   "id": "345d9ead",
   "metadata": {},
   "source": [
    "### constructor"
   ]
  },
  {
   "cell_type": "code",
   "execution_count": 38,
   "id": "deb5db41",
   "metadata": {},
   "outputs": [],
   "source": [
    "class pwskills1:\n",
    "    \n",
    "    #constructor\n",
    "    #self is not keyword it just reference variable\n",
    "    def __init__(self,phone_number,email_id,student_id):\n",
    "        self.phone_number=phone_number\n",
    "        self.email_id=email_id\n",
    "        self.student_id=student_id\n",
    "        \n",
    "    def return_student_details(self):\n",
    "        return self.phone_number,self.email_id,self.student_id"
   ]
  },
  {
   "cell_type": "code",
   "execution_count": 29,
   "id": "f93c552d",
   "metadata": {},
   "outputs": [],
   "source": [
    "prem=pwskills1(95793355,\"shejoleprem@gmail.com\",12111)"
   ]
  },
  {
   "cell_type": "code",
   "execution_count": 30,
   "id": "fefb1c4c",
   "metadata": {},
   "outputs": [
    {
     "data": {
      "text/plain": [
       "(95793355, 'shejoleprem@gmail.com', 12111)"
      ]
     },
     "execution_count": 30,
     "metadata": {},
     "output_type": "execute_result"
    }
   ],
   "source": [
    "prem.return_student_details()"
   ]
  },
  {
   "cell_type": "code",
   "execution_count": 31,
   "id": "15bc4478",
   "metadata": {},
   "outputs": [
    {
     "data": {
      "text/plain": [
       "95793355"
      ]
     },
     "execution_count": 31,
     "metadata": {},
     "output_type": "execute_result"
    }
   ],
   "source": [
    "prem.phone_number"
   ]
  },
  {
   "cell_type": "code",
   "execution_count": 32,
   "id": "de94c0e9",
   "metadata": {},
   "outputs": [
    {
     "data": {
      "text/plain": [
       "'shejoleprem@gmail.com'"
      ]
     },
     "execution_count": 32,
     "metadata": {},
     "output_type": "execute_result"
    }
   ],
   "source": [
    "prem.email_id"
   ]
  },
  {
   "cell_type": "code",
   "execution_count": 33,
   "id": "709c9f03",
   "metadata": {},
   "outputs": [
    {
     "data": {
      "text/plain": [
       "12111"
      ]
     },
     "execution_count": 33,
     "metadata": {},
     "output_type": "execute_result"
    }
   ],
   "source": [
    "prem.student_id"
   ]
  },
  {
   "cell_type": "code",
   "execution_count": 34,
   "id": "b23a58b6",
   "metadata": {},
   "outputs": [],
   "source": [
    "sohan=pwskills1(957933566,\"sohan@gmail.com\",1223356)"
   ]
  },
  {
   "cell_type": "code",
   "execution_count": 35,
   "id": "d0055788",
   "metadata": {},
   "outputs": [
    {
     "data": {
      "text/plain": [
       "957933566"
      ]
     },
     "execution_count": 35,
     "metadata": {},
     "output_type": "execute_result"
    }
   ],
   "source": [
    "sohan.phone_number"
   ]
  },
  {
   "cell_type": "code",
   "execution_count": 36,
   "id": "547edbff",
   "metadata": {},
   "outputs": [
    {
     "data": {
      "text/plain": [
       "'sohan@gmail.com'"
      ]
     },
     "execution_count": 36,
     "metadata": {},
     "output_type": "execute_result"
    }
   ],
   "source": [
    "sohan.email_id"
   ]
  },
  {
   "cell_type": "code",
   "execution_count": 37,
   "id": "97cbbdfc",
   "metadata": {},
   "outputs": [
    {
     "data": {
      "text/plain": [
       "(957933566, 'sohan@gmail.com', 1223356)"
      ]
     },
     "execution_count": 37,
     "metadata": {},
     "output_type": "execute_result"
    }
   ],
   "source": [
    "sohan.return_student_details()"
   ]
  },
  {
   "cell_type": "code",
   "execution_count": 44,
   "id": "7bf6e444",
   "metadata": {},
   "outputs": [],
   "source": [
    "class pwskills2:\n",
    "    \n",
    "    #constructor\n",
    "    #var is not keyword it just reference variable\n",
    "    def __init__(var,phone_number,email_id,student_id):\n",
    "        var.phone_number=phone_number\n",
    "        var.email_id=email_id\n",
    "        var.student_id=student_id\n",
    "        \n",
    "    def return_student_details(var):\n",
    "        return var.phone_number,var.email_id,var.student_id"
   ]
  },
  {
   "cell_type": "code",
   "execution_count": 45,
   "id": "88f28faf",
   "metadata": {},
   "outputs": [],
   "source": [
    "mohan=pwskills2(957933,\"mohan@gmail.com\",12111)"
   ]
  },
  {
   "cell_type": "code",
   "execution_count": 46,
   "id": "a5a87492",
   "metadata": {},
   "outputs": [
    {
     "data": {
      "text/plain": [
       "957933"
      ]
     },
     "execution_count": 46,
     "metadata": {},
     "output_type": "execute_result"
    }
   ],
   "source": [
    "mohan.phone_number"
   ]
  },
  {
   "cell_type": "code",
   "execution_count": 47,
   "id": "0b36f7e9",
   "metadata": {},
   "outputs": [
    {
     "data": {
      "text/plain": [
       "(957933, 'mohan@gmail.com', 12111)"
      ]
     },
     "execution_count": 47,
     "metadata": {},
     "output_type": "execute_result"
    }
   ],
   "source": [
    "mohan.return_student_details()"
   ]
  },
  {
   "cell_type": "code",
   "execution_count": null,
   "id": "e2f61bf7",
   "metadata": {},
   "outputs": [],
   "source": []
  },
  {
   "cell_type": "code",
   "execution_count": null,
   "id": "deb83722",
   "metadata": {},
   "outputs": [],
   "source": []
  }
 ],
 "metadata": {
  "kernelspec": {
   "display_name": "Python 3 (ipykernel)",
   "language": "python",
   "name": "python3"
  },
  "language_info": {
   "codemirror_mode": {
    "name": "ipython",
    "version": 3
   },
   "file_extension": ".py",
   "mimetype": "text/x-python",
   "name": "python",
   "nbconvert_exporter": "python",
   "pygments_lexer": "ipython3",
   "version": "3.10.7"
  }
 },
 "nbformat": 4,
 "nbformat_minor": 5
}
