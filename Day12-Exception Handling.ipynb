{
 "cells": [
  {
   "cell_type": "markdown",
   "id": "47c9ba17",
   "metadata": {},
   "source": [
    "# Day12-Exception Handling\n",
    "### Name:Prem Shejole"
   ]
  },
  {
   "cell_type": "code",
   "execution_count": 1,
   "id": "5f4ab7ad",
   "metadata": {},
   "outputs": [
    {
     "ename": "ZeroDivisionError",
     "evalue": "division by zero",
     "output_type": "error",
     "traceback": [
      "\u001b[1;31m---------------------------------------------------------------------------\u001b[0m",
      "\u001b[1;31mZeroDivisionError\u001b[0m                         Traceback (most recent call last)",
      "Cell \u001b[1;32mIn [1], line 1\u001b[0m\n\u001b[1;32m----> 1\u001b[0m a\u001b[38;5;241m=\u001b[39m\u001b[38;5;241m10\u001b[39m\u001b[38;5;241m/\u001b[39m\u001b[38;5;241m0\u001b[39m\n",
      "\u001b[1;31mZeroDivisionError\u001b[0m: division by zero"
     ]
    }
   ],
   "source": [
    "a=10/0"
   ]
  },
  {
   "cell_type": "code",
   "execution_count": 3,
   "id": "809036f0",
   "metadata": {},
   "outputs": [
    {
     "ename": "FileNotFoundError",
     "evalue": "[Errno 2] No such file or directory: 'test10.txt'",
     "output_type": "error",
     "traceback": [
      "\u001b[1;31m---------------------------------------------------------------------------\u001b[0m",
      "\u001b[1;31mFileNotFoundError\u001b[0m                         Traceback (most recent call last)",
      "Cell \u001b[1;32mIn [3], line 1\u001b[0m\n\u001b[1;32m----> 1\u001b[0m f\u001b[38;5;241m=\u001b[39m\u001b[38;5;28mopen\u001b[39m(\u001b[38;5;124m\"\u001b[39m\u001b[38;5;124mtest10.txt\u001b[39m\u001b[38;5;124m\"\u001b[39m,\u001b[38;5;124m'\u001b[39m\u001b[38;5;124mr\u001b[39m\u001b[38;5;124m'\u001b[39m)\n\u001b[0;32m      2\u001b[0m \u001b[38;5;28mprint\u001b[39m(\u001b[38;5;124m\"\u001b[39m\u001b[38;5;124mthis is my print\u001b[39m\u001b[38;5;124m\"\u001b[39m)\n",
      "\u001b[1;31mFileNotFoundError\u001b[0m: [Errno 2] No such file or directory: 'test10.txt'"
     ]
    }
   ],
   "source": [
    "f=open(\"test10.txt\",'r')\n",
    "print(\"this is my print\")"
   ]
  },
  {
   "cell_type": "code",
   "execution_count": 6,
   "id": "37451882",
   "metadata": {},
   "outputs": [
    {
     "name": "stdout",
     "output_type": "stream",
     "text": [
      "there is some issue with my code [Errno 2] No such file or directory: 'test10.txt'\n",
      "error can not stop further code to execute when we use exception handling\n"
     ]
    }
   ],
   "source": [
    "try:\n",
    "    f=open(\"test10.txt\",'r')\n",
    "    \n",
    "except Exception as e:\n",
    "    print(\"there is some issue with my code\",e)\n",
    "    \n",
    "print(\"error can not stop further code to execute when we use exception handling\")"
   ]
  },
  {
   "cell_type": "code",
   "execution_count": 9,
   "id": "6eec3dcc",
   "metadata": {},
   "outputs": [],
   "source": [
    "try:\n",
    "    f=open(\"text10.txt\",'w')\n",
    "    f.write(\"how are you?\")\n",
    "    f.close();\n",
    "except Exception as e:\n",
    "    print(\"there is some issue with my code\",e)"
   ]
  },
  {
   "cell_type": "code",
   "execution_count": 12,
   "id": "5d72b290",
   "metadata": {},
   "outputs": [
    {
     "name": "stdout",
     "output_type": "stream",
     "text": [
      "this block will execute once try will execute itself without an exception\n"
     ]
    }
   ],
   "source": [
    "# try with else block\n",
    "try:\n",
    "    f=open(\"text11.txt\",'w')\n",
    "    f.write(\"i am prem shejole\")\n",
    "except Exception as e:\n",
    "    print(\"there is some issue with my code\",e)\n",
    "else:\n",
    "    f.close()\n",
    "    print(\"this block will execute once try will execute itself without an exception\")"
   ]
  },
  {
   "cell_type": "markdown",
   "id": "55ab6982",
   "metadata": {},
   "source": [
    "### finally-always try to execute itself"
   ]
  },
  {
   "cell_type": "code",
   "execution_count": 13,
   "id": "28a10ca0",
   "metadata": {},
   "outputs": [
    {
     "name": "stdout",
     "output_type": "stream",
     "text": [
      "this will always execute\n"
     ]
    },
    {
     "ename": "FileNotFoundError",
     "evalue": "[Errno 2] No such file or directory: 'text12.txt'",
     "output_type": "error",
     "traceback": [
      "\u001b[1;31m---------------------------------------------------------------------------\u001b[0m",
      "\u001b[1;31mFileNotFoundError\u001b[0m                         Traceback (most recent call last)",
      "Cell \u001b[1;32mIn [13], line 2\u001b[0m\n\u001b[0;32m      1\u001b[0m \u001b[38;5;28;01mtry\u001b[39;00m:\n\u001b[1;32m----> 2\u001b[0m     f\u001b[38;5;241m=\u001b[39m\u001b[38;5;28mopen\u001b[39m(\u001b[38;5;124m\"\u001b[39m\u001b[38;5;124mtext12.txt\u001b[39m\u001b[38;5;124m\"\u001b[39m,\u001b[38;5;124m'\u001b[39m\u001b[38;5;124mr\u001b[39m\u001b[38;5;124m'\u001b[39m)\n\u001b[0;32m      3\u001b[0m     f\u001b[38;5;241m.\u001b[39mwrite(\u001b[38;5;124m\"\u001b[39m\u001b[38;5;124mthis is my msg\u001b[39m\u001b[38;5;124m\"\u001b[39m)\n\u001b[0;32m      4\u001b[0m \u001b[38;5;28;01mfinally\u001b[39;00m:\n",
      "\u001b[1;31mFileNotFoundError\u001b[0m: [Errno 2] No such file or directory: 'text12.txt'"
     ]
    }
   ],
   "source": [
    "try:\n",
    "    f=open(\"text12.txt\",'r')\n",
    "    f.write(\"this is my msg\")\n",
    "finally:\n",
    "    print(\"this will always execute\")"
   ]
  },
  {
   "cell_type": "markdown",
   "id": "63da5ba3",
   "metadata": {},
   "source": [
    "## custom Exception Handling"
   ]
  },
  {
   "cell_type": "code",
   "execution_count": 14,
   "id": "07524e63",
   "metadata": {},
   "outputs": [
    {
     "name": "stdout",
     "output_type": "stream",
     "text": [
      "enter your age-18\n"
     ]
    }
   ],
   "source": [
    "age=(input(\"enter your age\"))"
   ]
  },
  {
   "cell_type": "code",
   "execution_count": 15,
   "id": "18fb3ba0",
   "metadata": {},
   "outputs": [],
   "source": [
    "class validateage(Exception):\n",
    "    def __init__(self,msg):\n",
    "        self.msg=msg"
   ]
  },
  {
   "cell_type": "code",
   "execution_count": 18,
   "id": "c65b6705",
   "metadata": {},
   "outputs": [],
   "source": [
    "def validate_age(age):\n",
    "    if age<0:\n",
    "        raise validateage(\"age should not be negative\")\n",
    "        \n",
    "    elif age>200:\n",
    "        raise validateage(\"age is high\")\n",
    "        \n",
    "    else:\n",
    "        print(\"age is valid\")"
   ]
  },
  {
   "cell_type": "code",
   "execution_count": 20,
   "id": "722f5fc1",
   "metadata": {},
   "outputs": [
    {
     "name": "stdout",
     "output_type": "stream",
     "text": [
      "enter age:-2\n",
      "age should not be negative\n"
     ]
    }
   ],
   "source": [
    "try:\n",
    "    age=int(input(\"enter age:\"))\n",
    "    validate_age(age)\n",
    "    \n",
    "except validateage as e:\n",
    "    print(e)"
   ]
  },
  {
   "cell_type": "markdown",
   "id": "8f9659d4",
   "metadata": {},
   "source": [
    "## list of general use Exceptions"
   ]
  },
  {
   "cell_type": "code",
   "execution_count": 21,
   "id": "4f3eed9d",
   "metadata": {},
   "outputs": [
    {
     "name": "stdout",
     "output_type": "stream",
     "text": [
      "division by zero\n"
     ]
    }
   ],
   "source": [
    "try:\n",
    "    a=10/0\n",
    "    \n",
    "except ZeroDivisionError as e:\n",
    "    print(e)\n",
    "    "
   ]
  },
  {
   "cell_type": "code",
   "execution_count": 22,
   "id": "0aedfc4a",
   "metadata": {},
   "outputs": [
    {
     "name": "stdout",
     "output_type": "stream",
     "text": [
      "invalid literal for int() with base 10: 'prem'\n"
     ]
    }
   ],
   "source": [
    "try:\n",
    "    int(\"prem\")\n",
    "except (ValueError,TypeError)as e:\n",
    "    print(e)"
   ]
  },
  {
   "cell_type": "code",
   "execution_count": 24,
   "id": "004053d4",
   "metadata": {},
   "outputs": [
    {
     "name": "stdout",
     "output_type": "stream",
     "text": [
      "this will catch an error\n"
     ]
    }
   ],
   "source": [
    "try:\n",
    "    int(\"prem\")\n",
    "except:\n",
    "    print(\"this will catch an error\")"
   ]
  },
  {
   "cell_type": "code",
   "execution_count": 25,
   "id": "568f8e76",
   "metadata": {},
   "outputs": [
    {
     "name": "stdout",
     "output_type": "stream",
     "text": [
      "No module named 'prem'\n"
     ]
    }
   ],
   "source": [
    "try:\n",
    "    import prem\n",
    "except ImportError as e:\n",
    "    print(e)"
   ]
  },
  {
   "cell_type": "code",
   "execution_count": 26,
   "id": "f296a242",
   "metadata": {},
   "outputs": [
    {
     "name": "stdout",
     "output_type": "stream",
     "text": [
      "'key10'\n"
     ]
    }
   ],
   "source": [
    "try:\n",
    "    d={1:[3,4,5,6],\"key\":\"prem\"}\n",
    "    d[\"key10\"]\n",
    "    \n",
    "except KeyError as e:\n",
    "    print(e)"
   ]
  },
  {
   "cell_type": "code",
   "execution_count": 27,
   "id": "9e862dd4",
   "metadata": {},
   "outputs": [
    {
     "name": "stdout",
     "output_type": "stream",
     "text": [
      "'str' object has no attribute 'test'\n"
     ]
    }
   ],
   "source": [
    "try:\n",
    "    \"prem\".test()\n",
    "except AttributeError as e :\n",
    "    print(e)"
   ]
  },
  {
   "cell_type": "code",
   "execution_count": 28,
   "id": "5ceb1c21",
   "metadata": {},
   "outputs": [
    {
     "name": "stdout",
     "output_type": "stream",
     "text": [
      "list index out of range\n"
     ]
    }
   ],
   "source": [
    "try:\n",
    "    l=[1,2,3,4]\n",
    "    l[10]\n",
    "except IndexError as e:\n",
    "    print(e)"
   ]
  },
  {
   "cell_type": "code",
   "execution_count": 29,
   "id": "cb8df6c3",
   "metadata": {},
   "outputs": [
    {
     "name": "stdout",
     "output_type": "stream",
     "text": [
      "unsupported operand type(s) for +: 'int' and 'str'\n"
     ]
    }
   ],
   "source": [
    "try:\n",
    "    123+\"prem\"\n",
    "except TypeError as e:\n",
    "    print(e)"
   ]
  },
  {
   "cell_type": "code",
   "execution_count": 30,
   "id": "4a9e080b",
   "metadata": {},
   "outputs": [
    {
     "name": "stdout",
     "output_type": "stream",
     "text": [
      "[Errno 2] No such file or directory: 'test100.text'\n"
     ]
    }
   ],
   "source": [
    "try:\n",
    "    with open(\"test100.text\",'r') as f:\n",
    "        f.read()\n",
    "except FileNotFoundError as e:\n",
    "    print(e)"
   ]
  },
  {
   "cell_type": "code",
   "execution_count": 33,
   "id": "84ecc84e",
   "metadata": {},
   "outputs": [
    {
     "name": "stdout",
     "output_type": "stream",
     "text": [
      "test [Errno 2] No such file or directory: 'test100.text'\n"
     ]
    }
   ],
   "source": [
    "try:\n",
    "    with open(\"test100.text\",'r') as f:\n",
    "        f.read()\n",
    "except Exception as e:\n",
    "    print(\"test\",e)\n",
    "except FileNotFoundError as e:\n",
    "    print(\"file is not found\",e)"
   ]
  },
  {
   "cell_type": "code",
   "execution_count": 34,
   "id": "65d9b949",
   "metadata": {},
   "outputs": [],
   "source": [
    "def test(file): \n",
    "    try:\n",
    "        with open(\"file\",'r') as f:\n",
    "            f.read()\n",
    "    except Exception as e:\n",
    "        print(\"test\",e)\n",
    "    except FileNotFoundError as e:\n",
    "        print(\"file is not found\",e)"
   ]
  },
  {
   "cell_type": "markdown",
   "id": "bbac6af9",
   "metadata": {},
   "source": [
    "## Best Practice Exception Handling"
   ]
  },
  {
   "cell_type": "code",
   "execution_count": 35,
   "id": "9ee6872c",
   "metadata": {},
   "outputs": [
    {
     "name": "stdout",
     "output_type": "stream",
     "text": [
      "division by zero\n"
     ]
    }
   ],
   "source": [
    "#use always a specific exception\n",
    "#generic method\n",
    "try:\n",
    "    10/0\n",
    "except Exception as e:\n",
    "    print(e)"
   ]
  },
  {
   "cell_type": "code",
   "execution_count": 36,
   "id": "4be37cc7",
   "metadata": {},
   "outputs": [
    {
     "name": "stdout",
     "output_type": "stream",
     "text": [
      "division by zero\n"
     ]
    }
   ],
   "source": [
    "#use alwyas specific method\n",
    "try:\n",
    "    10/0\n",
    "except ZeroDivisionError as e:\n",
    "    print(e)"
   ]
  },
  {
   "cell_type": "code",
   "execution_count": 37,
   "id": "82da7cf8",
   "metadata": {},
   "outputs": [
    {
     "name": "stdout",
     "output_type": "stream",
     "text": [
      "this is zero division error i am handling division by zero\n"
     ]
    }
   ],
   "source": [
    "#print always a valid msg\n",
    "try:\n",
    "    10/0\n",
    "except ZeroDivisionError as e:\n",
    "    print(\"this is zero division error i am handling\",e)"
   ]
  },
  {
   "cell_type": "code",
   "execution_count": 38,
   "id": "1b41d981",
   "metadata": {},
   "outputs": [],
   "source": [
    "# always try to log\n",
    "import logging\n",
    "logging.basicConfig(filename=\"error.log\",level=logging.ERROR)\n",
    "\n",
    "try:\n",
    "    10/0\n",
    "    \n",
    "except ZeroDivisionError as e:\n",
    "    logging.error(\"this is zero division error i am handling {} \".format(e))"
   ]
  },
  {
   "cell_type": "code",
   "execution_count": 40,
   "id": "8903726d",
   "metadata": {},
   "outputs": [],
   "source": [
    "#always avoid to write multiple exception handling\n",
    "\n",
    "try:\n",
    "    10/0\n",
    "except FileNotFoundError as e:\n",
    "    logging.error(\"this is my file not found {}\".format(e))\n",
    "\n",
    "except AttributeError as e:\n",
    "    logging.error(\"this is my Attribute arror {}\".format(e))\n",
    "except ZeroDivisionError as e:\n",
    "    logging.error(\"this is zero division error {}\".format(e))"
   ]
  },
  {
   "cell_type": "code",
   "execution_count": 41,
   "id": "354180ab",
   "metadata": {},
   "outputs": [],
   "source": [
    "# alaways prepare a proper documentation"
   ]
  },
  {
   "cell_type": "code",
   "execution_count": null,
   "id": "8241ba56",
   "metadata": {},
   "outputs": [],
   "source": [
    "#clean up all the resources\n",
    "try:\n",
    "    with open(\"test.txt\",'w') as f:\n",
    "        f.write(\"this is my msg\")\n",
    "        \n",
    "except FileNotFoundError as e:\n",
    "    logging.error(\"this is my file not found {}\".format(e))\n",
    "    \n",
    "finally:\n",
    "    f.close();"
   ]
  }
 ],
 "metadata": {
  "kernelspec": {
   "display_name": "Python 3 (ipykernel)",
   "language": "python",
   "name": "python3"
  },
  "language_info": {
   "codemirror_mode": {
    "name": "ipython",
    "version": 3
   },
   "file_extension": ".py",
   "mimetype": "text/x-python",
   "name": "python",
   "nbconvert_exporter": "python",
   "pygments_lexer": "ipython3",
   "version": "3.10.7"
  }
 },
 "nbformat": 4,
 "nbformat_minor": 5
}
