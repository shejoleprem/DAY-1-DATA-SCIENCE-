{
 "cells": [
  {
   "cell_type": "markdown",
   "id": "bdad7068",
   "metadata": {},
   "source": [
    "## Assignment-2"
   ]
  },
  {
   "cell_type": "markdown",
   "id": "197e209f",
   "metadata": {},
   "source": [
    "* Q.1 W.A.P to accept percentage from the user and display the grade according criteria"
   ]
  },
  {
   "cell_type": "code",
   "execution_count": 1,
   "id": "e5dd7677",
   "metadata": {},
   "outputs": [
    {
     "name": "stdout",
     "output_type": "stream",
     "text": [
      "enter your marks:91\n",
      "A\n"
     ]
    }
   ],
   "source": [
    "marks=float(input(\"enter your marks:\"))\n",
    "if marks>90:\n",
    "    print(\"A\")\n",
    "elif marks<=90 and marks>80:\n",
    "    print(\"B\")\n",
    "elif marks>=60 and marks<=80:\n",
    "    print(\"C\")\n",
    "else:\n",
    "    print(\"D\")"
   ]
  },
  {
   "cell_type": "markdown",
   "id": "d9cc4051",
   "metadata": {},
   "source": [
    "* W.A.P to accept the cost price of a bike and display the road tax to paid according to following criteria"
   ]
  },
  {
   "cell_type": "code",
   "execution_count": 4,
   "id": "0ba11d5a",
   "metadata": {},
   "outputs": [
    {
     "name": "stdout",
     "output_type": "stream",
     "text": [
      "enter the Price:20000\n",
      "price is 1000.0\n"
     ]
    }
   ],
   "source": [
    "cp=int(input(\"enter the Price:\"))\n",
    "\n",
    "if cp>100000:\n",
    "    print(f\"price is {(cp*15)/100}\")\n",
    "elif cp>50000 and cp<=100000:\n",
    "    print(\"price is {}\".format((cp*10)/100))\n",
    "elif cp<=50000:\n",
    "    print(\"price is {pri}\".format(pri=(cp*5)/100))"
   ]
  },
  {
   "cell_type": "markdown",
   "id": "c78ff27c",
   "metadata": {},
   "source": [
    "* Accept the city from the user and display monuments of that city"
   ]
  },
  {
   "cell_type": "code",
   "execution_count": 7,
   "id": "e38e23b0",
   "metadata": {},
   "outputs": [
    {
     "name": "stdout",
     "output_type": "stream",
     "text": [
      "enter city:Agra\n",
      "Taj Mahal\n"
     ]
    }
   ],
   "source": [
    "city=str(input(\"enter city:\"))\n",
    "if city=='Delhi':\n",
    "    print(\"Red Fort\")\n",
    "elif city==\"Agra\":\n",
    "    print(\"Taj Mahal\")\n",
    "elif city==\"jaipur\":s\n",
    "    print(\"Lal Mahal\")"
   ]
  },
  {
   "cell_type": "markdown",
   "id": "17a29d76",
   "metadata": {},
   "source": [
    "* how many times the given number can be devided by 3 before it is less than or equal to 10"
   ]
  },
  {
   "cell_type": "code",
   "execution_count": 13,
   "id": "1e0098a4",
   "metadata": {},
   "outputs": [
    {
     "name": "stdout",
     "output_type": "stream",
     "text": [
      "enter a number:20\n",
      "1\n"
     ]
    }
   ],
   "source": [
    "count=0s\n",
    "num=int(input(\"enter a number:\"))\n",
    "\n",
    "while num>=10:\n",
    "    count=count+1\n",
    "    num=num/3\n",
    "    \n",
    "print(count)"
   ]
  },
  {
   "cell_type": "markdown",
   "id": "99d92e9c",
   "metadata": {},
   "source": [
    "* why and when to use while loop in python give detailed description with example"
   ]
  },
  {
   "cell_type": "code",
   "execution_count": 19,
   "id": "e8dc9adb",
   "metadata": {},
   "outputs": [
    {
     "name": "stdout",
     "output_type": "stream",
     "text": [
      "5\n",
      "4\n",
      "6\n",
      "7\n",
      "9\n",
      "2\n",
      "2\n"
     ]
    }
   ],
   "source": [
    "\"\"\" while loop is used to iterate the things with some conditions\"\"\"\n",
    "\n",
    "lis=list([5,4,6,7,9,2,2])\n",
    "cunt=0\n",
    "while cunt<len(lis):\n",
    "    print(lis[cunt])\n",
    "    cunt=cunt+1"
   ]
  },
  {
   "cell_type": "markdown",
   "id": "a493ca66",
   "metadata": {},
   "source": [
    "* use nested while loop to print 3 different patterns"
   ]
  },
  {
   "cell_type": "markdown",
   "id": "e81a7c7b",
   "metadata": {},
   "source": [
    "* pattern1"
   ]
  },
  {
   "cell_type": "code",
   "execution_count": 4,
   "id": "18b2e2db",
   "metadata": {},
   "outputs": [
    {
     "name": "stdout",
     "output_type": "stream",
     "text": [
      "*****\r\n",
      "*****\r\n",
      "*****\r\n",
      "*****\r\n"
     ]
    }
   ],
   "source": [
    "i=0\n",
    "while i<4:\n",
    "    j=4\n",
    "    while j>=0:\n",
    "        print(\"*\",end=\"\")\n",
    "        j=j-1\n",
    "    print(\"\\r\")\n",
    "    i=i+1"
   ]
  },
  {
   "cell_type": "markdown",
   "id": "3af9d7ba",
   "metadata": {},
   "source": [
    "* pattern 2"
   ]
  },
  {
   "cell_type": "code",
   "execution_count": 3,
   "id": "e9cfdf2e",
   "metadata": {},
   "outputs": [
    {
     "name": "stdout",
     "output_type": "stream",
     "text": [
      "*\r\n",
      "**\r\n",
      "***\r\n",
      "****\r\n"
     ]
    }
   ],
   "source": [
    "i=0\n",
    "while i<4:\n",
    "    j=0\n",
    "    while j<=i:\n",
    "        print(\"*\",end=\"\")\n",
    "        j=j+1\n",
    "    print(\"\\r\")\n",
    "    i=i+1"
   ]
  },
  {
   "cell_type": "markdown",
   "id": "3502ffb2",
   "metadata": {},
   "source": [
    "pattern 3"
   ]
  },
  {
   "cell_type": "code",
   "execution_count": 2,
   "id": "2480ea28",
   "metadata": {},
   "outputs": [
    {
     "name": "stdout",
     "output_type": "stream",
     "text": [
      "*\r\n",
      "**\r\n",
      "***\r\n",
      "****\r\n",
      "*****\r\n",
      "****\r\n",
      "***\r\n",
      "**\r\n",
      "*\r\n"
     ]
    }
   ],
   "source": [
    "i=0\n",
    "while i<4:\n",
    "    j=0\n",
    "    while j<=i:\n",
    "        print(\"*\",end=\"\")\n",
    "        j=j+1\n",
    "    print(\"\\r\")\n",
    "    i=i+1\n",
    "n=4\n",
    "i=0\n",
    "while i<=4:\n",
    "    j=n\n",
    "    while j>=0:\n",
    "        print(\"*\",end=\"\")\n",
    "        j=j-1\n",
    "    print(\"\\r\")\n",
    "    n=n-1\n",
    "    i=i+1"
   ]
  },
  {
   "cell_type": "markdown",
   "id": "8a28a474",
   "metadata": {},
   "source": [
    "* Reverse a While Loop to display numbers from 10 to 1"
   ]
  },
  {
   "cell_type": "code",
   "execution_count": 1,
   "id": "465e978d",
   "metadata": {},
   "outputs": [
    {
     "name": "stdout",
     "output_type": "stream",
     "text": [
      "10\n",
      "9\n",
      "8\n",
      "7\n",
      "6\n",
      "5\n",
      "4\n",
      "3\n",
      "2\n",
      "1\n"
     ]
    }
   ],
   "source": [
    "i=10\n",
    "while i>0:\n",
    "    print(i)\n",
    "    i=i-1"
   ]
  },
  {
   "cell_type": "code",
   "execution_count": null,
   "id": "c7a797a9",
   "metadata": {},
   "outputs": [],
   "source": []
  }
 ],
 "metadata": {
  "kernelspec": {
   "display_name": "Python 3 (ipykernel)",
   "language": "python",
   "name": "python3"
  },
  "language_info": {
   "codemirror_mode": {
    "name": "ipython",
    "version": 3
   },
   "file_extension": ".py",
   "mimetype": "text/x-python",
   "name": "python",
   "nbconvert_exporter": "python",
   "pygments_lexer": "ipython3",
   "version": "3.10.7"
  }
 },
 "nbformat": 4,
 "nbformat_minor": 5
}
