{
 "cells": [
  {
   "cell_type": "markdown",
   "id": "2d60b4b9",
   "metadata": {},
   "source": [
    "# Dictionary-Python-Day5\n",
    "#### key value pair"
   ]
  },
  {
   "cell_type": "code",
   "execution_count": 1,
   "id": "42c1af86",
   "metadata": {},
   "outputs": [],
   "source": [
    "d={}"
   ]
  },
  {
   "cell_type": "code",
   "execution_count": 2,
   "id": "04e58976",
   "metadata": {},
   "outputs": [
    {
     "data": {
      "text/plain": [
       "dict"
      ]
     },
     "execution_count": 2,
     "metadata": {},
     "output_type": "execute_result"
    }
   ],
   "source": [
    "type(d)"
   ]
  },
  {
   "cell_type": "code",
   "execution_count": 5,
   "id": "30eaaf3e",
   "metadata": {},
   "outputs": [],
   "source": [
    "d1={\"name\":\"prem\",\"email_id\":\"shejoleprem01@gmail.com\",\"num\":95793}"
   ]
  },
  {
   "cell_type": "code",
   "execution_count": 6,
   "id": "6956afe9",
   "metadata": {},
   "outputs": [
    {
     "data": {
      "text/plain": [
       "{'name': 'prem', 'email_id': 'shejoleprem01@gmail.com', 'num': 95793}"
      ]
     },
     "execution_count": 6,
     "metadata": {},
     "output_type": "execute_result"
    }
   ],
   "source": [
    "d1"
   ]
  },
  {
   "cell_type": "code",
   "execution_count": 9,
   "id": "933ecc77",
   "metadata": {},
   "outputs": [
    {
     "data": {
      "text/plain": [
       "{'name': 'prem'}"
      ]
     },
     "execution_count": 9,
     "metadata": {},
     "output_type": "execute_result"
    }
   ],
   "source": [
    "\n",
    "d2={\"name\":\"shejole\",\"name\":\"prem\"}\n",
    "d2"
   ]
  },
  {
   "cell_type": "code",
   "execution_count": 10,
   "id": "d60e0419",
   "metadata": {},
   "outputs": [],
   "source": [
    "d3={957933:'abc'}"
   ]
  },
  {
   "cell_type": "code",
   "execution_count": 11,
   "id": "a6c5293d",
   "metadata": {},
   "outputs": [
    {
     "data": {
      "text/plain": [
       "{957933: 'abc'}"
      ]
     },
     "execution_count": 11,
     "metadata": {},
     "output_type": "execute_result"
    }
   ],
   "source": [
    "d3"
   ]
  },
  {
   "cell_type": "code",
   "execution_count": 12,
   "id": "cf2fd941",
   "metadata": {},
   "outputs": [],
   "source": [
    "d4={234.5:'abc'}"
   ]
  },
  {
   "cell_type": "code",
   "execution_count": 13,
   "id": "1fc805ef",
   "metadata": {},
   "outputs": [
    {
     "data": {
      "text/plain": [
       "{234.5: 'abc'}"
      ]
     },
     "execution_count": 13,
     "metadata": {},
     "output_type": "execute_result"
    }
   ],
   "source": [
    "d4"
   ]
  },
  {
   "cell_type": "code",
   "execution_count": 14,
   "id": "44291149",
   "metadata": {},
   "outputs": [],
   "source": [
    "d4={True:'abc'}"
   ]
  },
  {
   "cell_type": "code",
   "execution_count": 15,
   "id": "d1bfcc92",
   "metadata": {},
   "outputs": [
    {
     "data": {
      "text/plain": [
       "{True: 'abc'}"
      ]
     },
     "execution_count": 15,
     "metadata": {},
     "output_type": "execute_result"
    }
   ],
   "source": [
    "d4"
   ]
  },
  {
   "cell_type": "code",
   "execution_count": 16,
   "id": "49142071",
   "metadata": {},
   "outputs": [
    {
     "ename": "SyntaxError",
     "evalue": "invalid syntax (419721391.py, line 1)",
     "output_type": "error",
     "traceback": [
      "\u001b[1;36m  Cell \u001b[1;32mIn [16], line 1\u001b[1;36m\u001b[0m\n\u001b[1;33m    d5={@:'abc'}\u001b[0m\n\u001b[1;37m        ^\u001b[0m\n\u001b[1;31mSyntaxError\u001b[0m\u001b[1;31m:\u001b[0m invalid syntax\n"
     ]
    }
   ],
   "source": [
    "#special characters are not allowed as key\n",
    "d5={@:'abc'}"
   ]
  },
  {
   "cell_type": "code",
   "execution_count": 17,
   "id": "4dbf89ee",
   "metadata": {},
   "outputs": [
    {
     "ename": "TypeError",
     "evalue": "unhashable type: 'list'",
     "output_type": "error",
     "traceback": [
      "\u001b[1;31m---------------------------------------------------------------------------\u001b[0m",
      "\u001b[1;31mTypeError\u001b[0m                                 Traceback (most recent call last)",
      "Cell \u001b[1;32mIn [17], line 1\u001b[0m\n\u001b[1;32m----> 1\u001b[0m d6\u001b[38;5;241m=\u001b[39m{[\u001b[38;5;241m1\u001b[39m,\u001b[38;5;241m2\u001b[39m,\u001b[38;5;241m3\u001b[39m]:\u001b[38;5;124m\"\u001b[39m\u001b[38;5;124mabc\u001b[39m\u001b[38;5;124m\"\u001b[39m}\n",
      "\u001b[1;31mTypeError\u001b[0m: unhashable type: 'list'"
     ]
    }
   ],
   "source": [
    "#list can not be a key \n",
    "d6={[1,2,3]:\"abc\"}"
   ]
  },
  {
   "cell_type": "code",
   "execution_count": 19,
   "id": "bc3f2028",
   "metadata": {},
   "outputs": [],
   "source": [
    "#tuple can be a key \n",
    "d7={(1,2,3):\"abc\"}"
   ]
  },
  {
   "cell_type": "code",
   "execution_count": 20,
   "id": "04d17caa",
   "metadata": {},
   "outputs": [
    {
     "data": {
      "text/plain": [
       "{(1, 2, 3): 'abc'}"
      ]
     },
     "execution_count": 20,
     "metadata": {},
     "output_type": "execute_result"
    }
   ],
   "source": [
    "d7"
   ]
  },
  {
   "cell_type": "code",
   "execution_count": 21,
   "id": "c3b59a71",
   "metadata": {},
   "outputs": [
    {
     "ename": "TypeError",
     "evalue": "unhashable type: 'set'",
     "output_type": "error",
     "traceback": [
      "\u001b[1;31m---------------------------------------------------------------------------\u001b[0m",
      "\u001b[1;31mTypeError\u001b[0m                                 Traceback (most recent call last)",
      "Cell \u001b[1;32mIn [21], line 1\u001b[0m\n\u001b[1;32m----> 1\u001b[0m d8\u001b[38;5;241m=\u001b[39m{{\u001b[38;5;241m1\u001b[39m,\u001b[38;5;241m2\u001b[39m,\u001b[38;5;241m3\u001b[39m}:\u001b[38;5;124m\"\u001b[39m\u001b[38;5;124mabc\u001b[39m\u001b[38;5;124m\"\u001b[39m}\n",
      "\u001b[1;31mTypeError\u001b[0m: unhashable type: 'set'"
     ]
    }
   ],
   "source": [
    "#tuple can not be a key\n",
    "d8={{1,2,3}:\"abc\"}"
   ]
  },
  {
   "cell_type": "code",
   "execution_count": 22,
   "id": "91f0cec7",
   "metadata": {},
   "outputs": [
    {
     "ename": "TypeError",
     "evalue": "unhashable type: 'dict'",
     "output_type": "error",
     "traceback": [
      "\u001b[1;31m---------------------------------------------------------------------------\u001b[0m",
      "\u001b[1;31mTypeError\u001b[0m                                 Traceback (most recent call last)",
      "Cell \u001b[1;32mIn [22], line 1\u001b[0m\n\u001b[1;32m----> 1\u001b[0m d9\u001b[38;5;241m=\u001b[39m{{\u001b[38;5;124m\"\u001b[39m\u001b[38;5;124mkey\u001b[39m\u001b[38;5;124m\"\u001b[39m:\u001b[38;5;241m9579\u001b[39m}:\u001b[38;5;124m\"\u001b[39m\u001b[38;5;124mabc\u001b[39m\u001b[38;5;124m\"\u001b[39m}\n",
      "\u001b[1;31mTypeError\u001b[0m: unhashable type: 'dict'"
     ]
    }
   ],
   "source": [
    "#dictionary can not be a key\n",
    "d9={{\"key\":9579}:\"abc\"}"
   ]
  },
  {
   "cell_type": "code",
   "execution_count": 23,
   "id": "3c3fd878",
   "metadata": {},
   "outputs": [],
   "source": [
    "# value can be a list\n",
    "d10={\"course_name\":[\"data science master\",\"web dev\",\"java with system design\"]}"
   ]
  },
  {
   "cell_type": "code",
   "execution_count": 24,
   "id": "d06ce966",
   "metadata": {},
   "outputs": [
    {
     "data": {
      "text/plain": [
       "{'course_name': ['data science master', 'web dev', 'java with system design']}"
      ]
     },
     "execution_count": 24,
     "metadata": {},
     "output_type": "execute_result"
    }
   ],
   "source": [
    "d10"
   ]
  },
  {
   "cell_type": "code",
   "execution_count": 25,
   "id": "6ca3b09a",
   "metadata": {},
   "outputs": [],
   "source": [
    "# value can be tuple\n",
    "d11={\"key\":(1,2,3,4,5)}"
   ]
  },
  {
   "cell_type": "code",
   "execution_count": 26,
   "id": "d32ebe77",
   "metadata": {},
   "outputs": [
    {
     "data": {
      "text/plain": [
       "{'key': (1, 2, 3, 4, 5)}"
      ]
     },
     "execution_count": 26,
     "metadata": {},
     "output_type": "execute_result"
    }
   ],
   "source": [
    "d11"
   ]
  },
  {
   "cell_type": "code",
   "execution_count": 27,
   "id": "ffd23cf3",
   "metadata": {},
   "outputs": [],
   "source": [
    "# value can be set\n",
    "d12={\"key\":{1,2,3,4}}"
   ]
  },
  {
   "cell_type": "code",
   "execution_count": 28,
   "id": "7e45d684",
   "metadata": {},
   "outputs": [
    {
     "data": {
      "text/plain": [
       "{'key': {1, 2, 3, 4}}"
      ]
     },
     "execution_count": 28,
     "metadata": {},
     "output_type": "execute_result"
    }
   ],
   "source": [
    "d12"
   ]
  },
  {
   "cell_type": "code",
   "execution_count": 29,
   "id": "bf448b75",
   "metadata": {},
   "outputs": [],
   "source": [
    "# value can be dictonary\n",
    "d13={\"key\":{\"name\":\"prem\"}}"
   ]
  },
  {
   "cell_type": "code",
   "execution_count": 30,
   "id": "fc928c76",
   "metadata": {},
   "outputs": [
    {
     "data": {
      "text/plain": [
       "{'key': {'name': 'prem'}}"
      ]
     },
     "execution_count": 30,
     "metadata": {},
     "output_type": "execute_result"
    }
   ],
   "source": [
    "d13"
   ]
  },
  {
   "cell_type": "code",
   "execution_count": 31,
   "id": "c2015a67",
   "metadata": {},
   "outputs": [],
   "source": [
    "d14={\"batch_name\":[\"data science master\",\"web dev\",\"java with system design\"],\"startdate\":(28,14,21)}"
   ]
  },
  {
   "cell_type": "code",
   "execution_count": 32,
   "id": "53d516ff",
   "metadata": {},
   "outputs": [
    {
     "data": {
      "text/plain": [
       "{'batch_name': ['data science master', 'web dev', 'java with system design'],\n",
       " 'startdate': (28, 14, 21)}"
      ]
     },
     "execution_count": 32,
     "metadata": {},
     "output_type": "execute_result"
    }
   ],
   "source": [
    "d14"
   ]
  },
  {
   "cell_type": "code",
   "execution_count": 33,
   "id": "e5b33232",
   "metadata": {},
   "outputs": [],
   "source": [
    "# add or update in dictonary\n",
    "d14[\"timing\"]=(8,8,8)"
   ]
  },
  {
   "cell_type": "code",
   "execution_count": 34,
   "id": "8001fde8",
   "metadata": {},
   "outputs": [
    {
     "data": {
      "text/plain": [
       "{'batch_name': ['data science master', 'web dev', 'java with system design'],\n",
       " 'startdate': (28, 14, 21),\n",
       " 'timing': (8, 8, 8)}"
      ]
     },
     "execution_count": 34,
     "metadata": {},
     "output_type": "execute_result"
    }
   ],
   "source": [
    "d14"
   ]
  },
  {
   "cell_type": "code",
   "execution_count": 36,
   "id": "78d13b39",
   "metadata": {},
   "outputs": [
    {
     "data": {
      "text/plain": [
       "['data science master', 'web dev', 'java with system design']"
      ]
     },
     "execution_count": 36,
     "metadata": {},
     "output_type": "execute_result"
    }
   ],
   "source": [
    "#extraction using keys \n",
    "d14['batch_name']"
   ]
  },
  {
   "cell_type": "code",
   "execution_count": 37,
   "id": "e39955e0",
   "metadata": {},
   "outputs": [
    {
     "ename": "KeyError",
     "evalue": "'key'",
     "output_type": "error",
     "traceback": [
      "\u001b[1;31m---------------------------------------------------------------------------\u001b[0m",
      "\u001b[1;31mKeyError\u001b[0m                                  Traceback (most recent call last)",
      "Cell \u001b[1;32mIn [37], line 1\u001b[0m\n\u001b[1;32m----> 1\u001b[0m d14[\u001b[38;5;124m\"\u001b[39m\u001b[38;5;124mkey\u001b[39m\u001b[38;5;124m\"\u001b[39m]\n",
      "\u001b[1;31mKeyError\u001b[0m: 'key'"
     ]
    }
   ],
   "source": [
    "d14[\"key\"]"
   ]
  },
  {
   "cell_type": "code",
   "execution_count": 38,
   "id": "ce1f27d8",
   "metadata": {},
   "outputs": [],
   "source": [
    "d14[\"name\"]=\"prem\""
   ]
  },
  {
   "cell_type": "code",
   "execution_count": 39,
   "id": "45fb954b",
   "metadata": {},
   "outputs": [
    {
     "data": {
      "text/plain": [
       "{'batch_name': ['data science master', 'web dev', 'java with system design'],\n",
       " 'startdate': (28, 14, 21),\n",
       " 'timing': (8, 8, 8),\n",
       " 'name': 'prem'}"
      ]
     },
     "execution_count": 39,
     "metadata": {},
     "output_type": "execute_result"
    }
   ],
   "source": [
    "d14"
   ]
  },
  {
   "cell_type": "code",
   "execution_count": 40,
   "id": "91785be4",
   "metadata": {},
   "outputs": [
    {
     "data": {
      "text/plain": [
       "'prem'"
      ]
     },
     "execution_count": 40,
     "metadata": {},
     "output_type": "execute_result"
    }
   ],
   "source": [
    "d14[\"name\"]"
   ]
  },
  {
   "cell_type": "code",
   "execution_count": 41,
   "id": "9d895371",
   "metadata": {},
   "outputs": [
    {
     "data": {
      "text/plain": [
       "'PREM'"
      ]
     },
     "execution_count": 41,
     "metadata": {},
     "output_type": "execute_result"
    }
   ],
   "source": [
    "d14[\"name\"].upper()"
   ]
  },
  {
   "cell_type": "code",
   "execution_count": 42,
   "id": "e36bf7d8",
   "metadata": {},
   "outputs": [
    {
     "data": {
      "text/plain": [
       "{'key': {'name': 'prem'}}"
      ]
     },
     "execution_count": 42,
     "metadata": {},
     "output_type": "execute_result"
    }
   ],
   "source": [
    "d13"
   ]
  },
  {
   "cell_type": "code",
   "execution_count": 43,
   "id": "3111af3e",
   "metadata": {},
   "outputs": [
    {
     "data": {
      "text/plain": [
       "{'name': 'prem'}"
      ]
     },
     "execution_count": 43,
     "metadata": {},
     "output_type": "execute_result"
    }
   ],
   "source": [
    "d13['key']"
   ]
  },
  {
   "cell_type": "code",
   "execution_count": 44,
   "id": "738af267",
   "metadata": {},
   "outputs": [],
   "source": [
    "d13={'key': {'name': 'prem','class':'DSM'}}"
   ]
  },
  {
   "cell_type": "code",
   "execution_count": 45,
   "id": "f5269746",
   "metadata": {},
   "outputs": [
    {
     "data": {
      "text/plain": [
       "'DSM'"
      ]
     },
     "execution_count": 45,
     "metadata": {},
     "output_type": "execute_result"
    }
   ],
   "source": [
    "d13['key']['class']"
   ]
  },
  {
   "cell_type": "code",
   "execution_count": 46,
   "id": "828b886d",
   "metadata": {},
   "outputs": [
    {
     "data": {
      "text/plain": [
       "{'name': 'prem', 'class': 'DSM'}"
      ]
     },
     "execution_count": 46,
     "metadata": {},
     "output_type": "execute_result"
    }
   ],
   "source": [
    "d13['key']"
   ]
  },
  {
   "cell_type": "code",
   "execution_count": 47,
   "id": "2bcfb769",
   "metadata": {},
   "outputs": [],
   "source": [
    "d13['key1']=\"abc\""
   ]
  },
  {
   "cell_type": "code",
   "execution_count": 48,
   "id": "06a624f0",
   "metadata": {},
   "outputs": [
    {
     "data": {
      "text/plain": [
       "{'key': {'name': 'prem', 'class': 'DSM'}, 'key1': 'abc'}"
      ]
     },
     "execution_count": 48,
     "metadata": {},
     "output_type": "execute_result"
    }
   ],
   "source": [
    "d13"
   ]
  },
  {
   "cell_type": "code",
   "execution_count": 49,
   "id": "e87f6cdd",
   "metadata": {},
   "outputs": [],
   "source": [
    "del d13['key1']"
   ]
  },
  {
   "cell_type": "code",
   "execution_count": 50,
   "id": "b30c77d1",
   "metadata": {},
   "outputs": [
    {
     "data": {
      "text/plain": [
       "{'key': {'name': 'prem', 'class': 'DSM'}}"
      ]
     },
     "execution_count": 50,
     "metadata": {},
     "output_type": "execute_result"
    }
   ],
   "source": [
    "d13"
   ]
  },
  {
   "cell_type": "code",
   "execution_count": 51,
   "id": "db06bc4f",
   "metadata": {},
   "outputs": [],
   "source": [
    "d13.clear()"
   ]
  },
  {
   "cell_type": "code",
   "execution_count": 52,
   "id": "43ff3e02",
   "metadata": {},
   "outputs": [
    {
     "data": {
      "text/plain": [
       "{}"
      ]
     },
     "execution_count": 52,
     "metadata": {},
     "output_type": "execute_result"
    }
   ],
   "source": [
    "d13"
   ]
  },
  {
   "cell_type": "code",
   "execution_count": 53,
   "id": "2739172b",
   "metadata": {},
   "outputs": [
    {
     "data": {
      "text/plain": [
       "4"
      ]
     },
     "execution_count": 53,
     "metadata": {},
     "output_type": "execute_result"
    }
   ],
   "source": [
    "len(d14)"
   ]
  },
  {
   "cell_type": "code",
   "execution_count": 54,
   "id": "530551b9",
   "metadata": {},
   "outputs": [
    {
     "data": {
      "text/plain": [
       "dict_keys(['batch_name', 'startdate', 'timing', 'name'])"
      ]
     },
     "execution_count": 54,
     "metadata": {},
     "output_type": "execute_result"
    }
   ],
   "source": [
    "d14.keys()"
   ]
  },
  {
   "cell_type": "code",
   "execution_count": 55,
   "id": "37a3f8f6",
   "metadata": {},
   "outputs": [
    {
     "data": {
      "text/plain": [
       "dict_values([['data science master', 'web dev', 'java with system design'], (28, 14, 21), (8, 8, 8), 'prem'])"
      ]
     },
     "execution_count": 55,
     "metadata": {},
     "output_type": "execute_result"
    }
   ],
   "source": [
    "d14.values()"
   ]
  },
  {
   "cell_type": "code",
   "execution_count": 57,
   "id": "7fe62a82",
   "metadata": {},
   "outputs": [
    {
     "data": {
      "text/plain": [
       "[['data science master', 'web dev', 'java with system design'],\n",
       " (28, 14, 21),\n",
       " (8, 8, 8),\n",
       " 'prem']"
      ]
     },
     "execution_count": 57,
     "metadata": {},
     "output_type": "execute_result"
    }
   ],
   "source": [
    "#dict to list\n",
    "list(d14.values())"
   ]
  },
  {
   "cell_type": "code",
   "execution_count": 58,
   "id": "0796f204",
   "metadata": {},
   "outputs": [
    {
     "data": {
      "text/plain": [
       "['batch_name', 'startdate', 'timing', 'name']"
      ]
     },
     "execution_count": 58,
     "metadata": {},
     "output_type": "execute_result"
    }
   ],
   "source": [
    "list(d14.keys())"
   ]
  },
  {
   "cell_type": "code",
   "execution_count": 59,
   "id": "dbffe97f",
   "metadata": {},
   "outputs": [
    {
     "data": {
      "text/plain": [
       "dict_items([('batch_name', ['data science master', 'web dev', 'java with system design']), ('startdate', (28, 14, 21)), ('timing', (8, 8, 8)), ('name', 'prem')])"
      ]
     },
     "execution_count": 59,
     "metadata": {},
     "output_type": "execute_result"
    }
   ],
   "source": [
    "d14.items()"
   ]
  },
  {
   "cell_type": "code",
   "execution_count": 60,
   "id": "e882e3db",
   "metadata": {},
   "outputs": [
    {
     "data": {
      "text/plain": [
       "[('batch_name', ['data science master', 'web dev', 'java with system design']),\n",
       " ('startdate', (28, 14, 21)),\n",
       " ('timing', (8, 8, 8)),\n",
       " ('name', 'prem')]"
      ]
     },
     "execution_count": 60,
     "metadata": {},
     "output_type": "execute_result"
    }
   ],
   "source": [
    "list(d14.items())"
   ]
  },
  {
   "cell_type": "code",
   "execution_count": 61,
   "id": "2ceb247b",
   "metadata": {},
   "outputs": [
    {
     "data": {
      "text/plain": [
       "{'batch_name': ['data science master', 'web dev', 'java with system design'],\n",
       " 'startdate': (28, 14, 21),\n",
       " 'timing': (8, 8, 8),\n",
       " 'name': 'prem'}"
      ]
     },
     "execution_count": 61,
     "metadata": {},
     "output_type": "execute_result"
    }
   ],
   "source": [
    "d14"
   ]
  },
  {
   "cell_type": "code",
   "execution_count": 62,
   "id": "64c2c8be",
   "metadata": {},
   "outputs": [],
   "source": [
    "d15=d14.copy()"
   ]
  },
  {
   "cell_type": "code",
   "execution_count": 63,
   "id": "f0f8f95b",
   "metadata": {},
   "outputs": [
    {
     "data": {
      "text/plain": [
       "{'batch_name': ['data science master', 'web dev', 'java with system design'],\n",
       " 'startdate': (28, 14, 21),\n",
       " 'timing': (8, 8, 8),\n",
       " 'name': 'prem'}"
      ]
     },
     "execution_count": 63,
     "metadata": {},
     "output_type": "execute_result"
    }
   ],
   "source": [
    "d15"
   ]
  },
  {
   "cell_type": "code",
   "execution_count": 64,
   "id": "b780ff23",
   "metadata": {},
   "outputs": [],
   "source": [
    "del d14['name']"
   ]
  },
  {
   "cell_type": "code",
   "execution_count": 65,
   "id": "ea82251f",
   "metadata": {},
   "outputs": [
    {
     "data": {
      "text/plain": [
       "{'batch_name': ['data science master', 'web dev', 'java with system design'],\n",
       " 'startdate': (28, 14, 21),\n",
       " 'timing': (8, 8, 8)}"
      ]
     },
     "execution_count": 65,
     "metadata": {},
     "output_type": "execute_result"
    }
   ],
   "source": [
    "d14"
   ]
  },
  {
   "cell_type": "code",
   "execution_count": 66,
   "id": "e3ccf290",
   "metadata": {},
   "outputs": [
    {
     "data": {
      "text/plain": [
       "{'batch_name': ['data science master', 'web dev', 'java with system design'],\n",
       " 'startdate': (28, 14, 21),\n",
       " 'timing': (8, 8, 8),\n",
       " 'name': 'prem'}"
      ]
     },
     "execution_count": 66,
     "metadata": {},
     "output_type": "execute_result"
    }
   ],
   "source": [
    "d15"
   ]
  },
  {
   "cell_type": "code",
   "execution_count": 67,
   "id": "a3b32695",
   "metadata": {},
   "outputs": [],
   "source": [
    "#not create a new memory location both are pointing to same memory location\n",
    "d16=d14"
   ]
  },
  {
   "cell_type": "code",
   "execution_count": 68,
   "id": "5657ed2e",
   "metadata": {},
   "outputs": [
    {
     "data": {
      "text/plain": [
       "{'batch_name': ['data science master', 'web dev', 'java with system design'],\n",
       " 'startdate': (28, 14, 21),\n",
       " 'timing': (8, 8, 8)}"
      ]
     },
     "execution_count": 68,
     "metadata": {},
     "output_type": "execute_result"
    }
   ],
   "source": [
    "d16"
   ]
  },
  {
   "cell_type": "code",
   "execution_count": 69,
   "id": "eb0a0976",
   "metadata": {},
   "outputs": [
    {
     "ename": "TypeError",
     "evalue": "pop expected at least 1 argument, got 0",
     "output_type": "error",
     "traceback": [
      "\u001b[1;31m---------------------------------------------------------------------------\u001b[0m",
      "\u001b[1;31mTypeError\u001b[0m                                 Traceback (most recent call last)",
      "Cell \u001b[1;32mIn [69], line 1\u001b[0m\n\u001b[1;32m----> 1\u001b[0m d16\u001b[38;5;241m.\u001b[39mpop()\n",
      "\u001b[1;31mTypeError\u001b[0m: pop expected at least 1 argument, got 0"
     ]
    }
   ],
   "source": [
    "d16.pop()"
   ]
  },
  {
   "cell_type": "code",
   "execution_count": 70,
   "id": "35490218",
   "metadata": {},
   "outputs": [
    {
     "data": {
      "text/plain": [
       "(8, 8, 8)"
      ]
     },
     "execution_count": 70,
     "metadata": {},
     "output_type": "execute_result"
    }
   ],
   "source": [
    "d16.pop(\"timing\")"
   ]
  },
  {
   "cell_type": "code",
   "execution_count": 71,
   "id": "2b9bea98",
   "metadata": {},
   "outputs": [
    {
     "data": {
      "text/plain": [
       "{1: ('a', 'b', 'c'), 2: ('a', 'b', 'c'), 3: ('a', 'b', 'c')}"
      ]
     },
     "execution_count": 71,
     "metadata": {},
     "output_type": "execute_result"
    }
   ],
   "source": [
    "d.fromkeys((1,2,3),('a','b','c'))"
   ]
  },
  {
   "cell_type": "code",
   "execution_count": 73,
   "id": "97770808",
   "metadata": {},
   "outputs": [],
   "source": [
    "d19={\"key1\":\"value\",\"key2\":\"value2\"}\n",
    "d20={\"key3\":\"value3\",\"key4\":\"value4\"}"
   ]
  },
  {
   "cell_type": "code",
   "execution_count": 74,
   "id": "077d3770",
   "metadata": {},
   "outputs": [
    {
     "data": {
      "text/plain": [
       "({'key1': 'value', 'key2': 'value2'}, {'key3': 'value3', 'key4': 'value4'})"
      ]
     },
     "execution_count": 74,
     "metadata": {},
     "output_type": "execute_result"
    }
   ],
   "source": [
    "(d19,d20)"
   ]
  },
  {
   "cell_type": "code",
   "execution_count": 75,
   "id": "2f46321e",
   "metadata": {},
   "outputs": [],
   "source": [
    "d19.update(d20)"
   ]
  },
  {
   "cell_type": "code",
   "execution_count": 76,
   "id": "ef3250b9",
   "metadata": {},
   "outputs": [
    {
     "data": {
      "text/plain": [
       "{'key1': 'value', 'key2': 'value2', 'key3': 'value3', 'key4': 'value4'}"
      ]
     },
     "execution_count": 76,
     "metadata": {},
     "output_type": "execute_result"
    }
   ],
   "source": [
    "d19"
   ]
  },
  {
   "cell_type": "code",
   "execution_count": 77,
   "id": "097c092f",
   "metadata": {},
   "outputs": [
    {
     "data": {
      "text/plain": [
       "{'key3': 'value3', 'key4': 'value4'}"
      ]
     },
     "execution_count": 77,
     "metadata": {},
     "output_type": "execute_result"
    }
   ],
   "source": [
    "d20"
   ]
  },
  {
   "cell_type": "code",
   "execution_count": 78,
   "id": "a8a872b0",
   "metadata": {},
   "outputs": [],
   "source": [
    "d20.update(d19)"
   ]
  },
  {
   "cell_type": "code",
   "execution_count": 79,
   "id": "2603aed9",
   "metadata": {},
   "outputs": [
    {
     "data": {
      "text/plain": [
       "{'key3': 'value3', 'key4': 'value4', 'key1': 'value', 'key2': 'value2'}"
      ]
     },
     "execution_count": 79,
     "metadata": {},
     "output_type": "execute_result"
    }
   ],
   "source": [
    "d20"
   ]
  },
  {
   "cell_type": "code",
   "execution_count": 80,
   "id": "e30e181e",
   "metadata": {},
   "outputs": [
    {
     "data": {
      "text/plain": [
       "'value'"
      ]
     },
     "execution_count": 80,
     "metadata": {},
     "output_type": "execute_result"
    }
   ],
   "source": [
    "d20.get('key1')"
   ]
  },
  {
   "cell_type": "code",
   "execution_count": 82,
   "id": "9210d0f5",
   "metadata": {},
   "outputs": [
    {
     "data": {
      "text/plain": [
       "'value'"
      ]
     },
     "execution_count": 82,
     "metadata": {},
     "output_type": "execute_result"
    }
   ],
   "source": [
    "d20['key1']"
   ]
  },
  {
   "cell_type": "code",
   "execution_count": 83,
   "id": "436e9c44",
   "metadata": {},
   "outputs": [
    {
     "ename": "KeyError",
     "evalue": "'key5'",
     "output_type": "error",
     "traceback": [
      "\u001b[1;31m---------------------------------------------------------------------------\u001b[0m",
      "\u001b[1;31mKeyError\u001b[0m                                  Traceback (most recent call last)",
      "Cell \u001b[1;32mIn [83], line 1\u001b[0m\n\u001b[1;32m----> 1\u001b[0m d20[\u001b[38;5;124m'\u001b[39m\u001b[38;5;124mkey5\u001b[39m\u001b[38;5;124m'\u001b[39m]\n",
      "\u001b[1;31mKeyError\u001b[0m: 'key5'"
     ]
    }
   ],
   "source": [
    "d20['key5']"
   ]
  },
  {
   "cell_type": "code",
   "execution_count": 84,
   "id": "762bf79f",
   "metadata": {},
   "outputs": [],
   "source": [
    "d20.get('key5')"
   ]
  },
  {
   "cell_type": "markdown",
   "id": "cbe735a7",
   "metadata": {},
   "source": [
    "## Dictionary Comprehension"
   ]
  },
  {
   "cell_type": "code",
   "execution_count": 86,
   "id": "31928a2c",
   "metadata": {},
   "outputs": [
    {
     "data": {
      "text/plain": [
       "{1: 1, 2: 4, 3: 9, 4: 16, 5: 25, 6: 36, 7: 49, 8: 64, 9: 81, 10: 100}"
      ]
     },
     "execution_count": 86,
     "metadata": {},
     "output_type": "execute_result"
    }
   ],
   "source": [
    "{i:i**2 for i in range(1,11)}"
   ]
  },
  {
   "cell_type": "code",
   "execution_count": 87,
   "id": "f9a4ff9d",
   "metadata": {},
   "outputs": [
    {
     "data": {
      "text/plain": [
       "{1: 11, 2: 12, 3: 13, 4: 14, 5: 15, 6: 16, 7: 17, 8: 18, 9: 19, 10: 20}"
      ]
     },
     "execution_count": 87,
     "metadata": {},
     "output_type": "execute_result"
    }
   ],
   "source": [
    "{i:i+10 for i in range(1,11)}"
   ]
  },
  {
   "cell_type": "code",
   "execution_count": 91,
   "id": "666f5bfc",
   "metadata": {},
   "outputs": [
    {
     "data": {
      "text/plain": [
       "[1, 2, 3, 4, 5, 6, 7, 8, 9, 10]"
      ]
     },
     "execution_count": 91,
     "metadata": {},
     "output_type": "execute_result"
    }
   ],
   "source": [
    "#list comprehension\n",
    "num=0\n",
    "[num for num in range(1,11)]"
   ]
  },
  {
   "cell_type": "code",
   "execution_count": 94,
   "id": "e0232cb8",
   "metadata": {},
   "outputs": [
    {
     "data": {
      "text/plain": [
       "[0, 4, 16, 36, 64]"
      ]
     },
     "execution_count": 94,
     "metadata": {},
     "output_type": "execute_result"
    }
   ],
   "source": [
    "[num**2  for num in range(10)if num%2==0]"
   ]
  },
  {
   "cell_type": "code",
   "execution_count": 103,
   "id": "f0d09be3",
   "metadata": {},
   "outputs": [
    {
     "data": {
      "text/plain": [
       "{1: 0.0,\n",
       " 2: 0.3010299956639812,\n",
       " 3: 0.47712125471966244,\n",
       " 4: 0.6020599913279624,\n",
       " 5: 0.6989700043360189,\n",
       " 6: 0.7781512503836436,\n",
       " 7: 0.8450980400142568,\n",
       " 8: 0.9030899869919435,\n",
       " 9: 0.9542425094393249,\n",
       " 10: 1.0,\n",
       " 11: 1.0413926851582251,\n",
       " 12: 1.0791812460476249,\n",
       " 13: 1.1139433523068367,\n",
       " 14: 1.146128035678238,\n",
       " 15: 1.1760912590556813,\n",
       " 16: 1.2041199826559248,\n",
       " 17: 1.2304489213782739,\n",
       " 18: 1.255272505103306,\n",
       " 19: 1.2787536009528289}"
      ]
     },
     "execution_count": 103,
     "metadata": {},
     "output_type": "execute_result"
    }
   ],
   "source": [
    "import math\n",
    "d21={i:math.log10(i) for i in range(1,20)}\n",
    "d21"
   ]
  },
  {
   "cell_type": "code",
   "execution_count": 99,
   "id": "2fac3ec6",
   "metadata": {},
   "outputs": [
    {
     "data": {
      "text/plain": [
       "0.49692964807321494"
      ]
     },
     "execution_count": 99,
     "metadata": {},
     "output_type": "execute_result"
    }
   ],
   "source": [
    "import math\n",
    "math.log10(3.14)"
   ]
  },
  {
   "cell_type": "code",
   "execution_count": 100,
   "id": "b2192529",
   "metadata": {},
   "outputs": [
    {
     "data": {
      "text/plain": [
       "True"
      ]
     },
     "execution_count": 100,
     "metadata": {},
     "output_type": "execute_result"
    }
   ],
   "source": [
    "#check name is availabe or not\n",
    "'batch_name' in d16"
   ]
  },
  {
   "cell_type": "code",
   "execution_count": 101,
   "id": "db4a5f33",
   "metadata": {},
   "outputs": [
    {
     "data": {
      "text/plain": [
       "{2: 0.3010299956639812,\n",
       " 4: 0.6020599913279624,\n",
       " 6: 0.7781512503836436,\n",
       " 8: 0.9030899869919435,\n",
       " 10: 1.0,\n",
       " 12: 1.0791812460476249,\n",
       " 14: 1.146128035678238,\n",
       " 16: 1.2041199826559248,\n",
       " 18: 1.255272505103306}"
      ]
     },
     "execution_count": 101,
     "metadata": {},
     "output_type": "execute_result"
    }
   ],
   "source": [
    "import math\n",
    "{i:math.log10(i) for i in range(1,20) if i%2==0}"
   ]
  },
  {
   "cell_type": "code",
   "execution_count": 105,
   "id": "1c8fad0e",
   "metadata": {},
   "outputs": [
    {
     "name": "stdout",
     "output_type": "stream",
     "text": [
      "2 = 0.3010299956639812\n",
      "4 = 0.6020599913279624\n",
      "6 = 0.7781512503836436\n",
      "8 = 0.9030899869919435\n",
      "10 = 1.0\n",
      "12 = 1.0791812460476249\n",
      "14 = 1.146128035678238\n",
      "16 = 1.2041199826559248\n",
      "18 = 1.255272505103306\n"
     ]
    }
   ],
   "source": [
    "for i in d21.keys():\n",
    "    if i%2==0:\n",
    "        print(i,'=',d21[i])"
   ]
  },
  {
   "cell_type": "code",
   "execution_count": null,
   "id": "f3cc1f25",
   "metadata": {},
   "outputs": [],
   "source": []
  }
 ],
 "metadata": {
  "kernelspec": {
   "display_name": "Python 3 (ipykernel)",
   "language": "python",
   "name": "python3"
  },
  "language_info": {
   "codemirror_mode": {
    "name": "ipython",
    "version": 3
   },
   "file_extension": ".py",
   "mimetype": "text/x-python",
   "name": "python",
   "nbconvert_exporter": "python",
   "pygments_lexer": "ipython3",
   "version": "3.10.7"
  }
 },
 "nbformat": 4,
 "nbformat_minor": 5
}
