{
 "cells": [
  {
   "cell_type": "markdown",
   "id": "8a75b034",
   "metadata": {},
   "source": [
    "# Day10-oops\n",
    "### name:prem shejole"
   ]
  },
  {
   "cell_type": "markdown",
   "id": "e6f73109",
   "metadata": {},
   "source": [
    "### Decorators"
   ]
  },
  {
   "cell_type": "code",
   "execution_count": 1,
   "id": "1780b7b4",
   "metadata": {},
   "outputs": [],
   "source": [
    "def test():\n",
    "    print(\"this is the start of my fun\")\n",
    "    print(4+5)\n",
    "    print(\"this is the end of my fun\")"
   ]
  },
  {
   "cell_type": "code",
   "execution_count": 2,
   "id": "d4de694f",
   "metadata": {},
   "outputs": [
    {
     "name": "stdout",
     "output_type": "stream",
     "text": [
      "this is the start of my fun\n",
      "9\n",
      "this is the end of my fun\n"
     ]
    }
   ],
   "source": [
    "test()"
   ]
  },
  {
   "cell_type": "code",
   "execution_count": 3,
   "id": "e265f43c",
   "metadata": {},
   "outputs": [],
   "source": [
    "def deco(func):\n",
    "    def inner_deco():\n",
    "        print(\"this is the start of my fun\")\n",
    "        func()\n",
    "        print(\"this is the end of my fun\")\n",
    "    return inner_deco"
   ]
  },
  {
   "cell_type": "code",
   "execution_count": 5,
   "id": "571c88a2",
   "metadata": {},
   "outputs": [],
   "source": [
    "@deco\n",
    "def test1():\n",
    "    print(4+5)"
   ]
  },
  {
   "cell_type": "code",
   "execution_count": 6,
   "id": "3a520321",
   "metadata": {},
   "outputs": [
    {
     "name": "stdout",
     "output_type": "stream",
     "text": [
      "this is the start of my fun\n",
      "9\n",
      "this is the end of my fun\n"
     ]
    }
   ],
   "source": [
    "test1()"
   ]
  },
  {
   "cell_type": "code",
   "execution_count": 24,
   "id": "458b62d8",
   "metadata": {},
   "outputs": [],
   "source": [
    "import time\n",
    "\n",
    "def timer(func):\n",
    "    def timer_test():\n",
    "        start=time.time()\n",
    "        func()\n",
    "        end =time.time()\n",
    "        print(end-start)\n",
    "    return timer_test"
   ]
  },
  {
   "cell_type": "code",
   "execution_count": 25,
   "id": "126f8e35",
   "metadata": {},
   "outputs": [],
   "source": [
    "@timer\n",
    "def test2():\n",
    "    print(1000+67)"
   ]
  },
  {
   "cell_type": "code",
   "execution_count": null,
   "id": "d6198126",
   "metadata": {},
   "outputs": [],
   "source": [
    "test2()"
   ]
  },
  {
   "cell_type": "code",
   "execution_count": null,
   "id": "e3ab7812",
   "metadata": {},
   "outputs": [],
   "source": [
    "@timer\n",
    "def test3():\n",
    "    for i in range(10000):\n",
    "        pass"
   ]
  },
  {
   "cell_type": "code",
   "execution_count": null,
   "id": "0e318936",
   "metadata": {},
   "outputs": [],
   "source": [
    "test3()"
   ]
  },
  {
   "cell_type": "markdown",
   "id": "53b48391",
   "metadata": {},
   "source": [
    "### Class method"
   ]
  },
  {
   "cell_type": "code",
   "execution_count": null,
   "id": "ec8e577d",
   "metadata": {},
   "outputs": [],
   "source": [
    "def pwskills:\n",
    "    def __init__(self,name,email):\n",
    "        self.name=name\n",
    "        self.email=email\n",
    "        \n",
    "    def student_details(self):\n",
    "        print(self.name,self.email)"
   ]
  },
  {
   "cell_type": "code",
   "execution_count": null,
   "id": "22bd2b02",
   "metadata": {},
   "outputs": [],
   "source": [
    "pw=pwskills(\"prem\",\"prem@gmail.com\")"
   ]
  },
  {
   "cell_type": "code",
   "execution_count": null,
   "id": "35d391b1",
   "metadata": {},
   "outputs": [],
   "source": [
    "pw.name"
   ]
  },
  {
   "cell_type": "code",
   "execution_count": null,
   "id": "54912f4d",
   "metadata": {},
   "outputs": [],
   "source": [
    "pw.email"
   ]
  },
  {
   "cell_type": "code",
   "execution_count": null,
   "id": "61ea3d45",
   "metadata": {},
   "outputs": [],
   "source": [
    "pw.student_details()"
   ]
  },
  {
   "cell_type": "code",
   "execution_count": null,
   "id": "d0b59043",
   "metadata": {},
   "outputs": [],
   "source": [
    "def pwskills1:\n",
    "    def __init__(self,name,email):\n",
    "        self.name=name\n",
    "        self.email=email\n",
    "    \n",
    "    @classmethod\n",
    "    def details(cls,name,email):\n",
    "        return cls(name,email)\n",
    "    \n",
    "    def student_details(self):\n",
    "        print(self.name,self.email)"
   ]
  },
  {
   "cell_type": "code",
   "execution_count": null,
   "id": "a7468bad",
   "metadata": {},
   "outputs": [],
   "source": [
    "pw1=pwskills1.details(\"Prem\",\"prem.shejole21@vit.edu\")"
   ]
  },
  {
   "cell_type": "code",
   "execution_count": null,
   "id": "28654754",
   "metadata": {},
   "outputs": [],
   "source": [
    "pw1.name"
   ]
  },
  {
   "cell_type": "code",
   "execution_count": null,
   "id": "cc3b9bfe",
   "metadata": {},
   "outputs": [],
   "source": [
    "pw1.email"
   ]
  },
  {
   "cell_type": "code",
   "execution_count": null,
   "id": "2ce6460d",
   "metadata": {},
   "outputs": [],
   "source": [
    "def pwskills2:\n",
    "    \n",
    "    mobile_number=95793355\n",
    "    \n",
    "    def __init__(self,name,email):\n",
    "        self.name=name\n",
    "        self.email=email\n",
    "        \n",
    "    @classmethod\n",
    "    def change_number(cls,mobile):\n",
    "        pwskills2.mobile_number=mobile\n",
    "        \n",
    "    @classmethod\n",
    "    def details(cls,name1,email1):\n",
    "        return cls(name1,email1)\n",
    "    \n",
    "    def student_details(self):\n",
    "        print(self.name,self.email,pwskills2.mobile_number)"
   ]
  },
  {
   "cell_type": "code",
   "execution_count": null,
   "id": "e1eda334",
   "metadata": {},
   "outputs": [],
   "source": [
    "pwskills2.mobile_number"
   ]
  },
  {
   "cell_type": "code",
   "execution_count": null,
   "id": "7a4ce003",
   "metadata": {},
   "outputs": [],
   "source": [
    "pw2=pwskills2.details(\"sohan\",\"sohan@gmail.com\")"
   ]
  },
  {
   "cell_type": "code",
   "execution_count": null,
   "id": "12a74655",
   "metadata": {},
   "outputs": [],
   "source": [
    "pw2.student_details()"
   ]
  },
  {
   "cell_type": "code",
   "execution_count": null,
   "id": "1a48a062",
   "metadata": {},
   "outputs": [],
   "source": [
    "pwskills2.change_number(98223522)"
   ]
  },
  {
   "cell_type": "code",
   "execution_count": null,
   "id": "4390e9bd",
   "metadata": {},
   "outputs": [],
   "source": [
    "def pwskills3:\n",
    "    \n",
    "    mobile_number=95793355\n",
    "    \n",
    "    def __init__(self,name,email):\n",
    "        self.name=name\n",
    "        self.email=email\n",
    "        \n",
    "    @classmethod\n",
    "    def change_number(cls,mobile):\n",
    "        pwskills2.mobile_number=mobile\n",
    "        \n",
    "    @classmethod\n",
    "    def details(cls,name1,email1):\n",
    "        return cls(name1,email1)\n",
    "    \n",
    "    def student_details(self):\n",
    "        print(self.name,self.email,pwskills2.mobile_number)"
   ]
  },
  {
   "cell_type": "code",
   "execution_count": null,
   "id": "68087456",
   "metadata": {},
   "outputs": [],
   "source": [
    "def course_details(cls,course_name):\n",
    "    print(\"course details\", course_name)"
   ]
  },
  {
   "cell_type": "code",
   "execution_count": null,
   "id": "4e090771",
   "metadata": {},
   "outputs": [],
   "source": [
    "pwskills3.course_details=classmethod(course_details)"
   ]
  },
  {
   "cell_type": "code",
   "execution_count": null,
   "id": "aee224e4",
   "metadata": {},
   "outputs": [],
   "source": [
    "pwskills3.course_details(\"data science masters\")"
   ]
  },
  {
   "cell_type": "code",
   "execution_count": null,
   "id": "80f01169",
   "metadata": {},
   "outputs": [],
   "source": [
    "pw3=pwskilld3(\"prem\",\"prem@gmail.com\")"
   ]
  },
  {
   "cell_type": "code",
   "execution_count": null,
   "id": "4670f27c",
   "metadata": {},
   "outputs": [],
   "source": [
    "pw3.course(\"web dev\")"
   ]
  },
  {
   "cell_type": "code",
   "execution_count": null,
   "id": "a6a1a337",
   "metadata": {},
   "outputs": [],
   "source": [
    "def pwskills4:\n",
    "    \n",
    "    mobile_number=95793355\n",
    "    \n",
    "    def __init__(self,name,email):\n",
    "        self.name=name\n",
    "        self.email=email\n",
    "        \n",
    "    @classmethod\n",
    "    def change_number(cls,mobile):\n",
    "        pwskills2.mobile_number=mobile\n",
    "        \n",
    "    @classmethod\n",
    "    def details(cls,name1,email1):\n",
    "        return cls(name1,email1)\n",
    "    \n",
    "    def student_details(self):\n",
    "        print(self.name,self.email,pwskills2.mobile_number)"
   ]
  },
  {
   "cell_type": "code",
   "execution_count": null,
   "id": "9fa26714",
   "metadata": {},
   "outputs": [],
   "source": [
    "del pwskills4.change_number"
   ]
  },
  {
   "cell_type": "code",
   "execution_count": null,
   "id": "00a26bf7",
   "metadata": {},
   "outputs": [],
   "source": [
    "delattr(pwskills4,\"mobile_number\")"
   ]
  },
  {
   "cell_type": "markdown",
   "id": "fdae76e4",
   "metadata": {},
   "source": [
    "### Static Method"
   ]
  },
  {
   "cell_type": "code",
   "execution_count": null,
   "id": "ac42f2b6",
   "metadata": {},
   "outputs": [],
   "source": [
    "class pwskills:\n",
    "    def stud_details(self, name,mai_id,number):\n",
    "        print(name, mail_id, number)"
   ]
  },
  {
   "cell_type": "code",
   "execution_count": null,
   "id": "3bc63b9f",
   "metadata": {},
   "outputs": [],
   "source": [
    "pw=pwskills()"
   ]
  },
  {
   "cell_type": "code",
   "execution_count": null,
   "id": "7f82cca3",
   "metadata": {},
   "outputs": [],
   "source": [
    "pw.stud_details(\"prem\",\"prem@gmail.com\",95793355)"
   ]
  },
  {
   "cell_type": "code",
   "execution_count": null,
   "id": "e8981d3d",
   "metadata": {},
   "outputs": [],
   "source": [
    "class pwskills1:\n",
    "    def stud_details(self, name,mai_id,number):\n",
    "        print(name, mail_id, number)\n",
    "        \n",
    "    @staticmethod\n",
    "    def mentor_class(list_mentor):\n",
    "        print(list_mentor)\n",
    "        \n",
    "    def mentor(self,mentor_list):\n",
    "        print(mentor_list)"
   ]
  },
  {
   "cell_type": "code",
   "execution_count": null,
   "id": "63877e10",
   "metadata": {},
   "outputs": [],
   "source": [
    "pwskills1.mentor_class([\"sudh\",\"krish\"])"
   ]
  },
  {
   "cell_type": "code",
   "execution_count": null,
   "id": "c806ef85",
   "metadata": {},
   "outputs": [],
   "source": [
    "pw1=mentor([\"krish\",\"sudh\"])"
   ]
  },
  {
   "cell_type": "code",
   "execution_count": null,
   "id": "d0fa6822",
   "metadata": {},
   "outputs": [],
   "source": [
    "pwskills1.mentor([\"sudh\",\"krish\"])"
   ]
  },
  {
   "cell_type": "code",
   "execution_count": null,
   "id": "1a79c3d1",
   "metadata": {},
   "outputs": [],
   "source": []
  },
  {
   "cell_type": "code",
   "execution_count": null,
   "id": "397d7fc5",
   "metadata": {},
   "outputs": [],
   "source": [
    "class pwskills2:\n",
    "    def student_details(self, name, mail_id,number):\n",
    "        print(name, mail_id,number)\n",
    "        \n",
    "    @staticmethod\n",
    "    def mentor_mail_id(mail_id):\n",
    "        print(mail_id)\n",
    "        \n",
    "    @staticmethod\n",
    "    def mentor_class(list_mentor):\n",
    "        print(list_mentor)\n",
    "        pwskills2.mentor_mail_id([\"krish@gmail.com\",\"sudh@gmail.com\"])\n",
    "        \n",
    "    @classmethod\n",
    "    def class_name(cls,class_name):\n",
    "        cls.mentor_class([\"sudh\",\"krish\"])\n",
    "        \n",
    "    def mentor(self,mentor_list):\n",
    "        print(mentor_list)\n",
    "        self.mentor_class([\"sudh\",\"krish\"])"
   ]
  },
  {
   "cell_type": "code",
   "execution_count": null,
   "id": "3321f7cb",
   "metadata": {},
   "outputs": [],
   "source": [
    "pw1=pwskills1()"
   ]
  },
  {
   "cell_type": "code",
   "execution_count": null,
   "id": "f6044694",
   "metadata": {},
   "outputs": [],
   "source": [
    "pw1.student_details(\"prem\",\"prem@gmail.com\",95793355)"
   ]
  },
  {
   "cell_type": "code",
   "execution_count": null,
   "id": "238fa1ae",
   "metadata": {},
   "outputs": [],
   "source": [
    "pw1.mentor_mail_id([\"krish@gmail.com\",\"sudh@gmail.com\"])"
   ]
  },
  {
   "cell_type": "code",
   "execution_count": null,
   "id": "a72e9175",
   "metadata": {},
   "outputs": [],
   "source": [
    "pw1.class_name(\"data science masters\")"
   ]
  },
  {
   "cell_type": "code",
   "execution_count": null,
   "id": "bedc1ba0",
   "metadata": {},
   "outputs": [],
   "source": [
    "pwskills1.mentor_mail_id([\"krish@gmail.com\",\"sudh@gmail.com\"])"
   ]
  }
 ],
 "metadata": {
  "kernelspec": {
   "display_name": "Python 3 (ipykernel)",
   "language": "python",
   "name": "python3"
  },
  "language_info": {
   "codemirror_mode": {
    "name": "ipython",
    "version": 3
   },
   "file_extension": ".py",
   "mimetype": "text/x-python",
   "name": "python",
   "nbconvert_exporter": "python",
   "pygments_lexer": "ipython3",
   "version": "3.10.7"
  }
 },
 "nbformat": 4,
 "nbformat_minor": 5
}
