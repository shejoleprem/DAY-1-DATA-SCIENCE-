{
 "cells": [
  {
   "cell_type": "markdown",
   "id": "7dddade7",
   "metadata": {},
   "source": [
    "# Assignment_3"
   ]
  },
  {
   "cell_type": "markdown",
   "id": "dcfb6c36",
   "metadata": {},
   "source": [
    "* Q1. what are the characteristics of tuples?is tuple immutable?\n",
    "* items are orderd\n",
    "* unchangeable\n",
    "* allow duplicate values\n",
    "* tuple is immutable"
   ]
  },
  {
   "cell_type": "markdown",
   "id": "e272f12d",
   "metadata": {},
   "source": [
    "* Q2.what are two tuple methods in python? give an example of each method.give a reason why tuples have two in-built methods as compared to list \n",
    "\n",
    "* index() and count() are two inbuilt methods in tuple\n",
    "* tuples have two in-built methods as compared to list because tuple is immutable means we can not change the tuple"
   ]
  },
  {
   "cell_type": "code",
   "execution_count": 4,
   "id": "1fe7d70a",
   "metadata": {},
   "outputs": [
    {
     "name": "stdout",
     "output_type": "stream",
     "text": [
      "2\n",
      "3\n"
     ]
    }
   ],
   "source": [
    "#Q2.code\n",
    "tup1=(1,2,3,4,4,5,6,7,4,1)\n",
    "print(tup1.index(3))\n",
    "print(tup1.count(4))"
   ]
  },
  {
   "cell_type": "markdown",
   "id": "d774cb5c",
   "metadata": {},
   "source": [
    "* Q3 which collection datatypes in python do not allow duplicate items?write a code using a set to remove duplicates from the given list\n",
    "* set"
   ]
  },
  {
   "cell_type": "code",
   "execution_count": 5,
   "id": "7e9710e4",
   "metadata": {},
   "outputs": [],
   "source": [
    "lst=[1,1,1,2,1,3,1,4,2,1,2,2,2,3,4,3,1,3,2,3,3,3,3,4,4,1,4,2,4,3,4,4]"
   ]
  },
  {
   "cell_type": "code",
   "execution_count": 6,
   "id": "1be161d1",
   "metadata": {},
   "outputs": [],
   "source": [
    "lst2=set(lst)"
   ]
  },
  {
   "cell_type": "code",
   "execution_count": 7,
   "id": "1a214fda",
   "metadata": {},
   "outputs": [
    {
     "data": {
      "text/plain": [
       "{1, 2, 3, 4}"
      ]
     },
     "execution_count": 7,
     "metadata": {},
     "output_type": "execute_result"
    }
   ],
   "source": [
    "lst2"
   ]
  },
  {
   "cell_type": "markdown",
   "id": "9effac2e",
   "metadata": {},
   "source": [
    "* Q4 explain difference between the union() and update() methods for a set.give an example of each method.\n",
    "\n",
    "* in union() function we need to store two sets into third set and an update() function updates one of those two sets."
   ]
  },
  {
   "cell_type": "code",
   "execution_count": 8,
   "id": "be591143",
   "metadata": {},
   "outputs": [],
   "source": [
    "s1={1,2,3,4,5,6,7}\n",
    "s2={5,6,7,8,9,10,11}"
   ]
  },
  {
   "cell_type": "code",
   "execution_count": 12,
   "id": "a65bbed2",
   "metadata": {},
   "outputs": [
    {
     "data": {
      "text/plain": [
       "{1, 2, 3, 4, 5, 6, 7, 8, 9, 10, 11}"
      ]
     },
     "execution_count": 12,
     "metadata": {},
     "output_type": "execute_result"
    }
   ],
   "source": [
    "s3=s1.union(s2)\n",
    "s3"
   ]
  },
  {
   "cell_type": "code",
   "execution_count": 10,
   "id": "fb310104",
   "metadata": {},
   "outputs": [],
   "source": [
    "s1.update(s2)"
   ]
  },
  {
   "cell_type": "code",
   "execution_count": 11,
   "id": "bc94c43c",
   "metadata": {},
   "outputs": [
    {
     "data": {
      "text/plain": [
       "{1, 2, 3, 4, 5, 6, 7, 8, 9, 10, 11}"
      ]
     },
     "execution_count": 11,
     "metadata": {},
     "output_type": "execute_result"
    }
   ],
   "source": [
    "s1"
   ]
  },
  {
   "cell_type": "markdown",
   "id": "3cf48435",
   "metadata": {},
   "source": [
    " * Q5.what is dictionary? give an example.also, state whether a dictonary is ordered or unordered.\n",
    " * dictonary is a key value pair data structure.\n",
    " * dictionary is ordered"
   ]
  },
  {
   "cell_type": "code",
   "execution_count": 13,
   "id": "0fee1888",
   "metadata": {},
   "outputs": [],
   "source": [
    "dic1={\"name\":\"prem\",\"surname\":\"shejole\"}"
   ]
  },
  {
   "cell_type": "code",
   "execution_count": 14,
   "id": "b15706b2",
   "metadata": {},
   "outputs": [
    {
     "data": {
      "text/plain": [
       "{'name': 'prem', 'surname': 'shejole'}"
      ]
     },
     "execution_count": 14,
     "metadata": {},
     "output_type": "execute_result"
    }
   ],
   "source": [
    "dic1"
   ]
  },
  {
   "cell_type": "markdown",
   "id": "1f210d9a",
   "metadata": {},
   "source": [
    "* Q6.can we create a nested dictionary? if so please give an example by creating a simple one level nested dictonary.\n",
    "* yes, we can create nested dictionary "
   ]
  },
  {
   "cell_type": "code",
   "execution_count": 21,
   "id": "7eff433f",
   "metadata": {},
   "outputs": [],
   "source": [
    "dic2={\"key1\":\"val1\",\"key2\":\"val2\",\"key3\":\"val3\",\"key5\":{\"key4\":\"val4\",\"key5\":\"val5\"}}"
   ]
  },
  {
   "cell_type": "code",
   "execution_count": 22,
   "id": "7b8c560a",
   "metadata": {},
   "outputs": [
    {
     "data": {
      "text/plain": [
       "{'key1': 'val1',\n",
       " 'key2': 'val2',\n",
       " 'key3': 'val3',\n",
       " 'key5': {'key4': 'val4', 'key5': 'val5'}}"
      ]
     },
     "execution_count": 22,
     "metadata": {},
     "output_type": "execute_result"
    }
   ],
   "source": [
    "dic2"
   ]
  },
  {
   "cell_type": "markdown",
   "id": "c578d08e",
   "metadata": {},
   "source": [
    "* Q7.using setdefault()method,create key named topics in the given dictonary and also add the value of the keyas this list\n",
    "[\"python,\"machine learning\",\"Deep learning\"]"
   ]
  },
  {
   "cell_type": "markdown",
   "id": "29b4aec0",
   "metadata": {},
   "source": [
    "#### setdefault: to add new key value pair"
   ]
  },
  {
   "cell_type": "code",
   "execution_count": 23,
   "id": "459b1dc2",
   "metadata": {},
   "outputs": [],
   "source": [
    "dic3={'language':'python','course':'Data Science Master'}"
   ]
  },
  {
   "cell_type": "code",
   "execution_count": 25,
   "id": "080f3be9",
   "metadata": {},
   "outputs": [
    {
     "data": {
      "text/plain": [
       "'machine learning'"
      ]
     },
     "execution_count": 25,
     "metadata": {},
     "output_type": "execute_result"
    }
   ],
   "source": [
    "dic3.setdefault('course1','machine learning')"
   ]
  },
  {
   "cell_type": "code",
   "execution_count": 26,
   "id": "f5ecd9f5",
   "metadata": {},
   "outputs": [
    {
     "data": {
      "text/plain": [
       "{'language': 'python',\n",
       " 'course': 'Data Science Master',\n",
       " 'course1': 'machine learning'}"
      ]
     },
     "execution_count": 26,
     "metadata": {},
     "output_type": "execute_result"
    }
   ],
   "source": [
    "dic3"
   ]
  },
  {
   "cell_type": "code",
   "execution_count": 28,
   "id": "7c5e35fa",
   "metadata": {},
   "outputs": [
    {
     "data": {
      "text/plain": [
       "'deep learning'"
      ]
     },
     "execution_count": 28,
     "metadata": {},
     "output_type": "execute_result"
    }
   ],
   "source": [
    "dic3.setdefault(\"course2\",\"deep learning\")"
   ]
  },
  {
   "cell_type": "code",
   "execution_count": 29,
   "id": "545dd634",
   "metadata": {},
   "outputs": [
    {
     "data": {
      "text/plain": [
       "{'language': 'python',\n",
       " 'course': 'Data Science Master',\n",
       " 'course1': 'machine learning',\n",
       " 'course2': 'deep learning'}"
      ]
     },
     "execution_count": 29,
     "metadata": {},
     "output_type": "execute_result"
    }
   ],
   "source": [
    "dic3"
   ]
  },
  {
   "cell_type": "markdown",
   "id": "496a0962",
   "metadata": {},
   "source": [
    "* Q8. what are three view objects in dictionaries? use three in-built methods in python to display these three view objects for the given dictionary."
   ]
  },
  {
   "cell_type": "code",
   "execution_count": 30,
   "id": "36208a76",
   "metadata": {},
   "outputs": [],
   "source": [
    "dict1={'sport':'cricket','Teams':['india','australia','england','south africa','lanka']}"
   ]
  },
  {
   "cell_type": "code",
   "execution_count": 31,
   "id": "ee929f64",
   "metadata": {},
   "outputs": [
    {
     "data": {
      "text/plain": [
       "dict_keys(['sport', 'Teams'])"
      ]
     },
     "execution_count": 31,
     "metadata": {},
     "output_type": "execute_result"
    }
   ],
   "source": [
    "dict1.keys()"
   ]
  },
  {
   "cell_type": "code",
   "execution_count": 32,
   "id": "24dd0d66",
   "metadata": {},
   "outputs": [
    {
     "data": {
      "text/plain": [
       "dict_values(['cricket', ['india', 'australia', 'england', 'south africa', 'lanka']])"
      ]
     },
     "execution_count": 32,
     "metadata": {},
     "output_type": "execute_result"
    }
   ],
   "source": [
    "dict1.values()"
   ]
  },
  {
   "cell_type": "code",
   "execution_count": 33,
   "id": "9fee4bf1",
   "metadata": {},
   "outputs": [
    {
     "data": {
      "text/plain": [
       "dict_items([('sport', 'cricket'), ('Teams', ['india', 'australia', 'england', 'south africa', 'lanka'])])"
      ]
     },
     "execution_count": 33,
     "metadata": {},
     "output_type": "execute_result"
    }
   ],
   "source": [
    "dict1.items()"
   ]
  },
  {
   "cell_type": "code",
   "execution_count": null,
   "id": "367a5d90",
   "metadata": {},
   "outputs": [],
   "source": []
  }
 ],
 "metadata": {
  "kernelspec": {
   "display_name": "Python 3 (ipykernel)",
   "language": "python",
   "name": "python3"
  },
  "language_info": {
   "codemirror_mode": {
    "name": "ipython",
    "version": 3
   },
   "file_extension": ".py",
   "mimetype": "text/x-python",
   "name": "python",
   "nbconvert_exporter": "python",
   "pygments_lexer": "ipython3",
   "version": "3.10.7"
  }
 },
 "nbformat": 4,
 "nbformat_minor": 5
}
