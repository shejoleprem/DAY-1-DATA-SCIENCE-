{
 "cells": [
  {
   "cell_type": "markdown",
   "id": "a590324f",
   "metadata": {},
   "source": [
    "## 6_march_assignment\n",
    "#### name:Prem Shejole"
   ]
  },
  {
   "cell_type": "code",
   "execution_count": 1,
   "id": "40394136",
   "metadata": {},
   "outputs": [],
   "source": [
    "#Q1. What is Statistics?\n",
    "# statistics is the science of collecting, organizing and analyzing the data"
   ]
  },
  {
   "cell_type": "code",
   "execution_count": 2,
   "id": "19ea48e5",
   "metadata": {},
   "outputs": [],
   "source": [
    "# Q2. Define the different types of statistics and give an example of when each type might be used.\n",
    "\n",
    "# -- Descriptive Statistics: it consist of organizing and summerizing the data. it includes measure of central tend#des z-test,t.test, hypothesisntesting"
   ]
  },
  {
   "cell_type": "code",
   "execution_count": 3,
   "id": "ac4e4491",
   "metadata": {},
   "outputs": [],
   "source": [
    "#Q3. What are the different types of data and how do they differ from each other? Provide an example ofeach type of data.\n",
    "# there are two types of data Qualitative data and Quantitative data. quantitative is numerical and qualitative data is categorical data."
   ]
  },
  {
   "cell_type": "code",
   "execution_count": 1,
   "id": "d7d93751",
   "metadata": {},
   "outputs": [],
   "source": [
    "# Q3. What are the different types of data and how do they differ from each other? Provide an example of each type of data.\n",
    "# quantitative data is numerical like ages, height of students in the class\n",
    "# qualitative data is categorical like gender, animal,fruit"
   ]
  },
  {
   "cell_type": "code",
   "execution_count": 2,
   "id": "8a517c45",
   "metadata": {},
   "outputs": [],
   "source": [
    "#Q4. Categorise the following datasets with respect to quantitative and qualitative data types:\n",
    "#(i) Grading in exam: A+, A, B+, B, C+, C, D, E\n",
    "# ans: qualitative data type\n",
    "\n",
    "#(ii) Colour of mangoes: yellow, green, orange, red\n",
    "# ans: qualitative datatype\n",
    "\n",
    "#(iii) Height data of a class: [178.9, 179, 179.5, 176, 177.2, 178.3, 175.8,...]\n",
    "# ans: quantitative data type\n",
    "\n",
    "#(iv) Number of mangoes exported by a farm: [500, 600, 478, 672, ...]\n",
    "# ans: quantitative data type"
   ]
  },
  {
   "cell_type": "code",
   "execution_count": 3,
   "id": "c65c4cb2",
   "metadata": {},
   "outputs": [],
   "source": [
    "#Q5. Explain the concept of levels of measurement and give an example of a variable for each level.\n",
    "# 1. Nominal Scale Data\n",
    "#- qualitative or categorical variable\n",
    "#- e.g gender , colors, labels\n",
    "\n",
    "# 2. Ordinal scale data\n",
    "#- Ranking and order matters\n",
    "#- difference can not be measured\n",
    "\n",
    "# 3.Interval Scale data\n",
    "#- Ranking and order matters\n",
    "#- difference can be measured excluding ratio\n",
    "#- does not have '0' starting value\n",
    "\n",
    "# 4.Ratio Scale Data\n",
    "#- Ranking and order matters\n",
    "#- difference can be measured excluding ratio\n",
    "#- does have '0' starting value"
   ]
  },
  {
   "cell_type": "code",
   "execution_count": 4,
   "id": "2873c965",
   "metadata": {},
   "outputs": [],
   "source": [
    "# Q6. Why is it important to understand the level of measurement when analyzing data? Provide an example to illustrate your answer.\n",
    "#- Levels of measurement are important because they indicate the extent to which statisticians, marketing analysts and financial analysts can use existing data\n",
    "#- if we classify our data at the ordinal level of measurement,we know that we can evaluate how items compare to each other based on a specific hierarchy."
   ]
  },
  {
   "cell_type": "code",
   "execution_count": 5,
   "id": "dd23d5da",
   "metadata": {},
   "outputs": [],
   "source": [
    "#Q7. How nominal data type is different from ordinal data type.\n",
    "#- nominal data can not ranked or ordered while ordinary data can be ranked or ordered."
   ]
  },
  {
   "cell_type": "code",
   "execution_count": 6,
   "id": "d18bf7bc",
   "metadata": {},
   "outputs": [],
   "source": [
    "#Q8. Which type of plot can be used to display data in terms of range?\n",
    "#- Histogram"
   ]
  },
  {
   "cell_type": "code",
   "execution_count": 7,
   "id": "4ab7d834",
   "metadata": {},
   "outputs": [],
   "source": [
    "# Q9. Describe the difference between descriptive and inferential statistics. Give an example of each type of statistics and explain how they are used.\n",
    "#- descriptive statistics: it consist of organizing and summerizing the data. it is used in quality assurence and in finance\n",
    "                        #  it consist measure of central tendency[mean,mode,median]\n",
    "                        # it consist measure of dispersion[varience, standard deviation]\n",
    "#- inferential statistics: it consist of using data you have measured to form conclusion.\n",
    "                        # z test, t test, hypothesis testing, p value, significance level"
   ]
  },
  {
   "cell_type": "code",
   "execution_count": null,
   "id": "33f12de1",
   "metadata": {},
   "outputs": [],
   "source": [
    "# Q10. What are some common measures of central tendency and variability used in statistics? Explain how each measure can be used to describe a dataset.\n",
    "#- mean, median, mode\n",
    "#- by using mean we can find average of attribute in the dataset\n",
    "#- by using median we take two values in the middle and take average of those.\n",
    "#- by using mode we can find most repeating value "
   ]
  }
 ],
 "metadata": {
  "kernelspec": {
   "display_name": "Python 3 (ipykernel)",
   "language": "python",
   "name": "python3"
  },
  "language_info": {
   "codemirror_mode": {
    "name": "ipython",
    "version": 3
   },
   "file_extension": ".py",
   "mimetype": "text/x-python",
   "name": "python",
   "nbconvert_exporter": "python",
   "pygments_lexer": "ipython3",
   "version": "3.10.7"
  }
 },
 "nbformat": 4,
 "nbformat_minor": 5
}
