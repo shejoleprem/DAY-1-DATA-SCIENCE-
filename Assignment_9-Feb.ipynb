{
 "cells": [
  {
   "cell_type": "markdown",
   "id": "b1727c59",
   "metadata": {},
   "source": [
    "# DATA SCIENCE MASTERS\n",
    "## Assignment_9Feb\n",
    "#### name:prem shejole"
   ]
  },
  {
   "cell_type": "markdown",
   "id": "cd78839c",
   "metadata": {},
   "source": [
    "### Q1, Create a vehicle class with an init method having instance variables as name_of_vehicle, max_speed and average_of_vehicle.\n"
   ]
  },
  {
   "cell_type": "code",
   "execution_count": 1,
   "id": "5849e493",
   "metadata": {},
   "outputs": [],
   "source": [
    "class vehicle:\n",
    "    def __init__(self,name,max_speed,avg):\n",
    "        self.name=name\n",
    "        self.max_speed=max_speed\n",
    "        self.avg=avg\n",
    "    def return_details(self):\n",
    "        return self.name,self.max_speed,self.avg"
   ]
  },
  {
   "cell_type": "code",
   "execution_count": 2,
   "id": "f8e6e4e4",
   "metadata": {},
   "outputs": [],
   "source": [
    "obj_vehicle=vehicle(\"Thar\",50,20)"
   ]
  },
  {
   "cell_type": "code",
   "execution_count": 4,
   "id": "dc41a006",
   "metadata": {},
   "outputs": [
    {
     "data": {
      "text/plain": [
       "('Thar', 50, 20)"
      ]
     },
     "execution_count": 4,
     "metadata": {},
     "output_type": "execute_result"
    }
   ],
   "source": [
    "obj_vehicle.return_details()"
   ]
  },
  {
   "cell_type": "code",
   "execution_count": 6,
   "id": "6987682e",
   "metadata": {},
   "outputs": [
    {
     "data": {
      "text/plain": [
       "'Thar'"
      ]
     },
     "execution_count": 6,
     "metadata": {},
     "output_type": "execute_result"
    }
   ],
   "source": [
    "obj_vehicle.name"
   ]
  },
  {
   "cell_type": "code",
   "execution_count": 7,
   "id": "62dbdbd6",
   "metadata": {},
   "outputs": [
    {
     "data": {
      "text/plain": [
       "20"
      ]
     },
     "execution_count": 7,
     "metadata": {},
     "output_type": "execute_result"
    }
   ],
   "source": [
    "obj_vehicle.avg"
   ]
  },
  {
   "cell_type": "code",
   "execution_count": null,
   "id": "ad4e6765",
   "metadata": {},
   "outputs": [],
   "source": []
  },
  {
   "cell_type": "markdown",
   "id": "3d0db73d",
   "metadata": {},
   "source": [
    "### Q2. Create a child class car from the vehicle class created in Que 1, which will inherit the vehicle class.\n",
    "* Create a method named seating_capacity which takes capacity as an argument and returns the name of\n",
    " the vehicle and its seating capacity."
   ]
  },
  {
   "cell_type": "code",
   "execution_count": 34,
   "id": "eb19ab28",
   "metadata": {},
   "outputs": [],
   "source": [
    "class car(vehicle):\n",
    "    def seating_capacity(self,capacity):\n",
    "        self.capacity=capacity\n",
    "        return self.capacity,self.name\n",
    "    "
   ]
  },
  {
   "cell_type": "code",
   "execution_count": 35,
   "id": "64f29327",
   "metadata": {},
   "outputs": [
    {
     "data": {
      "text/plain": [
       "(4, 'thar')"
      ]
     },
     "execution_count": 35,
     "metadata": {},
     "output_type": "execute_result"
    }
   ],
   "source": [
    "obj1=car('thar',20,10)\n",
    "obj1.seating_capacity(4)"
   ]
  },
  {
   "cell_type": "code",
   "execution_count": null,
   "id": "e3b7a7cb",
   "metadata": {},
   "outputs": [],
   "source": []
  },
  {
   "cell_type": "markdown",
   "id": "85aa9702",
   "metadata": {},
   "source": [
    "### Q3. What is multiple inheritance? Write a python code to demonstrate multiple inheritance.\n",
    "* in multiple inheritance class inherite more than one class"
   ]
  },
  {
   "cell_type": "code",
   "execution_count": 41,
   "id": "d7672c23",
   "metadata": {},
   "outputs": [],
   "source": [
    "class class1:\n",
    "    def tc1(self):\n",
    "        print(\"class 1\")"
   ]
  },
  {
   "cell_type": "code",
   "execution_count": 42,
   "id": "a7e6e208",
   "metadata": {},
   "outputs": [],
   "source": [
    "class class2:\n",
    "    def tc2(self):\n",
    "        print(\"class 2\")"
   ]
  },
  {
   "cell_type": "code",
   "execution_count": 43,
   "id": "1e72e515",
   "metadata": {},
   "outputs": [],
   "source": [
    "class class3(class1,class2):\n",
    "    def tc3(self):\n",
    "        print(\"class 3\")"
   ]
  },
  {
   "cell_type": "code",
   "execution_count": 44,
   "id": "09e0ab83",
   "metadata": {},
   "outputs": [],
   "source": [
    "obj2=class3()"
   ]
  },
  {
   "cell_type": "code",
   "execution_count": 46,
   "id": "c98cae5e",
   "metadata": {},
   "outputs": [
    {
     "name": "stdout",
     "output_type": "stream",
     "text": [
      "class 1\n"
     ]
    }
   ],
   "source": [
    "obj2.tc1()"
   ]
  },
  {
   "cell_type": "code",
   "execution_count": 47,
   "id": "36efd1da",
   "metadata": {},
   "outputs": [
    {
     "name": "stdout",
     "output_type": "stream",
     "text": [
      "class 2\n"
     ]
    }
   ],
   "source": [
    "obj2.tc2()"
   ]
  },
  {
   "cell_type": "code",
   "execution_count": 49,
   "id": "cb3fd8c2",
   "metadata": {},
   "outputs": [
    {
     "name": "stdout",
     "output_type": "stream",
     "text": [
      "class 3\n"
     ]
    }
   ],
   "source": [
    "obj2.tc3()"
   ]
  },
  {
   "cell_type": "markdown",
   "id": "901d722e",
   "metadata": {},
   "source": [
    "### Q4. What are getter and setter in python? Create a class and create a getter and a setter method in this class.\n",
    "* Getter: a method that allows us to access an attribute in a given class.\n",
    "* Setter: A method that allows us to set the values of an attribute in a class"
   ]
  },
  {
   "cell_type": "code",
   "execution_count": 93,
   "id": "c6b32b87",
   "metadata": {},
   "outputs": [],
   "source": [
    "class person:\n",
    "    def __init__(self, name,surname,age):\n",
    "        self.__age=age\n",
    "        self.__name=name\n",
    "        self.__surname=surname\n",
    "    def setage(self,age):\n",
    "        self.__age=age\n",
    "        \n",
    "    def getage(self):\n",
    "        return self.__age"
   ]
  },
  {
   "cell_type": "code",
   "execution_count": 94,
   "id": "277c39be",
   "metadata": {},
   "outputs": [],
   "source": [
    "obj3=person(\"prem\",\"shejole\",20)"
   ]
  },
  {
   "cell_type": "code",
   "execution_count": 95,
   "id": "04e20567",
   "metadata": {},
   "outputs": [
    {
     "data": {
      "text/plain": [
       "'prem'"
      ]
     },
     "execution_count": 95,
     "metadata": {},
     "output_type": "execute_result"
    }
   ],
   "source": [
    "obj3._person__name"
   ]
  },
  {
   "cell_type": "code",
   "execution_count": 96,
   "id": "8a4b627f",
   "metadata": {},
   "outputs": [
    {
     "data": {
      "text/plain": [
       "20"
      ]
     },
     "execution_count": 96,
     "metadata": {},
     "output_type": "execute_result"
    }
   ],
   "source": [
    "obj3.getage()"
   ]
  },
  {
   "cell_type": "code",
   "execution_count": 97,
   "id": "9d70ed9f",
   "metadata": {},
   "outputs": [],
   "source": [
    "obj3.setage(17)"
   ]
  },
  {
   "cell_type": "code",
   "execution_count": 98,
   "id": "5313ae4f",
   "metadata": {},
   "outputs": [
    {
     "data": {
      "text/plain": [
       "17"
      ]
     },
     "execution_count": 98,
     "metadata": {},
     "output_type": "execute_result"
    }
   ],
   "source": [
    "obj3._person__age"
   ]
  },
  {
   "cell_type": "code",
   "execution_count": 99,
   "id": "ee24ffc5",
   "metadata": {},
   "outputs": [
    {
     "data": {
      "text/plain": [
       "17"
      ]
     },
     "execution_count": 99,
     "metadata": {},
     "output_type": "execute_result"
    }
   ],
   "source": [
    "obj3.getage()"
   ]
  },
  {
   "cell_type": "markdown",
   "id": "91ef6887",
   "metadata": {},
   "source": [
    "### Q5.What is method overriding in python? Write a python code to demonstrate method overriding.\n",
    "* when a method in a subclass has the same name, same parameter and same return type."
   ]
  },
  {
   "cell_type": "code",
   "execution_count": 1,
   "id": "5f9d4d01",
   "metadata": {},
   "outputs": [],
   "source": [
    "class Parent():\n",
    "    def __init__(self):\n",
    "        self.value = \"Inside Parent\"\n",
    "    def show(self):\n",
    "        print(self.value)\n",
    "\n",
    "class Child(Parent):\n",
    "\n",
    "    def __init__(self):\n",
    "        self.value = \"Inside Child\"\n",
    "        \n",
    "    def show(self):\n",
    "        print(self.value)\n",
    "          "
   ]
  },
  {
   "cell_type": "code",
   "execution_count": 2,
   "id": "0b1da7d8",
   "metadata": {},
   "outputs": [
    {
     "name": "stdout",
     "output_type": "stream",
     "text": [
      "Inside Parent\n",
      "Inside Child\n"
     ]
    }
   ],
   "source": [
    "obj1 = Parent()\n",
    "obj2 = Child()\n",
    "  \n",
    "obj1.show()\n",
    "obj2.show()"
   ]
  },
  {
   "cell_type": "code",
   "execution_count": 3,
   "id": "1ced09e3",
   "metadata": {},
   "outputs": [
    {
     "name": "stdout",
     "output_type": "stream",
     "text": [
      "hello\n"
     ]
    }
   ],
   "source": [
    "print(\"hello\")"
   ]
  },
  {
   "cell_type": "code",
   "execution_count": null,
   "id": "ad28c051",
   "metadata": {},
   "outputs": [],
   "source": []
  }
 ],
 "metadata": {
  "kernelspec": {
   "display_name": "Python 3 (ipykernel)",
   "language": "python",
   "name": "python3"
  },
  "language_info": {
   "codemirror_mode": {
    "name": "ipython",
    "version": 3
   },
   "file_extension": ".py",
   "mimetype": "text/x-python",
   "name": "python",
   "nbconvert_exporter": "python",
   "pygments_lexer": "ipython3",
   "version": "3.10.7"
  }
 },
 "nbformat": 4,
 "nbformat_minor": 5
}
