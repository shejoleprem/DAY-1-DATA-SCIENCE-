{
 "cells": [
  {
   "cell_type": "markdown",
   "id": "c000d4cb",
   "metadata": {},
   "source": [
    "# DATA SCIENCE MASTERS\n",
    "## Assignment_6(5-Feb)\n",
    "### Name:Prem Shejole\n"
   ]
  },
  {
   "cell_type": "markdown",
   "id": "cd4242a6",
   "metadata": {},
   "source": [
    "### Q1. Explain Class and Object with respect to Object-Oriented Programming. Give a suitable example.\n",
    "\n",
    "* a class in oop is a blueprint or prototype that defines the variables and the methods common to all objects of certain kind.\n",
    "* an object in oops is a specimen of a class."
   ]
  },
  {
   "cell_type": "code",
   "execution_count": 1,
   "id": "32c9562b",
   "metadata": {},
   "outputs": [],
   "source": [
    "class test:\n",
    "    def test_class(self):\n",
    "        print(\"hello\")"
   ]
  },
  {
   "cell_type": "code",
   "execution_count": 2,
   "id": "c7d339a3",
   "metadata": {},
   "outputs": [],
   "source": [
    "obj=test()"
   ]
  },
  {
   "cell_type": "code",
   "execution_count": 3,
   "id": "fe74e410",
   "metadata": {},
   "outputs": [
    {
     "name": "stdout",
     "output_type": "stream",
     "text": [
      "hello\n"
     ]
    }
   ],
   "source": [
    "obj.test_class()"
   ]
  },
  {
   "cell_type": "code",
   "execution_count": null,
   "id": "ff79b11e",
   "metadata": {},
   "outputs": [],
   "source": []
  },
  {
   "cell_type": "markdown",
   "id": "778e9d99",
   "metadata": {},
   "source": [
    "### Q2. Name the four pillars of OOPs.\n",
    "* Abstraction\n",
    "* inheritance\n",
    "* polymorphism\n",
    "* Encapsulation"
   ]
  },
  {
   "cell_type": "code",
   "execution_count": null,
   "id": "bdec53b2",
   "metadata": {},
   "outputs": [],
   "source": []
  },
  {
   "cell_type": "markdown",
   "id": "2d50fbcd",
   "metadata": {},
   "source": [
    "###  Q3.Explain why the __init__() function is used. Give a suitable example.\n",
    "* it used to declare the cunstructer of class"
   ]
  },
  {
   "cell_type": "code",
   "execution_count": 8,
   "id": "1262e2b5",
   "metadata": {},
   "outputs": [],
   "source": [
    "class test1:\n",
    "    def __init__(self,name,surname):\n",
    "        self.name=name;\n",
    "        self.surname=surname;\n",
    "    def details(self):\n",
    "        return self.name,self.surname"
   ]
  },
  {
   "cell_type": "code",
   "execution_count": 9,
   "id": "277dd3d8",
   "metadata": {},
   "outputs": [],
   "source": [
    "obj1=test1(\"prem \",\"shejole\")"
   ]
  },
  {
   "cell_type": "code",
   "execution_count": 10,
   "id": "1aba7e5e",
   "metadata": {},
   "outputs": [
    {
     "data": {
      "text/plain": [
       "('prem ', 'shejole')"
      ]
     },
     "execution_count": 10,
     "metadata": {},
     "output_type": "execute_result"
    }
   ],
   "source": [
    "obj1.details()"
   ]
  },
  {
   "cell_type": "markdown",
   "id": "4af0fb2d",
   "metadata": {},
   "source": [
    "### Q.4 Why self is used in OOPs?\n",
    "* self is a reference variable which refers to the class"
   ]
  },
  {
   "cell_type": "markdown",
   "id": "e832c707",
   "metadata": {},
   "source": [
    "### Q.5 What is inheritance? Give an example for each type of inheritance.\n",
    "* it is a process of obtaining properties and characteristics(variables and methods) of another class"
   ]
  },
  {
   "cell_type": "markdown",
   "id": "9a059af8",
   "metadata": {},
   "source": [
    "#### single inheritance"
   ]
  },
  {
   "cell_type": "code",
   "execution_count": 11,
   "id": "cc9dc0b0",
   "metadata": {},
   "outputs": [],
   "source": [
    "#single inheritance\n",
    "class parent:\n",
    "    def test1(self):\n",
    "        print(\"this is parent\")"
   ]
  },
  {
   "cell_type": "code",
   "execution_count": 14,
   "id": "d83eafc9",
   "metadata": {},
   "outputs": [],
   "source": [
    "class child(parent):\n",
    "    def test2(self):\n",
    "        print(\"this is child\")"
   ]
  },
  {
   "cell_type": "code",
   "execution_count": 15,
   "id": "ae21cf52",
   "metadata": {},
   "outputs": [
    {
     "name": "stdout",
     "output_type": "stream",
     "text": [
      "this is parent\n"
     ]
    }
   ],
   "source": [
    "obj=child();\n",
    "obj.test1()"
   ]
  },
  {
   "cell_type": "code",
   "execution_count": 16,
   "id": "7e9f88cb",
   "metadata": {},
   "outputs": [
    {
     "name": "stdout",
     "output_type": "stream",
     "text": [
      "this is child\n"
     ]
    }
   ],
   "source": [
    "obj.test2()"
   ]
  },
  {
   "cell_type": "markdown",
   "id": "cb8dedd5",
   "metadata": {},
   "source": [
    "#### multiple inheritance"
   ]
  },
  {
   "cell_type": "code",
   "execution_count": 17,
   "id": "170c507e",
   "metadata": {},
   "outputs": [],
   "source": [
    "# multiple inheritance\n",
    "class class1:\n",
    "    def test_cl1(self):\n",
    "        print(\"this is class 1\")"
   ]
  },
  {
   "cell_type": "code",
   "execution_count": 18,
   "id": "2f211211",
   "metadata": {},
   "outputs": [],
   "source": [
    "class class2:\n",
    "    def test_cl2(self):\n",
    "        print(\"this is class 2\")"
   ]
  },
  {
   "cell_type": "code",
   "execution_count": 19,
   "id": "7265a8ca",
   "metadata": {},
   "outputs": [],
   "source": [
    "class class3(class1,class2):\n",
    "    def test_cl3(self):\n",
    "        print(\"this is class 3\")"
   ]
  },
  {
   "cell_type": "code",
   "execution_count": 20,
   "id": "bdb06231",
   "metadata": {},
   "outputs": [],
   "source": [
    "obj3=class3()"
   ]
  },
  {
   "cell_type": "code",
   "execution_count": 21,
   "id": "355277d8",
   "metadata": {},
   "outputs": [
    {
     "name": "stdout",
     "output_type": "stream",
     "text": [
      "this is class 1\n"
     ]
    }
   ],
   "source": [
    "obj3.test_cl1()"
   ]
  },
  {
   "cell_type": "code",
   "execution_count": 22,
   "id": "ee557b7f",
   "metadata": {},
   "outputs": [
    {
     "name": "stdout",
     "output_type": "stream",
     "text": [
      "this is class 2\n"
     ]
    }
   ],
   "source": [
    "obj3.test_cl2()"
   ]
  },
  {
   "cell_type": "code",
   "execution_count": 23,
   "id": "f852f301",
   "metadata": {},
   "outputs": [
    {
     "name": "stdout",
     "output_type": "stream",
     "text": [
      "this is class 3\n"
     ]
    }
   ],
   "source": [
    "obj3.test_cl3()"
   ]
  },
  {
   "cell_type": "markdown",
   "id": "4cc53440",
   "metadata": {},
   "source": [
    "#### multilevel inheritance"
   ]
  },
  {
   "cell_type": "code",
   "execution_count": 24,
   "id": "2aa8aecf",
   "metadata": {},
   "outputs": [],
   "source": [
    "class class1:\n",
    "    def tl1(self):\n",
    "        print(\"this is class 1\")"
   ]
  },
  {
   "cell_type": "code",
   "execution_count": 25,
   "id": "09ef540f",
   "metadata": {},
   "outputs": [],
   "source": [
    "class class2(class1):\n",
    "    def tl2(self):\n",
    "        print(\"this is class 2\")"
   ]
  },
  {
   "cell_type": "code",
   "execution_count": 26,
   "id": "aa73bea9",
   "metadata": {},
   "outputs": [],
   "source": [
    "class class3(class2):\n",
    "    def tl3(self):\n",
    "        print(\"this is class 3\")"
   ]
  },
  {
   "cell_type": "code",
   "execution_count": 27,
   "id": "be51d3cb",
   "metadata": {},
   "outputs": [],
   "source": [
    "obj4=class3()"
   ]
  },
  {
   "cell_type": "code",
   "execution_count": 28,
   "id": "c63a6b19",
   "metadata": {},
   "outputs": [
    {
     "name": "stdout",
     "output_type": "stream",
     "text": [
      "this is class1\n"
     ]
    }
   ],
   "source": [
    "obj4.tl1()"
   ]
  },
  {
   "cell_type": "code",
   "execution_count": 29,
   "id": "cf0ca86c",
   "metadata": {},
   "outputs": [
    {
     "name": "stdout",
     "output_type": "stream",
     "text": [
      "this is class2\n"
     ]
    }
   ],
   "source": [
    "obj4.tl2()"
   ]
  },
  {
   "cell_type": "code",
   "execution_count": 30,
   "id": "41e8c441",
   "metadata": {},
   "outputs": [
    {
     "name": "stdout",
     "output_type": "stream",
     "text": [
      "this is class 3\n"
     ]
    }
   ],
   "source": [
    "obj4.tl3()"
   ]
  },
  {
   "cell_type": "code",
   "execution_count": null,
   "id": "e20c0a71",
   "metadata": {},
   "outputs": [],
   "source": []
  }
 ],
 "metadata": {
  "kernelspec": {
   "display_name": "Python 3 (ipykernel)",
   "language": "python",
   "name": "python3"
  },
  "language_info": {
   "codemirror_mode": {
    "name": "ipython",
    "version": 3
   },
   "file_extension": ".py",
   "mimetype": "text/x-python",
   "name": "python",
   "nbconvert_exporter": "python",
   "pygments_lexer": "ipython3",
   "version": "3.10.7"
  }
 },
 "nbformat": 4,
 "nbformat_minor": 5
}
