{
 "cells": [
  {
   "cell_type": "markdown",
   "id": "9a3a2c6b",
   "metadata": {},
   "source": [
    "# Assignment_4-3 feb"
   ]
  },
  {
   "cell_type": "markdown",
   "id": "9654e0ba",
   "metadata": {},
   "source": [
    "* Q1.which keyword is used to create a function?create a function to return a list of add numbers in the range of 1 to 25.\n",
    "* def keyword is used "
   ]
  },
  {
   "cell_type": "code",
   "execution_count": 3,
   "id": "78d490f3",
   "metadata": {},
   "outputs": [],
   "source": [
    "def odd_fun(l):\n",
    "    n=[]\n",
    "    for i in l:\n",
    "        if i%2!=0:\n",
    "            n.append(i)\n",
    "    return n"
   ]
  },
  {
   "cell_type": "code",
   "execution_count": 4,
   "id": "a8ab41d9",
   "metadata": {},
   "outputs": [
    {
     "data": {
      "text/plain": [
       "[1, 3, 5, 7, 9, 11, 13, 15, 17, 19, 21, 23, 25]"
      ]
     },
     "execution_count": 4,
     "metadata": {},
     "output_type": "execute_result"
    }
   ],
   "source": [
    "l=[1,2,3,4,5,6,7,8,9,10,11,12,13,14,15,16,17,18,19,20,21,22,23,24,25]\n",
    "odd_fun(l)"
   ]
  },
  {
   "cell_type": "markdown",
   "id": "f6dd090f",
   "metadata": {},
   "source": [
    "* Q5.why *args and **kwargs is used in some functions? create function for *args and **kwargs to demonstrate their use.\n",
    "\n",
    "*  args is used for taking n number of single inputs while kwargs is used to take n inputs in form of keyvalue pair"
   ]
  },
  {
   "cell_type": "code",
   "execution_count": 2,
   "id": "1dbdd67a",
   "metadata": {},
   "outputs": [],
   "source": [
    "def test1(*args):\n",
    "    return args\n",
    "    "
   ]
  },
  {
   "cell_type": "code",
   "execution_count": 3,
   "id": "a83acb4f",
   "metadata": {},
   "outputs": [
    {
     "data": {
      "text/plain": [
       "(1, 2, 4, 5, 6)"
      ]
     },
     "execution_count": 3,
     "metadata": {},
     "output_type": "execute_result"
    }
   ],
   "source": [
    "test1(1,2,4,5,6)"
   ]
  },
  {
   "cell_type": "code",
   "execution_count": 4,
   "id": "48200333",
   "metadata": {},
   "outputs": [],
   "source": [
    "def test2(**kwargs):\n",
    "    return kwargs"
   ]
  },
  {
   "cell_type": "code",
   "execution_count": 6,
   "id": "1febf16a",
   "metadata": {},
   "outputs": [
    {
     "data": {
      "text/plain": [
       "{'a': 12, 'b': 13, 'c': 14}"
      ]
     },
     "execution_count": 6,
     "metadata": {},
     "output_type": "execute_result"
    }
   ],
   "source": [
    "test2(a=12,b=13,c=14)"
   ]
  },
  {
   "cell_type": "code",
   "execution_count": 7,
   "id": "58587b3f",
   "metadata": {},
   "outputs": [],
   "source": [
    "def test3(*args,**kwargs):\n",
    "    return args,kwargs"
   ]
  },
  {
   "cell_type": "code",
   "execution_count": 8,
   "id": "b12063e6",
   "metadata": {},
   "outputs": [
    {
     "data": {
      "text/plain": [
       "((1, 2, 3, 4, 5, 6), {'a': 1, 'b': 2, 'c': 3, 'd': 4})"
      ]
     },
     "execution_count": 8,
     "metadata": {},
     "output_type": "execute_result"
    }
   ],
   "source": [
    "test3(1,2,3,4,5,6,a=1,b=2,c=3,d=4)"
   ]
  },
  {
   "cell_type": "markdown",
   "id": "ed161ff2",
   "metadata": {},
   "source": [
    "* Q.3 what is an iterator in python? name the method used to initialise the iterator object and the method used for iteration.use these methods to print the first five elements of the given elements\n",
    "* iterator in python is an object that used to iterate over iterable objects like lists, tuples, dicts and sets.\n",
    "* the iterator object is initialized using iter() method.\n",
    "* it uses the next() method for iteration."
   ]
  },
  {
   "cell_type": "code",
   "execution_count": 9,
   "id": "961ed519",
   "metadata": {},
   "outputs": [],
   "source": [
    "list1=[2,4,6,8,10,12,14,16,18,20]"
   ]
  },
  {
   "cell_type": "code",
   "execution_count": 10,
   "id": "86ccada2",
   "metadata": {},
   "outputs": [
    {
     "name": "stdout",
     "output_type": "stream",
     "text": [
      "2\n",
      "4\n",
      "6\n",
      "8\n",
      "10\n"
     ]
    }
   ],
   "source": [
    "num=iter(list1)\n",
    "print(next(num))\n",
    "print(next(num))\n",
    "print(next(num))\n",
    "print(next(num))\n",
    "print(next(num))"
   ]
  },
  {
   "cell_type": "markdown",
   "id": "182a1873",
   "metadata": {},
   "source": [
    "* Q.4 what is a generator function in python? why yield keyword is used?give an example of generator function.\n",
    "* generator function returns an iterator that produces a sequence of values when iterated over.\n",
    "* yield keyword will convert an expression that specified along with it to generator iterator and return it to caller."
   ]
  },
  {
   "cell_type": "code",
   "execution_count": 12,
   "id": "a9424cf3",
   "metadata": {},
   "outputs": [
    {
     "name": "stdout",
     "output_type": "stream",
     "text": [
      "<generator object print_even at 0x0000025455D49460>\n"
     ]
    }
   ],
   "source": [
    "# printing even numbers using generator function\n",
    "\n",
    "def print_even(lst):\n",
    "    for i in lst:\n",
    "        if i%2==0:\n",
    "            yield i\n",
    "            \n",
    "lst=[1,2,3,4,5,6,7,9]\n",
    "print_even(lst)"
   ]
  },
  {
   "cell_type": "code",
   "execution_count": 13,
   "id": "8d0c807a",
   "metadata": {},
   "outputs": [
    {
     "name": "stdout",
     "output_type": "stream",
     "text": [
      "2\n",
      "4\n",
      "6\n"
     ]
    }
   ],
   "source": [
    "for i in print_even(lst):\n",
    "    print(i)"
   ]
  },
  {
   "cell_type": "markdown",
   "id": "6ec9b26f",
   "metadata": {},
   "source": [
    "* Q.5 create a generator function  for prime numbers less that 1000.use the next() method to print first 20 prime numbers."
   ]
  },
  {
   "cell_type": "code",
   "execution_count": 22,
   "id": "a319596b",
   "metadata": {},
   "outputs": [],
   "source": [
    "def primenum(n):\n",
    "    prime=True\n",
    "    i=2\n",
    "    lst=[]\n",
    "    while(i<2):\n",
    "        for j in range(2,i):\n",
    "            if(i%a==0):\n",
    "                prime=False\n",
    "                break\n",
    "        if(prime):\n",
    "            yield i\n",
    "            lst.add(i)\n",
    "            i+=1"
   ]
  },
  {
   "cell_type": "code",
   "execution_count": 23,
   "id": "bbd4081e",
   "metadata": {},
   "outputs": [
    {
     "data": {
      "text/plain": [
       "<generator object primenum at 0x0000025455D4AD50>"
      ]
     },
     "execution_count": 23,
     "metadata": {},
     "output_type": "execute_result"
    }
   ],
   "source": [
    "primenum(1000)"
   ]
  },
  {
   "cell_type": "code",
   "execution_count": 24,
   "id": "bfe8700b",
   "metadata": {},
   "outputs": [
    {
     "data": {
      "text/plain": [
       "[1, 2, 3, 4, 5, 6, 7, 9]"
      ]
     },
     "execution_count": 24,
     "metadata": {},
     "output_type": "execute_result"
    }
   ],
   "source": [
    "lst"
   ]
  },
  {
   "cell_type": "markdown",
   "id": "03515c89",
   "metadata": {},
   "source": [
    "* create a generator function for prime numbers less than 1000.use the next() method to print first 20 prime numbers. "
   ]
  },
  {
   "cell_type": "code",
   "execution_count": 25,
   "id": "cdbb0f1c",
   "metadata": {},
   "outputs": [
    {
     "name": "stdout",
     "output_type": "stream",
     "text": [
      "2\n",
      "3\n",
      "5\n",
      "7\n",
      "11\n",
      "13\n",
      "17\n",
      "19\n",
      "23\n",
      "29\n",
      "31\n",
      "37\n",
      "41\n",
      "43\n",
      "47\n",
      "53\n",
      "59\n",
      "61\n",
      "67\n",
      "71\n"
     ]
    }
   ],
   "source": [
    "def prime_numbers():\n",
    "    yield 2\n",
    "    p = [2]\n",
    "    number = 3\n",
    "    while number < 1000:\n",
    "        is_prime = True\n",
    "        for prime in p:\n",
    "            if prime > number ** 0.5:\n",
    "                break\n",
    "            if number % prime == 0:\n",
    "                is_prime = False\n",
    "                break\n",
    "        if is_prime:\n",
    "            p.append(number)\n",
    "            yield number\n",
    "        number += 2\n",
    "\n",
    "p = prime_numbers()\n",
    "for i in range(20):\n",
    "    print(next(p))"
   ]
  },
  {
   "cell_type": "code",
   "execution_count": null,
   "id": "84198073",
   "metadata": {},
   "outputs": [],
   "source": []
  }
 ],
 "metadata": {
  "kernelspec": {
   "display_name": "Python 3 (ipykernel)",
   "language": "python",
   "name": "python3"
  },
  "language_info": {
   "codemirror_mode": {
    "name": "ipython",
    "version": 3
   },
   "file_extension": ".py",
   "mimetype": "text/x-python",
   "name": "python",
   "nbconvert_exporter": "python",
   "pygments_lexer": "ipython3",
   "version": "3.10.7"
  }
 },
 "nbformat": 4,
 "nbformat_minor": 5
}
